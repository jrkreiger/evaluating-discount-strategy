{
 "cells": [
  {
   "cell_type": "markdown",
   "metadata": {},
   "source": [
    "Project 1 Submission\n",
    "\n",
    "* Student name: Jenny Kreiger\n",
    "* Student pace: full time\n",
    "* Scheduled project review date/time: Tuesday, 10/15/19, 08:30 PDT\n",
    "* Instructor name: Victor Geislinger\n",
    "* Blog post URL: "
   ]
  },
  {
   "cell_type": "markdown",
   "metadata": {},
   "source": [
    "# Introduction"
   ]
  },
  {
   "cell_type": "markdown",
   "metadata": {},
   "source": [
    "This project uses data from the Northwind database to answer questions about the (fictional) Northwind company's discounting strategy. [Microsoft created the Northwind database](https://docs.microsoft.com/en-us/dotnet/framework/data/adonet/sql/linq/downloading-sample-databases) to use as a sample in its Access and SQL Server applications; the database represents internal records for a specialty food import/export business. The database contains tables for customer orders, details on the products themselves, and information about employees and customers, among other things. This project focuses on the data about orders and products.\n",
    "\n",
    "For this project, I am examining the Northwind company's discounting strategy using hypothesis testing. In particular, I want to determine what effect (if any) discounts have on the quantities and total dollar values of products that Northwind customers order. I am also interested in whether any one discount level (5%, 10%, etc.) is more or less effective at raising order quantities or values than the others, or whether there is a category of products (Beverages, Condiments, etc.) where discounting is more or less effective compared to the other categories.\n",
    "\n",
    "My findings are summarized in the **Interpretations and recommendations** section below."
   ]
  },
  {
   "cell_type": "markdown",
   "metadata": {
    "heading_collapsed": true
   },
   "source": [
    "# Extract the data"
   ]
  },
  {
   "cell_type": "markdown",
   "metadata": {
    "hidden": true
   },
   "source": [
    "To start off, I will import the packages I need. Note that I am importing some custom functions for conducting Welch's t-test (`welch_functions`); these were created as part of my bootcamp curriculum at Flatiron School."
   ]
  },
  {
   "cell_type": "code",
   "execution_count": 1,
   "metadata": {
    "ExecuteTime": {
     "end_time": "2019-10-08T20:27:47.134043Z",
     "start_time": "2019-10-08T20:27:43.467567Z"
    },
    "hidden": true
   },
   "outputs": [],
   "source": [
    "# Import needed packages\n",
    "import pandas as pd\n",
    "import numpy as np\n",
    "import matplotlib.pyplot as plt\n",
    "%matplotlib inline\n",
    "\n",
    "import seaborn as sns\n",
    "sns.set_context('talk')\n",
    "\n",
    "import scipy.stats as stats\n",
    "import sqlite3\n",
    "\n",
    "from welch_functions import *\n",
    "\n",
    "import scipy.stats as stats\n",
    "\n",
    "import statsmodels.api as sm\n",
    "from statsmodels.stats.power import TTestIndPower, TTestPower\n",
    "from statsmodels.formula.api import ols\n",
    "from statsmodels.stats.multicomp import pairwise_tukeyhsd, MultiComparison\n",
    "\n",
    "import warnings\n",
    "warnings.simplefilter(\"ignore\")"
   ]
  },
  {
   "cell_type": "markdown",
   "metadata": {
    "hidden": true
   },
   "source": [
    "The data is stored in a database in the same repository as this notebook. Here I connect to the database:"
   ]
  },
  {
   "cell_type": "code",
   "execution_count": 2,
   "metadata": {
    "ExecuteTime": {
     "end_time": "2019-10-08T20:27:48.382658Z",
     "start_time": "2019-10-08T20:27:48.378147Z"
    },
    "hidden": true
   },
   "outputs": [],
   "source": [
    "# Set up connection to the database\n",
    "conn = sqlite3.connect('Northwind_small.sqlite')\n",
    "cur = conn.cursor()"
   ]
  },
  {
   "cell_type": "markdown",
   "metadata": {
    "hidden": true
   },
   "source": [
    "Having looked at the database schema (you can view a diagram in the repo), I know that I want to pull data from a couple of tables at once. The query below takes most of the data from the `OrderDetail` table and joins on some fields about product names and categories from the `Product` and `Category` tables."
   ]
  },
  {
   "cell_type": "code",
   "execution_count": 3,
   "metadata": {
    "ExecuteTime": {
     "end_time": "2019-10-08T20:27:49.587278Z",
     "start_time": "2019-10-08T20:27:49.530482Z"
    },
    "hidden": true,
    "scrolled": false
   },
   "outputs": [
    {
     "data": {
      "text/html": [
       "<div>\n",
       "<style scoped>\n",
       "    .dataframe tbody tr th:only-of-type {\n",
       "        vertical-align: middle;\n",
       "    }\n",
       "\n",
       "    .dataframe tbody tr th {\n",
       "        vertical-align: top;\n",
       "    }\n",
       "\n",
       "    .dataframe thead th {\n",
       "        text-align: right;\n",
       "    }\n",
       "</style>\n",
       "<table border=\"1\" class=\"dataframe\">\n",
       "  <thead>\n",
       "    <tr style=\"text-align: right;\">\n",
       "      <th></th>\n",
       "      <th>OrderId</th>\n",
       "      <th>ProductId</th>\n",
       "      <th>UnitPrice</th>\n",
       "      <th>Quantity</th>\n",
       "      <th>Discount</th>\n",
       "      <th>ProductName</th>\n",
       "      <th>CategoryID</th>\n",
       "      <th>CategoryName</th>\n",
       "    </tr>\n",
       "  </thead>\n",
       "  <tbody>\n",
       "    <tr>\n",
       "      <th>0</th>\n",
       "      <td>10248</td>\n",
       "      <td>11</td>\n",
       "      <td>14.0</td>\n",
       "      <td>12</td>\n",
       "      <td>0.0</td>\n",
       "      <td>Queso Cabrales</td>\n",
       "      <td>4</td>\n",
       "      <td>Dairy Products</td>\n",
       "    </tr>\n",
       "    <tr>\n",
       "      <th>1</th>\n",
       "      <td>10248</td>\n",
       "      <td>42</td>\n",
       "      <td>9.8</td>\n",
       "      <td>10</td>\n",
       "      <td>0.0</td>\n",
       "      <td>Singaporean Hokkien Fried Mee</td>\n",
       "      <td>5</td>\n",
       "      <td>Grains/Cereals</td>\n",
       "    </tr>\n",
       "    <tr>\n",
       "      <th>2</th>\n",
       "      <td>10248</td>\n",
       "      <td>72</td>\n",
       "      <td>34.8</td>\n",
       "      <td>5</td>\n",
       "      <td>0.0</td>\n",
       "      <td>Mozzarella di Giovanni</td>\n",
       "      <td>4</td>\n",
       "      <td>Dairy Products</td>\n",
       "    </tr>\n",
       "    <tr>\n",
       "      <th>3</th>\n",
       "      <td>10249</td>\n",
       "      <td>14</td>\n",
       "      <td>18.6</td>\n",
       "      <td>9</td>\n",
       "      <td>0.0</td>\n",
       "      <td>Tofu</td>\n",
       "      <td>7</td>\n",
       "      <td>Produce</td>\n",
       "    </tr>\n",
       "    <tr>\n",
       "      <th>4</th>\n",
       "      <td>10249</td>\n",
       "      <td>51</td>\n",
       "      <td>42.4</td>\n",
       "      <td>40</td>\n",
       "      <td>0.0</td>\n",
       "      <td>Manjimup Dried Apples</td>\n",
       "      <td>7</td>\n",
       "      <td>Produce</td>\n",
       "    </tr>\n",
       "  </tbody>\n",
       "</table>\n",
       "</div>"
      ],
      "text/plain": [
       "   OrderId  ProductId  UnitPrice  Quantity  Discount  \\\n",
       "0    10248         11       14.0        12       0.0   \n",
       "1    10248         42        9.8        10       0.0   \n",
       "2    10248         72       34.8         5       0.0   \n",
       "3    10249         14       18.6         9       0.0   \n",
       "4    10249         51       42.4        40       0.0   \n",
       "\n",
       "                     ProductName  CategoryID    CategoryName  \n",
       "0                 Queso Cabrales           4  Dairy Products  \n",
       "1  Singaporean Hokkien Fried Mee           5  Grains/Cereals  \n",
       "2         Mozzarella di Giovanni           4  Dairy Products  \n",
       "3                           Tofu           7         Produce  \n",
       "4          Manjimup Dried Apples           7         Produce  "
      ]
     },
     "execution_count": 3,
     "metadata": {},
     "output_type": "execute_result"
    }
   ],
   "source": [
    "# Query the database and load the data\n",
    "cur.execute(\"\"\"\n",
    "    SELECT o.OrderID, o.ProductID, o.UnitPrice, o.Quantity, o.Discount,\n",
    "        p.ProductName, c.ID AS CategoryID, c.CategoryName\n",
    "    FROM OrderDetail o\n",
    "        JOIN Product p\n",
    "            ON o.ProductID = p.ID\n",
    "        JOIN Category c\n",
    "            ON p.CategoryID = c.ID\n",
    "            ;\"\"\")\n",
    "df = pd.DataFrame(cur.fetchall())\n",
    "df.columns = [x[0] for x in cur.description]\n",
    "df.head()"
   ]
  },
  {
   "cell_type": "markdown",
   "metadata": {
    "hidden": true
   },
   "source": [
    "A quick look at the DataFrame above reveals that each row represents an instance of a product in an order. Each `OrderId` can appear more than once (one time for each distinct product in that order). Each `ProductId` can also appear multiple times in the dataset, but a given ID will probably not appear more than once per order (unless, for some reason, a product was purchased at two different prices in the same order, which seems unlikely). \n",
    "\n",
    "A product may be assigned more than one unique `UnitPrice` across different orders. The `UnitPrice` field is independent of the `Discount` field&mdash;that is, `UnitPrice` represents the unit price of an item _before_ any discounts are applied.\n",
    "\n",
    "Before moving on, I want to take a quick look at some summary statistics and value counts."
   ]
  },
  {
   "cell_type": "code",
   "execution_count": 4,
   "metadata": {
    "ExecuteTime": {
     "end_time": "2019-10-08T20:27:51.393995Z",
     "start_time": "2019-10-08T20:27:51.348596Z"
    },
    "hidden": true,
    "scrolled": false
   },
   "outputs": [
    {
     "data": {
      "text/html": [
       "<div>\n",
       "<style scoped>\n",
       "    .dataframe tbody tr th:only-of-type {\n",
       "        vertical-align: middle;\n",
       "    }\n",
       "\n",
       "    .dataframe tbody tr th {\n",
       "        vertical-align: top;\n",
       "    }\n",
       "\n",
       "    .dataframe thead th {\n",
       "        text-align: right;\n",
       "    }\n",
       "</style>\n",
       "<table border=\"1\" class=\"dataframe\">\n",
       "  <thead>\n",
       "    <tr style=\"text-align: right;\">\n",
       "      <th></th>\n",
       "      <th>OrderId</th>\n",
       "      <th>ProductId</th>\n",
       "      <th>UnitPrice</th>\n",
       "      <th>Quantity</th>\n",
       "      <th>Discount</th>\n",
       "      <th>CategoryID</th>\n",
       "    </tr>\n",
       "  </thead>\n",
       "  <tbody>\n",
       "    <tr>\n",
       "      <th>count</th>\n",
       "      <td>2155.000000</td>\n",
       "      <td>2155.000000</td>\n",
       "      <td>2155.000000</td>\n",
       "      <td>2155.000000</td>\n",
       "      <td>2155.000000</td>\n",
       "      <td>2155.000000</td>\n",
       "    </tr>\n",
       "    <tr>\n",
       "      <th>mean</th>\n",
       "      <td>10659.375870</td>\n",
       "      <td>40.793039</td>\n",
       "      <td>26.218520</td>\n",
       "      <td>23.812993</td>\n",
       "      <td>0.056167</td>\n",
       "      <td>4.135499</td>\n",
       "    </tr>\n",
       "    <tr>\n",
       "      <th>std</th>\n",
       "      <td>241.378032</td>\n",
       "      <td>22.159019</td>\n",
       "      <td>29.827418</td>\n",
       "      <td>19.022047</td>\n",
       "      <td>0.083450</td>\n",
       "      <td>2.378567</td>\n",
       "    </tr>\n",
       "    <tr>\n",
       "      <th>min</th>\n",
       "      <td>10248.000000</td>\n",
       "      <td>1.000000</td>\n",
       "      <td>2.000000</td>\n",
       "      <td>1.000000</td>\n",
       "      <td>0.000000</td>\n",
       "      <td>1.000000</td>\n",
       "    </tr>\n",
       "    <tr>\n",
       "      <th>25%</th>\n",
       "      <td>10451.000000</td>\n",
       "      <td>22.000000</td>\n",
       "      <td>12.000000</td>\n",
       "      <td>10.000000</td>\n",
       "      <td>0.000000</td>\n",
       "      <td>2.000000</td>\n",
       "    </tr>\n",
       "    <tr>\n",
       "      <th>50%</th>\n",
       "      <td>10657.000000</td>\n",
       "      <td>41.000000</td>\n",
       "      <td>18.400000</td>\n",
       "      <td>20.000000</td>\n",
       "      <td>0.000000</td>\n",
       "      <td>4.000000</td>\n",
       "    </tr>\n",
       "    <tr>\n",
       "      <th>75%</th>\n",
       "      <td>10862.500000</td>\n",
       "      <td>60.000000</td>\n",
       "      <td>32.000000</td>\n",
       "      <td>30.000000</td>\n",
       "      <td>0.100000</td>\n",
       "      <td>6.000000</td>\n",
       "    </tr>\n",
       "    <tr>\n",
       "      <th>max</th>\n",
       "      <td>11077.000000</td>\n",
       "      <td>77.000000</td>\n",
       "      <td>263.500000</td>\n",
       "      <td>130.000000</td>\n",
       "      <td>0.250000</td>\n",
       "      <td>8.000000</td>\n",
       "    </tr>\n",
       "  </tbody>\n",
       "</table>\n",
       "</div>"
      ],
      "text/plain": [
       "            OrderId    ProductId    UnitPrice     Quantity     Discount  \\\n",
       "count   2155.000000  2155.000000  2155.000000  2155.000000  2155.000000   \n",
       "mean   10659.375870    40.793039    26.218520    23.812993     0.056167   \n",
       "std      241.378032    22.159019    29.827418    19.022047     0.083450   \n",
       "min    10248.000000     1.000000     2.000000     1.000000     0.000000   \n",
       "25%    10451.000000    22.000000    12.000000    10.000000     0.000000   \n",
       "50%    10657.000000    41.000000    18.400000    20.000000     0.000000   \n",
       "75%    10862.500000    60.000000    32.000000    30.000000     0.100000   \n",
       "max    11077.000000    77.000000   263.500000   130.000000     0.250000   \n",
       "\n",
       "        CategoryID  \n",
       "count  2155.000000  \n",
       "mean      4.135499  \n",
       "std       2.378567  \n",
       "min       1.000000  \n",
       "25%       2.000000  \n",
       "50%       4.000000  \n",
       "75%       6.000000  \n",
       "max       8.000000  "
      ]
     },
     "execution_count": 4,
     "metadata": {},
     "output_type": "execute_result"
    }
   ],
   "source": [
    "# View summary statistics\n",
    "df.describe()"
   ]
  },
  {
   "cell_type": "markdown",
   "metadata": {
    "heading_collapsed": true
   },
   "source": [
    "# Explore and transform the data"
   ]
  },
  {
   "cell_type": "markdown",
   "metadata": {
    "hidden": true
   },
   "source": [
    "There are a couple of transformations I want to apply to the data before moving any further. \n",
    "\n",
    "Knowing that I want to subset the data by whether discounts were applied or not, I will add a boolean column to indicate whether the value in the `Discount` column is 0 or not.\n",
    "\n",
    "Then I will add a column that calculates the total dollar price of a product in an order by multiplying its `UnitPrice` by its `Quantity` by `Discount`, if any. This will let me examine whether discounts increase the total dollar amount customer spend on products or in orders."
   ]
  },
  {
   "cell_type": "code",
   "execution_count": 5,
   "metadata": {
    "ExecuteTime": {
     "end_time": "2019-10-08T20:27:53.199985Z",
     "start_time": "2019-10-08T20:27:53.130521Z"
    },
    "hidden": true
   },
   "outputs": [],
   "source": [
    "# Add a boolean column to help filter discounted from non-discounted items\n",
    "df['Discount_bool'] = df.apply(lambda row: 1 if row.Discount > 0 else 0, axis=1)"
   ]
  },
  {
   "cell_type": "markdown",
   "metadata": {
    "hidden": true
   },
   "source": [
    "Now I can use the boolean column to calculate the total price in dollars of a product, accounting for a discount if there is one:"
   ]
  },
  {
   "cell_type": "code",
   "execution_count": 6,
   "metadata": {
    "ExecuteTime": {
     "end_time": "2019-10-08T20:27:55.197377Z",
     "start_time": "2019-10-08T20:27:54.643401Z"
    },
    "hidden": true,
    "scrolled": true
   },
   "outputs": [],
   "source": [
    "# Add a column to calculate the price of a product in an order\n",
    "# (unit price * quantity)\n",
    "df['ProductTotal'] = df.UnitPrice * df.Quantity\n",
    "for index in df.index:\n",
    "    if df.loc[index, 'Discount_bool'] != 0:\n",
    "        df['ProductTotal'] = df.UnitPrice * df.Quantity * (1-df.Discount)"
   ]
  },
  {
   "cell_type": "markdown",
   "metadata": {
    "hidden": true
   },
   "source": [
    "That should do it. Let's take a look:"
   ]
  },
  {
   "cell_type": "code",
   "execution_count": 7,
   "metadata": {
    "ExecuteTime": {
     "end_time": "2019-10-08T20:27:56.489464Z",
     "start_time": "2019-10-08T20:27:56.467673Z"
    },
    "hidden": true,
    "scrolled": true
   },
   "outputs": [
    {
     "data": {
      "text/html": [
       "<div>\n",
       "<style scoped>\n",
       "    .dataframe tbody tr th:only-of-type {\n",
       "        vertical-align: middle;\n",
       "    }\n",
       "\n",
       "    .dataframe tbody tr th {\n",
       "        vertical-align: top;\n",
       "    }\n",
       "\n",
       "    .dataframe thead th {\n",
       "        text-align: right;\n",
       "    }\n",
       "</style>\n",
       "<table border=\"1\" class=\"dataframe\">\n",
       "  <thead>\n",
       "    <tr style=\"text-align: right;\">\n",
       "      <th></th>\n",
       "      <th>OrderId</th>\n",
       "      <th>ProductId</th>\n",
       "      <th>UnitPrice</th>\n",
       "      <th>Quantity</th>\n",
       "      <th>Discount</th>\n",
       "      <th>ProductName</th>\n",
       "      <th>CategoryID</th>\n",
       "      <th>CategoryName</th>\n",
       "      <th>Discount_bool</th>\n",
       "      <th>ProductTotal</th>\n",
       "    </tr>\n",
       "  </thead>\n",
       "  <tbody>\n",
       "    <tr>\n",
       "      <th>0</th>\n",
       "      <td>10248</td>\n",
       "      <td>11</td>\n",
       "      <td>14.0</td>\n",
       "      <td>12</td>\n",
       "      <td>0.00</td>\n",
       "      <td>Queso Cabrales</td>\n",
       "      <td>4</td>\n",
       "      <td>Dairy Products</td>\n",
       "      <td>0</td>\n",
       "      <td>168.00</td>\n",
       "    </tr>\n",
       "    <tr>\n",
       "      <th>1</th>\n",
       "      <td>10248</td>\n",
       "      <td>42</td>\n",
       "      <td>9.8</td>\n",
       "      <td>10</td>\n",
       "      <td>0.00</td>\n",
       "      <td>Singaporean Hokkien Fried Mee</td>\n",
       "      <td>5</td>\n",
       "      <td>Grains/Cereals</td>\n",
       "      <td>0</td>\n",
       "      <td>98.00</td>\n",
       "    </tr>\n",
       "    <tr>\n",
       "      <th>2</th>\n",
       "      <td>10248</td>\n",
       "      <td>72</td>\n",
       "      <td>34.8</td>\n",
       "      <td>5</td>\n",
       "      <td>0.00</td>\n",
       "      <td>Mozzarella di Giovanni</td>\n",
       "      <td>4</td>\n",
       "      <td>Dairy Products</td>\n",
       "      <td>0</td>\n",
       "      <td>174.00</td>\n",
       "    </tr>\n",
       "    <tr>\n",
       "      <th>3</th>\n",
       "      <td>10249</td>\n",
       "      <td>14</td>\n",
       "      <td>18.6</td>\n",
       "      <td>9</td>\n",
       "      <td>0.00</td>\n",
       "      <td>Tofu</td>\n",
       "      <td>7</td>\n",
       "      <td>Produce</td>\n",
       "      <td>0</td>\n",
       "      <td>167.40</td>\n",
       "    </tr>\n",
       "    <tr>\n",
       "      <th>4</th>\n",
       "      <td>10249</td>\n",
       "      <td>51</td>\n",
       "      <td>42.4</td>\n",
       "      <td>40</td>\n",
       "      <td>0.00</td>\n",
       "      <td>Manjimup Dried Apples</td>\n",
       "      <td>7</td>\n",
       "      <td>Produce</td>\n",
       "      <td>0</td>\n",
       "      <td>1696.00</td>\n",
       "    </tr>\n",
       "    <tr>\n",
       "      <th>5</th>\n",
       "      <td>10250</td>\n",
       "      <td>41</td>\n",
       "      <td>7.7</td>\n",
       "      <td>10</td>\n",
       "      <td>0.00</td>\n",
       "      <td>Jack's New England Clam Chowder</td>\n",
       "      <td>8</td>\n",
       "      <td>Seafood</td>\n",
       "      <td>0</td>\n",
       "      <td>77.00</td>\n",
       "    </tr>\n",
       "    <tr>\n",
       "      <th>6</th>\n",
       "      <td>10250</td>\n",
       "      <td>51</td>\n",
       "      <td>42.4</td>\n",
       "      <td>35</td>\n",
       "      <td>0.15</td>\n",
       "      <td>Manjimup Dried Apples</td>\n",
       "      <td>7</td>\n",
       "      <td>Produce</td>\n",
       "      <td>1</td>\n",
       "      <td>1261.40</td>\n",
       "    </tr>\n",
       "    <tr>\n",
       "      <th>7</th>\n",
       "      <td>10250</td>\n",
       "      <td>65</td>\n",
       "      <td>16.8</td>\n",
       "      <td>15</td>\n",
       "      <td>0.15</td>\n",
       "      <td>Louisiana Fiery Hot Pepper Sauce</td>\n",
       "      <td>2</td>\n",
       "      <td>Condiments</td>\n",
       "      <td>1</td>\n",
       "      <td>214.20</td>\n",
       "    </tr>\n",
       "    <tr>\n",
       "      <th>8</th>\n",
       "      <td>10251</td>\n",
       "      <td>22</td>\n",
       "      <td>16.8</td>\n",
       "      <td>6</td>\n",
       "      <td>0.05</td>\n",
       "      <td>Gustaf's Knäckebröd</td>\n",
       "      <td>5</td>\n",
       "      <td>Grains/Cereals</td>\n",
       "      <td>1</td>\n",
       "      <td>95.76</td>\n",
       "    </tr>\n",
       "    <tr>\n",
       "      <th>9</th>\n",
       "      <td>10251</td>\n",
       "      <td>57</td>\n",
       "      <td>15.6</td>\n",
       "      <td>15</td>\n",
       "      <td>0.05</td>\n",
       "      <td>Ravioli Angelo</td>\n",
       "      <td>5</td>\n",
       "      <td>Grains/Cereals</td>\n",
       "      <td>1</td>\n",
       "      <td>222.30</td>\n",
       "    </tr>\n",
       "  </tbody>\n",
       "</table>\n",
       "</div>"
      ],
      "text/plain": [
       "   OrderId  ProductId  UnitPrice  Quantity  Discount  \\\n",
       "0    10248         11       14.0        12      0.00   \n",
       "1    10248         42        9.8        10      0.00   \n",
       "2    10248         72       34.8         5      0.00   \n",
       "3    10249         14       18.6         9      0.00   \n",
       "4    10249         51       42.4        40      0.00   \n",
       "5    10250         41        7.7        10      0.00   \n",
       "6    10250         51       42.4        35      0.15   \n",
       "7    10250         65       16.8        15      0.15   \n",
       "8    10251         22       16.8         6      0.05   \n",
       "9    10251         57       15.6        15      0.05   \n",
       "\n",
       "                        ProductName  CategoryID    CategoryName  \\\n",
       "0                    Queso Cabrales           4  Dairy Products   \n",
       "1     Singaporean Hokkien Fried Mee           5  Grains/Cereals   \n",
       "2            Mozzarella di Giovanni           4  Dairy Products   \n",
       "3                              Tofu           7         Produce   \n",
       "4             Manjimup Dried Apples           7         Produce   \n",
       "5   Jack's New England Clam Chowder           8         Seafood   \n",
       "6             Manjimup Dried Apples           7         Produce   \n",
       "7  Louisiana Fiery Hot Pepper Sauce           2      Condiments   \n",
       "8               Gustaf's Knäckebröd           5  Grains/Cereals   \n",
       "9                    Ravioli Angelo           5  Grains/Cereals   \n",
       "\n",
       "   Discount_bool  ProductTotal  \n",
       "0              0        168.00  \n",
       "1              0         98.00  \n",
       "2              0        174.00  \n",
       "3              0        167.40  \n",
       "4              0       1696.00  \n",
       "5              0         77.00  \n",
       "6              1       1261.40  \n",
       "7              1        214.20  \n",
       "8              1         95.76  \n",
       "9              1        222.30  "
      ]
     },
     "execution_count": 7,
     "metadata": {},
     "output_type": "execute_result"
    }
   ],
   "source": [
    "# View the data\n",
    "df.head(10)"
   ]
  },
  {
   "cell_type": "markdown",
   "metadata": {
    "hidden": true
   },
   "source": [
    "To check whether discounts were handled correctly, look at rows 5 and 6, for instance. The `ProductTotal` for row 5 is 77.00 (= 7.7 * 10), and the total for row 6 is 1261.40 (= 42.4 * 35 * (1-0.15)). \n",
    "\n",
    "Let's take one last look at summary statistics before moving on:"
   ]
  },
  {
   "cell_type": "code",
   "execution_count": 8,
   "metadata": {
    "ExecuteTime": {
     "end_time": "2019-10-08T20:27:58.866740Z",
     "start_time": "2019-10-08T20:27:58.811929Z"
    },
    "hidden": true,
    "scrolled": true
   },
   "outputs": [
    {
     "data": {
      "text/html": [
       "<div>\n",
       "<style scoped>\n",
       "    .dataframe tbody tr th:only-of-type {\n",
       "        vertical-align: middle;\n",
       "    }\n",
       "\n",
       "    .dataframe tbody tr th {\n",
       "        vertical-align: top;\n",
       "    }\n",
       "\n",
       "    .dataframe thead th {\n",
       "        text-align: right;\n",
       "    }\n",
       "</style>\n",
       "<table border=\"1\" class=\"dataframe\">\n",
       "  <thead>\n",
       "    <tr style=\"text-align: right;\">\n",
       "      <th></th>\n",
       "      <th>OrderId</th>\n",
       "      <th>ProductId</th>\n",
       "      <th>UnitPrice</th>\n",
       "      <th>Quantity</th>\n",
       "      <th>Discount</th>\n",
       "      <th>CategoryID</th>\n",
       "      <th>Discount_bool</th>\n",
       "      <th>ProductTotal</th>\n",
       "    </tr>\n",
       "  </thead>\n",
       "  <tbody>\n",
       "    <tr>\n",
       "      <th>count</th>\n",
       "      <td>2155.000000</td>\n",
       "      <td>2155.000000</td>\n",
       "      <td>2155.000000</td>\n",
       "      <td>2155.000000</td>\n",
       "      <td>2155.000000</td>\n",
       "      <td>2155.000000</td>\n",
       "      <td>2155.000000</td>\n",
       "      <td>2155.000000</td>\n",
       "    </tr>\n",
       "    <tr>\n",
       "      <th>mean</th>\n",
       "      <td>10659.375870</td>\n",
       "      <td>40.793039</td>\n",
       "      <td>26.218520</td>\n",
       "      <td>23.812993</td>\n",
       "      <td>0.056167</td>\n",
       "      <td>4.135499</td>\n",
       "      <td>0.388863</td>\n",
       "      <td>587.374960</td>\n",
       "    </tr>\n",
       "    <tr>\n",
       "      <th>std</th>\n",
       "      <td>241.378032</td>\n",
       "      <td>22.159019</td>\n",
       "      <td>29.827418</td>\n",
       "      <td>19.022047</td>\n",
       "      <td>0.083450</td>\n",
       "      <td>2.378567</td>\n",
       "      <td>0.487605</td>\n",
       "      <td>969.224235</td>\n",
       "    </tr>\n",
       "    <tr>\n",
       "      <th>min</th>\n",
       "      <td>10248.000000</td>\n",
       "      <td>1.000000</td>\n",
       "      <td>2.000000</td>\n",
       "      <td>1.000000</td>\n",
       "      <td>0.000000</td>\n",
       "      <td>1.000000</td>\n",
       "      <td>0.000000</td>\n",
       "      <td>4.800000</td>\n",
       "    </tr>\n",
       "    <tr>\n",
       "      <th>25%</th>\n",
       "      <td>10451.000000</td>\n",
       "      <td>22.000000</td>\n",
       "      <td>12.000000</td>\n",
       "      <td>10.000000</td>\n",
       "      <td>0.000000</td>\n",
       "      <td>2.000000</td>\n",
       "      <td>0.000000</td>\n",
       "      <td>147.000000</td>\n",
       "    </tr>\n",
       "    <tr>\n",
       "      <th>50%</th>\n",
       "      <td>10657.000000</td>\n",
       "      <td>41.000000</td>\n",
       "      <td>18.400000</td>\n",
       "      <td>20.000000</td>\n",
       "      <td>0.000000</td>\n",
       "      <td>4.000000</td>\n",
       "      <td>0.000000</td>\n",
       "      <td>337.750000</td>\n",
       "    </tr>\n",
       "    <tr>\n",
       "      <th>75%</th>\n",
       "      <td>10862.500000</td>\n",
       "      <td>60.000000</td>\n",
       "      <td>32.000000</td>\n",
       "      <td>30.000000</td>\n",
       "      <td>0.100000</td>\n",
       "      <td>6.000000</td>\n",
       "      <td>1.000000</td>\n",
       "      <td>656.000000</td>\n",
       "    </tr>\n",
       "    <tr>\n",
       "      <th>max</th>\n",
       "      <td>11077.000000</td>\n",
       "      <td>77.000000</td>\n",
       "      <td>263.500000</td>\n",
       "      <td>130.000000</td>\n",
       "      <td>0.250000</td>\n",
       "      <td>8.000000</td>\n",
       "      <td>1.000000</td>\n",
       "      <td>15810.000000</td>\n",
       "    </tr>\n",
       "  </tbody>\n",
       "</table>\n",
       "</div>"
      ],
      "text/plain": [
       "            OrderId    ProductId    UnitPrice     Quantity     Discount  \\\n",
       "count   2155.000000  2155.000000  2155.000000  2155.000000  2155.000000   \n",
       "mean   10659.375870    40.793039    26.218520    23.812993     0.056167   \n",
       "std      241.378032    22.159019    29.827418    19.022047     0.083450   \n",
       "min    10248.000000     1.000000     2.000000     1.000000     0.000000   \n",
       "25%    10451.000000    22.000000    12.000000    10.000000     0.000000   \n",
       "50%    10657.000000    41.000000    18.400000    20.000000     0.000000   \n",
       "75%    10862.500000    60.000000    32.000000    30.000000     0.100000   \n",
       "max    11077.000000    77.000000   263.500000   130.000000     0.250000   \n",
       "\n",
       "        CategoryID  Discount_bool  ProductTotal  \n",
       "count  2155.000000    2155.000000   2155.000000  \n",
       "mean      4.135499       0.388863    587.374960  \n",
       "std       2.378567       0.487605    969.224235  \n",
       "min       1.000000       0.000000      4.800000  \n",
       "25%       2.000000       0.000000    147.000000  \n",
       "50%       4.000000       0.000000    337.750000  \n",
       "75%       6.000000       1.000000    656.000000  \n",
       "max       8.000000       1.000000  15810.000000  "
      ]
     },
     "execution_count": 8,
     "metadata": {},
     "output_type": "execute_result"
    }
   ],
   "source": [
    "# Check summary statistics\n",
    "df.describe()"
   ]
  },
  {
   "cell_type": "markdown",
   "metadata": {
    "hidden": true
   },
   "source": [
    "Since most of my questions have to do with `Quantity`, I should confirm that it will meet our assumption for normality&mdash;not that the values of `Quantity` themselves are normally distributed, but that the means of many samples drawn from those values would have a normal distribution converging around the \"true\" mean.\n",
    "\n",
    "I can test this easily by drawing a number of random samples from the `Quantity` values and then plotting a histogram to confirm that they are normally distributed."
   ]
  },
  {
   "cell_type": "code",
   "execution_count": null,
   "metadata": {
    "ExecuteTime": {
     "end_time": "2019-10-08T21:20:59.352307Z",
     "start_time": "2019-10-08T21:20:59.064105Z"
    },
    "hidden": true
   },
   "outputs": [],
   "source": [
    "# Get just the `Quantity` values\n",
    "quantities = df.Quantity"
   ]
  },
  {
   "cell_type": "code",
   "execution_count": 73,
   "metadata": {
    "ExecuteTime": {
     "end_time": "2019-10-08T21:35:06.202986Z",
     "start_time": "2019-10-08T21:35:05.881395Z"
    },
    "hidden": true
   },
   "outputs": [
    {
     "data": {
      "image/png": "[encoded data removed]",
      "text/plain": [
       "<Figure size 720x432 with 1 Axes>"
      ]
     },
     "metadata": {
      "needs_background": "light"
     },
     "output_type": "display_data"
    }
   ],
   "source": [
    "# Plot the means of 1000 samples of size 1000\n",
    "sample_means = []\n",
    "for n in range(1000):\n",
    "    sample = np.random.choice(quantities, 1000)\n",
    "    mean = np.mean(sample)\n",
    "    sample_means.append(mean)\n",
    "\n",
    "plt.figure(figsize=(10,6))\n",
    "sns.distplot(sample_means)\n",
    "plt.xlabel('Sample means')\n",
    "plt.ylabel('Probability density')\n",
    "plt.title('Distribution of sample means\\n1000 samples of n=1000')\n",
    "plt.show();"
   ]
  },
  {
   "cell_type": "markdown",
   "metadata": {
    "hidden": true
   },
   "source": [
    "That looks normal enough to me. I also think it is reasonable to assume that the observations in the dataset are independent. I don't know whether products were randomly selected for the application of discounts (there was probably some strategy involved), but I will assume that the data passes the assumption of randomness as well.\n",
    "\n",
    "I will re-check for these assumptions as I manipulate the data for subsequent hypothesis tests."
   ]
  },
  {
   "cell_type": "markdown",
   "metadata": {
    "heading_collapsed": true
   },
   "source": [
    "# Create needed functions"
   ]
  },
  {
   "cell_type": "markdown",
   "metadata": {
    "hidden": true
   },
   "source": [
    "Describe custom function needs."
   ]
  },
  {
   "cell_type": "code",
   "execution_count": 9,
   "metadata": {
    "ExecuteTime": {
     "end_time": "2019-10-08T20:28:01.661585Z",
     "start_time": "2019-10-08T20:28:01.657022Z"
    },
    "hidden": true
   },
   "outputs": [],
   "source": [
    "# Define a function to run Welch's t-test, evaluate and print results\n",
    "def run_welch(a, b, two_sided=False, alpha=0.05):\n",
    "    \"\"\"Perform Welch's t-test and compare p-value to given alpha.\n",
    "       a: first sample (one-dimensional array)\n",
    "       b: second sample (one-dimensional array)\n",
    "       two-sided: whether the t-test should be two-sided or not (boolean)\n",
    "       alpha: alpha value for comparison with calculated p-value\n",
    "       \n",
    "       Dependencies: welch_functions.py\"\"\"\n",
    "    \n",
    "    # Calculate p-value\n",
    "    p_value = p_value_welch_ttest(a, b, two_sided=False)\n",
    "    \n",
    "    # Evaluate and print results\n",
    "    if p_value < alpha:\n",
    "        print('Null hypothesis rejected (p_value = {})'.format(p_value))\n",
    "    else:\n",
    "        print('Fail to reject null hypothesis (p_value = {})'.format(p_value))\n",
    "    "
   ]
  },
  {
   "cell_type": "code",
   "execution_count": null,
   "metadata": {
    "hidden": true
   },
   "outputs": [],
   "source": []
  },
  {
   "cell_type": "code",
   "execution_count": 10,
   "metadata": {
    "ExecuteTime": {
     "end_time": "2019-10-08T20:28:03.310393Z",
     "start_time": "2019-10-08T20:28:03.303399Z"
    },
    "hidden": true
   },
   "outputs": [],
   "source": [
    "# Define a function to plot KDEs comparing discounted items to \n",
    "# non-discounted items\n",
    "# IS THERE A WAY to generalize this to other comparisons (not just ones\n",
    "# that involve a % level)?\n",
    "def compare_quantity_kdes(non_discounted, discounted, percent):\n",
    "    \"\"\"Plots KDEs for quantities of non-discounted items and discounted \n",
    "       items at a specified discount level.\n",
    "       non_discounted: 1-D array\n",
    "       discounted: 1-D array\n",
    "       percent: the value of the discount (for labeling purposes)\n",
    "       Dependencies: matplotlib, seaborn\"\"\"\n",
    "    \n",
    "    plt.figure(figsize=(8,6))\n",
    "    sns.distplot(non_discounted, label='No discount')\n",
    "    sns.distplot(discounted, label='{}}% discount'.format(percent))\n",
    "    plt.axvline(x=np.mean(non_discounted), linestyle='--', \n",
    "                label='Mean, no discount')\n",
    "    plt.axvline(x=np.mean(discounted), linestyle='--', color='orange', \n",
    "                label='Mean, {}% discount'.format(percent))\n",
    "    plt.legend()\n",
    "    plt.title('Comparing discounted v. non-discounted products')\n",
    "    plt.ylabel('Probability density')\n",
    "    plt.show();\n",
    "\n"
   ]
  },
  {
   "cell_type": "markdown",
   "metadata": {},
   "source": [
    "# Hypothesis tests"
   ]
  },
  {
   "cell_type": "markdown",
   "metadata": {
    "heading_collapsed": true
   },
   "source": [
    "## Hypothesis test 1\n",
    "\n",
    "Does discount amount have a statistically significant effect on the quantity of a product in an order? If so, at what level(s) of discount?"
   ]
  },
  {
   "cell_type": "markdown",
   "metadata": {
    "hidden": true
   },
   "source": [
    "This test uses the following hypotheses to begin with:\n",
    "\n",
    "H<sub>0</sub>: mean quantity ordered without discount == mean quantity ordered with discount\n",
    "\n",
    "H<sub>a</sub>: mean quantity ordered without discount < mean quantity ordered with discount\n",
    "\n",
    "If discounts are determined to have a significant effect on quantity, then I will re-phrase my hypotheses for subsequent tests to determine which specific discount amounts have significant effects on quantity.\n",
    "\n",
    "This initial test will be a one-tailed test using the following parameters:"
   ]
  },
  {
   "cell_type": "code",
   "execution_count": 11,
   "metadata": {
    "ExecuteTime": {
     "end_time": "2019-10-08T20:28:05.040152Z",
     "start_time": "2019-10-08T20:28:05.034669Z"
    },
    "hidden": true
   },
   "outputs": [],
   "source": [
    "# Set alpha and power\n",
    "alpha = 0.05\n",
    "\n",
    "power = 0.8"
   ]
  },
  {
   "cell_type": "markdown",
   "metadata": {
    "heading_collapsed": true,
    "hidden": true
   },
   "source": [
    "### Prepare the data"
   ]
  },
  {
   "cell_type": "markdown",
   "metadata": {
    "hidden": true
   },
   "source": [
    "I will want to compare quantities ordered with discounts and without discounts, so the data will need to be split into two subsets based on the value in the `Discount` column (0 versus any other value)."
   ]
  },
  {
   "cell_type": "code",
   "execution_count": 12,
   "metadata": {
    "ExecuteTime": {
     "end_time": "2019-10-08T20:28:06.270977Z",
     "start_time": "2019-10-08T20:28:06.258636Z"
    },
    "hidden": true
   },
   "outputs": [],
   "source": [
    "# Subset the data based on `Discount`\n",
    "df_no_discount = df[df.Discount == 0]\n",
    "df_discount = df[df.Discount != 0]"
   ]
  },
  {
   "cell_type": "markdown",
   "metadata": {
    "hidden": true
   },
   "source": [
    "I will also quickly check the length of each dataset so I will know the sample sizes involved:"
   ]
  },
  {
   "cell_type": "code",
   "execution_count": 13,
   "metadata": {
    "ExecuteTime": {
     "end_time": "2019-10-08T20:28:07.088030Z",
     "start_time": "2019-10-08T20:28:07.082157Z"
    },
    "hidden": true
   },
   "outputs": [
    {
     "name": "stdout",
     "output_type": "stream",
     "text": [
      "Size of no-discount sample: 1317\n",
      "Size of discount sample: 838\n"
     ]
    }
   ],
   "source": [
    "print('Size of no-discount sample:', len(df_no_discount))\n",
    "print('Size of discount sample:', len(df_discount))"
   ]
  },
  {
   "cell_type": "markdown",
   "metadata": {
    "heading_collapsed": true,
    "hidden": true
   },
   "source": [
    "### Inspect the distributions"
   ]
  },
  {
   "cell_type": "markdown",
   "metadata": {
    "hidden": true
   },
   "source": [
    "Next I want to inspect the distributions of products ordered with and without discounts to ensure that they are roughly normal. KDE (kernal density estimation) plots let me see the distributions of values along with probability density curves."
   ]
  },
  {
   "cell_type": "code",
   "execution_count": 14,
   "metadata": {
    "ExecuteTime": {
     "end_time": "2019-10-08T20:28:12.818785Z",
     "start_time": "2019-10-08T20:28:12.357751Z"
    },
    "hidden": true,
    "scrolled": false
   },
   "outputs": [
    {
     "data": {
      "image/png": "[encoded data removed]",
      "text/plain": [
       "<Figure size 576x432 with 1 Axes>"
      ]
     },
     "metadata": {
      "needs_background": "light"
     },
     "output_type": "display_data"
    }
   ],
   "source": [
    "# Create KDE plots of products with and without discounts\n",
    "plt.figure(figsize=(8,6))\n",
    "sns.distplot(df_no_discount.Quantity, label='No discount')\n",
    "sns.distplot(df_discount.Quantity, label='Discount')\n",
    "plt.axvline(x=np.mean(df_no_discount.Quantity), linestyle='--',\n",
    "            label='Mean, no discount')\n",
    "plt.axvline(x=np.mean(df_discount.Quantity), linestyle='--', color='orange',\n",
    "            label='Mean, with discount')\n",
    "plt.legend()\n",
    "plt.title('Total quantities of products in orders')\n",
    "plt.ylabel('Probability density')\n",
    "plt.show();"
   ]
  },
  {
   "cell_type": "markdown",
   "metadata": {
    "hidden": true
   },
   "source": [
    "Both distributions (with and without discounts) appear to be roughly normal, although both are right-skewed. I can also see that the two distributions, while overlapping, do appear to be different (and their means are different). What about their variances?"
   ]
  },
  {
   "cell_type": "code",
   "execution_count": 15,
   "metadata": {
    "ExecuteTime": {
     "end_time": "2019-10-08T20:28:14.020146Z",
     "start_time": "2019-10-08T20:28:14.011028Z"
    },
    "hidden": true,
    "scrolled": true
   },
   "outputs": [
    {
     "name": "stdout",
     "output_type": "stream",
     "text": [
      "306.2795924332757\n",
      "430.93782787748984\n"
     ]
    }
   ],
   "source": [
    "print(np.var(df_no_discount.Quantity))\n",
    "print(np.var(df_discount.Quantity))"
   ]
  },
  {
   "cell_type": "markdown",
   "metadata": {
    "hidden": true
   },
   "source": [
    "Since `df_no_discount` and `df_discount` have different sample sizes, means, and variances, I will use a Welch's t-test to determine whether they are different in terms of `Quantity`.\n",
    "\n",
    "Before proceeding, I should check that the two groups are big enough in numbers of observations to let me observe a difference of a certain size.\n",
    "\n",
    "I assume that for my stakeholders, an effect size of 3 would be considered worthwhile (i.e., three more items added to a customer's cart because of a discount). How large would my samples need to be to detect an effect of this size given the alpha-value and power I selected above?"
   ]
  },
  {
   "cell_type": "code",
   "execution_count": 34,
   "metadata": {
    "ExecuteTime": {
     "end_time": "2019-10-08T20:44:22.771243Z",
     "start_time": "2019-10-08T20:44:22.764027Z"
    },
    "hidden": true
   },
   "outputs": [
    {
     "name": "stdout",
     "output_type": "stream",
     "text": [
      "Cohen's d: 0.15774833810342706\n"
     ]
    }
   ],
   "source": [
    "# Calculate Cohen's d\n",
    "effect_size = 3\n",
    "pop_std = np.std(df.Quantity)\n",
    "\n",
    "d = effect_size / pop_std\n",
    "print('Cohen\\'s d:', d)"
   ]
  },
  {
   "cell_type": "code",
   "execution_count": 18,
   "metadata": {
    "ExecuteTime": {
     "end_time": "2019-10-08T20:28:31.278236Z",
     "start_time": "2019-10-08T20:28:31.259652Z"
    },
    "hidden": true
   },
   "outputs": [
    {
     "data": {
      "text/plain": [
       "631.7840862424314"
      ]
     },
     "execution_count": 18,
     "metadata": {},
     "output_type": "execute_result"
    }
   ],
   "source": [
    "# Use power analysis to find sample size needed\n",
    "power_analysis = TTestIndPower()\n",
    "power_analysis.solve_power(effect_size=d, alpha=alpha, power=power)"
   ]
  },
  {
   "cell_type": "markdown",
   "metadata": {
    "hidden": true
   },
   "source": [
    "Both the discount and no-discount samples contain more than 630 observations, so I will be able to detect an effect size of at least 3 using a Welch's t-test."
   ]
  },
  {
   "cell_type": "markdown",
   "metadata": {
    "heading_collapsed": true,
    "hidden": true
   },
   "source": [
    "### Perform Welch's t-test"
   ]
  },
  {
   "cell_type": "markdown",
   "metadata": {
    "hidden": true
   },
   "source": [
    "Above I defined a function `run_welch()` to run a Welch's t-test, compare the calculated p-value to my chosen alpha (0.05), and print the result."
   ]
  },
  {
   "cell_type": "code",
   "execution_count": 19,
   "metadata": {
    "ExecuteTime": {
     "end_time": "2019-10-08T20:28:41.144705Z",
     "start_time": "2019-10-08T20:28:41.134001Z"
    },
    "hidden": true
   },
   "outputs": [
    {
     "name": "stdout",
     "output_type": "stream",
     "text": [
      "Null hypothesis rejected (p_value = 2.8282065578366655e-10)\n"
     ]
    }
   ],
   "source": [
    "# Perform Welch's t-test and print result\n",
    "run_welch(df_no_discount.Quantity, df_discount.Quantity)"
   ]
  },
  {
   "cell_type": "markdown",
   "metadata": {
    "hidden": true
   },
   "source": [
    "The result of the Welch's t-test is that we can reject the null hypothesis; discounts do indeed have a significant effect on the quantity of a product that a customer orders.\n",
    "\n",
    "This is good to know, but it raises another question: at what level of discount are customers motivated to add more of a product to their carts? And how many more of a given product are they likely to order?"
   ]
  },
  {
   "cell_type": "markdown",
   "metadata": {
    "heading_collapsed": true,
    "hidden": true
   },
   "source": [
    "### Follow-up: which discount levels motivate customers to buy more of a product?"
   ]
  },
  {
   "cell_type": "markdown",
   "metadata": {
    "hidden": true
   },
   "source": [
    "To answer this question, I want to split the data up by value of `Discount`, run t-tests comparing each discount to the non-discounted products to see if `Quantity` is significantly different, and then report on the effect sizes of any significant differences. For each of these more focused one-tailed t-tests:\n",
    "\n",
    "H<sub>0</sub>: mean quantity ordered without discount == mean quantity ordered with discount\n",
    "\n",
    "H<sub>a</sub>: mean quantity ordered without discount < mean quantity ordered with discount\n",
    "\n",
    "The problem with this approach is that I will be doing multiple comparisons against the same control group (non-discounted products), which increases the likelihood that I'll find a statistically significant difference just by random chance. To avoid this issue, I will use a tool for multiple comparisons called Tukey's HSD (Honestly Significant Difference) test from `statsmodels`. This test will compare all possible combinations of discounts and account for the effects of multiple comparisons so that I can use the same alpha value as before.\n",
    "\n",
    "First, I should inspect the value counts in the `Discount` column and eliminate any that don't interest me."
   ]
  },
  {
   "cell_type": "code",
   "execution_count": 20,
   "metadata": {
    "ExecuteTime": {
     "end_time": "2019-10-08T20:28:45.272042Z",
     "start_time": "2019-10-08T20:28:45.259901Z"
    },
    "hidden": true,
    "scrolled": false
   },
   "outputs": [
    {
     "data": {
      "text/plain": [
       "0.00    1317\n",
       "0.05     185\n",
       "0.10     173\n",
       "0.20     161\n",
       "0.15     157\n",
       "0.25     154\n",
       "0.03       3\n",
       "0.02       2\n",
       "0.01       1\n",
       "0.04       1\n",
       "0.06       1\n",
       "Name: Discount, dtype: int64"
      ]
     },
     "execution_count": 20,
     "metadata": {},
     "output_type": "execute_result"
    }
   ],
   "source": [
    "# View unique values of `Discount`\n",
    "df.Discount.value_counts()"
   ]
  },
  {
   "cell_type": "markdown",
   "metadata": {
    "hidden": true
   },
   "source": [
    "It looks like the values that will be most useful to this analysis are 5%, 10%, 15%, 20%, and 25% (and 0%, of course), since there are many instances of each of those. Because the others occur so infrequently, I don't expect to be able to do any meaningful hypothesis testing on them, so it is probably best to just drop those records at this point."
   ]
  },
  {
   "cell_type": "code",
   "execution_count": 21,
   "metadata": {
    "ExecuteTime": {
     "end_time": "2019-10-08T20:29:35.807995Z",
     "start_time": "2019-10-08T20:29:35.793739Z"
    },
    "hidden": true,
    "scrolled": false
   },
   "outputs": [
    {
     "data": {
      "text/plain": [
       "0.00    1317\n",
       "0.05     185\n",
       "0.10     173\n",
       "0.20     161\n",
       "0.15     157\n",
       "0.25     154\n",
       "Name: Discount, dtype: int64"
      ]
     },
     "execution_count": 21,
     "metadata": {},
     "output_type": "execute_result"
    }
   ],
   "source": [
    "# Drop rows with `Discount` values that occur < 30 times\n",
    "keepers = [0.0, 0.05, 0.1, 0.15, 0.2, 0.25]\n",
    "\n",
    "df_2 = df[df.Discount.isin(keepers)]\n",
    "df_2.Discount.value_counts()"
   ]
  },
  {
   "cell_type": "markdown",
   "metadata": {
    "hidden": true
   },
   "source": [
    "Now I can run the multiple comparison using Tukey's HSD test:"
   ]
  },
  {
   "cell_type": "code",
   "execution_count": 49,
   "metadata": {
    "ExecuteTime": {
     "end_time": "2019-10-08T20:53:57.303785Z",
     "start_time": "2019-10-08T20:53:57.281324Z"
    },
    "hidden": true,
    "scrolled": true
   },
   "outputs": [
    {
     "name": "stdout",
     "output_type": "stream",
     "text": [
      "Multiple Comparison of Means - Tukey HSD,FWER=0.05\n",
      "=============================================\n",
      "group1 group2 meandiff  lower   upper  reject\n",
      "---------------------------------------------\n",
      " 0.0    0.05   6.2955   2.0814 10.5097  True \n",
      " 0.0    0.1    3.5217  -0.8187  7.8622 False \n",
      " 0.0    0.15   6.6669   2.1352 11.1986  True \n",
      " 0.0    0.2    5.3096   0.8285  9.7907  True \n",
      " 0.0    0.25   6.525    1.954   11.096  True \n",
      " 0.05   0.1   -2.7738  -8.4504  2.9028 False \n",
      " 0.05   0.15   0.3714  -5.4528  6.1955 False \n",
      " 0.05   0.2    -0.986  -6.7708  4.7989 False \n",
      " 0.05   0.25   0.2294  -5.6253  6.0842 False \n",
      " 0.1    0.15   3.1452   -2.771  9.0613 False \n",
      " 0.1    0.2    1.7879  -4.0896  7.6653 False \n",
      " 0.1    0.25   3.0033   -2.943  8.9496 False \n",
      " 0.15   0.2   -1.3573  -7.3775  4.6628 False \n",
      " 0.15   0.25  -0.1419  -6.2292  5.9454 False \n",
      " 0.2    0.25   1.2154  -4.8343  7.2652 False \n",
      "---------------------------------------------\n"
     ]
    }
   ],
   "source": [
    "# Initialize the MultiComparison object\n",
    "MultiComp = MultiComparison(df_2.Quantity, df_2.Discount)\n",
    "\n",
    "# Print the summary table\n",
    "print(MultiComp.tukeyhsd().summary())"
   ]
  },
  {
   "cell_type": "markdown",
   "metadata": {
    "hidden": true
   },
   "source": [
    "The first five rows of results are the ones of interest here: they show comparisons between our chosen discount levels and the non-discounted products. The differences between discounted and non-discounted products are statistically significant at all discount levels _except for 10%_. \n",
    "\n",
    "Given this outcome, I would recommend eliminating 10% discounts from the discounting strategy. Since 5% and 15% discounts correspond to a similar effect (about 6 more products purchased when compared to non-discounted products), changing any 10% discounts to 5% should result in more products purchased _and_ a bigger profit margin.\n",
    "\n",
    "Below is a visualization to summarize the findings of this hypothesis test."
   ]
  },
  {
   "cell_type": "code",
   "execution_count": 83,
   "metadata": {
    "ExecuteTime": {
     "end_time": "2019-10-08T21:50:00.955840Z",
     "start_time": "2019-10-08T21:50:00.724491Z"
    },
    "hidden": true
   },
   "outputs": [
    {
     "data": {
      "image/png": "[encoded data removed]",
      "text/plain": [
       "<Figure size 720x432 with 1 Axes>"
      ]
     },
     "metadata": {
      "needs_background": "light"
     },
     "output_type": "display_data"
    }
   ],
   "source": [
    "# Get sample means to use in calculating effect sizes\n",
    "mean_5_discount = np.mean(df_2[df_2.Discount == 0.05]['Quantity'])\n",
    "mean_10_discount = np.mean(df_2[df_2.Discount == 0.1]['Quantity'])\n",
    "mean_15_discount = np.mean(df_2[df_2.Discount == 0.15]['Quantity'])\n",
    "mean_20_discount = np.mean(df_2[df_2.Discount == 0.2]['Quantity'])\n",
    "mean_25_discount = np.mean(df_2[df_2.Discount == 0.25]['Quantity'])\n",
    "mean_no_discount = np.mean(df_2[df_2.Discount == 0.0]['Quantity'])\n",
    "\n",
    "# Organize x-values (discounts) and y-values (effect sizes) for plotting\n",
    "levels = [5, 10, 15, 20, 25]\n",
    "means = [mean_5_discount, mean_10_discount, mean_15_discount, mean_20_discount, mean_25_discount]\n",
    "mean_diffs = [mean - mean_no_discount for mean in means]\n",
    "\n",
    "# Create a bar plot to show significant effect sizes\n",
    "plt.figure(figsize=(10, 6))\n",
    "plt.bar(levels, mean_diffs, color='lightgreen')\n",
    "plt.bar(x=10, height = mean_10_discount-mean_no_discount, color='white')\n",
    "plt.xlabel('Discount (%)')\n",
    "plt.ylabel('Increase in quantity ordered')\n",
    "plt.title('Increases in quantity ordered at various discount levels')\n",
    "plt.text(x=7, y=1, s='10% discounts have\\nno significant effect', fontsize=14)\n",
    "plt.show();"
   ]
  },
  {
   "cell_type": "markdown",
   "metadata": {
    "heading_collapsed": true
   },
   "source": [
    "## Hypothesis test 2\n",
    "\n",
    "Do discounts prompt customers to buy more items overall (not just more of the discounted item)?"
   ]
  },
  {
   "cell_type": "markdown",
   "metadata": {},
   "source": [
    "In the first hypothesis test above, we examined whether discounts were associated with customers buying more of a (discounted) product. But this test didn't account for the total quantity of items in an order. When customers receive a discount on some of their items, do they then purchase more items overall? Or do they buy more of the discounted item and fewer other items to compensate? \n",
    "\n",
    "It makes sense that discounting would correspond to increases in overall order size, but if for some reason it _didn't_, we would want to know so we could investigate further.\n",
    "\n",
    "For this one-tailed test, the hypotheses will be the following:\n",
    "\n",
    "H<sub>0</sub>: mean total quantity for orders without discounts == mean total quantity for orders with discounts\n",
    "\n",
    "H<sub>a</sub>: mean total quantity for orders without discounts < mean total quantity for orders with discounts\n",
    "\n",
    "Alpha and power will remain the same."
   ]
  },
  {
   "cell_type": "markdown",
   "metadata": {},
   "source": [
    "### Prepare the data"
   ]
  },
  {
   "cell_type": "markdown",
   "metadata": {
    "hidden": true
   },
   "source": [
    "For this test, the data will need to be grouped by order and split into orders where one or more products are discounted and orders where no products are discounted.\n",
    "\n",
    "The `Discount_bool` column created earlier will come in handy for partitioning the dataset."
   ]
  },
  {
   "cell_type": "code",
   "execution_count": 91,
   "metadata": {
    "ExecuteTime": {
     "end_time": "2019-10-08T22:37:50.578743Z",
     "start_time": "2019-10-08T22:37:50.569699Z"
    },
    "hidden": true
   },
   "outputs": [],
   "source": [
    "# Get list of orders where no items are discounted\n",
    "group_by_discount_bool = pd.DataFrame(df.groupby('OrderId')['Discount_bool'].sum())\n",
    "ids_no_disc = group_by_discount_bool[group_by_discount_bool.Discount_bool == 0]\n",
    "ids_no_disc = list(ids_no_disc.index)"
   ]
  },
  {
   "cell_type": "code",
   "execution_count": 92,
   "metadata": {
    "ExecuteTime": {
     "end_time": "2019-10-08T22:38:03.556376Z",
     "start_time": "2019-10-08T22:38:03.550372Z"
    },
    "hidden": true,
    "scrolled": true
   },
   "outputs": [],
   "source": [
    "# Get list of orders with at least one discounted item\n",
    "ids_with_disc = group_by_discount_bool[group_by_discount_bool.Discount_bool > 0]\n",
    "ids_with_disc = list(ids_with_disc.index)"
   ]
  },
  {
   "cell_type": "code",
   "execution_count": 93,
   "metadata": {
    "ExecuteTime": {
     "end_time": "2019-10-08T22:38:32.633345Z",
     "start_time": "2019-10-08T22:38:32.624701Z"
    },
    "hidden": true
   },
   "outputs": [],
   "source": [
    "# Confirm that there is no overlap between the lists of ids\n",
    "# (Nothing should print)\n",
    "for item in ids_no_disc:\n",
    "    if item in ids_with_disc:\n",
    "        print(item)\n",
    "        \n",
    "for item in ids_with_disc:\n",
    "    if item in ids_no_disc:\n",
    "        print(item)"
   ]
  },
  {
   "cell_type": "code",
   "execution_count": 94,
   "metadata": {
    "ExecuteTime": {
     "end_time": "2019-10-08T22:39:09.394426Z",
     "start_time": "2019-10-08T22:39:09.385559Z"
    },
    "hidden": true
   },
   "outputs": [],
   "source": [
    "# Subset products by whether they occur in orders with discounts or not\n",
    "orders_discount = df[df.OrderId.isin(ids_with_disc)]\n",
    "orders_no_discount = df[df.OrderId.isin(ids_no_disc)]"
   ]
  },
  {
   "cell_type": "code",
   "execution_count": 95,
   "metadata": {
    "ExecuteTime": {
     "end_time": "2019-10-08T22:39:31.745911Z",
     "start_time": "2019-10-08T22:39:31.736484Z"
    },
    "hidden": true
   },
   "outputs": [
    {
     "name": "stdout",
     "output_type": "stream",
     "text": [
      "OrderId\n",
      "10250     60\n",
      "10251     41\n",
      "10252    105\n",
      "10254     57\n",
      "10258    121\n",
      "Name: Quantity, dtype: int64\n",
      "Sample size: 380\n"
     ]
    }
   ],
   "source": [
    "# Group by order; these orders contain ONE OR MORE discounted items\n",
    "orders_discount = orders_discount.groupby('OrderId')['Quantity'].sum()\n",
    "print(orders_discount.head())\n",
    "print('Sample size:', len(orders_discount))"
   ]
  },
  {
   "cell_type": "code",
   "execution_count": 96,
   "metadata": {
    "ExecuteTime": {
     "end_time": "2019-10-08T22:39:40.634247Z",
     "start_time": "2019-10-08T22:39:40.625010Z"
    },
    "hidden": true,
    "scrolled": true
   },
   "outputs": [
    {
     "name": "stdout",
     "output_type": "stream",
     "text": [
      "OrderId\n",
      "10248     27\n",
      "10249     49\n",
      "10253    102\n",
      "10255    110\n",
      "10256     27\n",
      "Name: Quantity, dtype: int64\n",
      "Sample size: 450\n"
     ]
    }
   ],
   "source": [
    "# Group by order; these orders contain NO discounted items\n",
    "orders_no_discount = orders_no_discount.groupby('OrderId')['Quantity'].sum()\n",
    "print(orders_no_discount.head())\n",
    "print('Sample size:', len(orders_no_discount))"
   ]
  },
  {
   "cell_type": "markdown",
   "metadata": {},
   "source": [
    "### Inspect the distributions"
   ]
  },
  {
   "cell_type": "markdown",
   "metadata": {
    "hidden": true
   },
   "source": [
    "First, let's visually inspect the distributions:"
   ]
  },
  {
   "cell_type": "code",
   "execution_count": 97,
   "metadata": {
    "ExecuteTime": {
     "end_time": "2019-10-08T22:42:56.299553Z",
     "start_time": "2019-10-08T22:42:55.903977Z"
    },
    "hidden": true
   },
   "outputs": [
    {
     "data": {
      "image/png": "[encoded data removed]",
      "text/plain": [
       "<Figure size 576x432 with 1 Axes>"
      ]
     },
     "metadata": {
      "needs_background": "light"
     },
     "output_type": "display_data"
    }
   ],
   "source": [
    "# Create KDE plots of products with and without discounts\n",
    "plt.figure(figsize=(8,6))\n",
    "sns.distplot(orders_no_discount, label='No discount')\n",
    "sns.distplot(orders_discount, label='Discount')\n",
    "plt.axvline(x=np.mean(orders_no_discount), linestyle='--',\n",
    "            label='Mean, no discount')\n",
    "plt.axvline(x=np.mean(orders_discount), linestyle='--', color='orange',\n",
    "            label='Mean, with discount')\n",
    "plt.legend()\n",
    "plt.title('Total order quantities')\n",
    "plt.ylabel('Probability density')\n",
    "plt.show();"
   ]
  },
  {
   "cell_type": "markdown",
   "metadata": {
    "hidden": true
   },
   "source": [
    "Both distributions (with and without discounts) appear to be roughly normal, although both are right-skewed. I can also see that the two distributions, while overlapping, do appear to be different (and their means are different). What about their variances?"
   ]
  },
  {
   "cell_type": "code",
   "execution_count": 98,
   "metadata": {
    "ExecuteTime": {
     "end_time": "2019-10-08T22:46:47.942114Z",
     "start_time": "2019-10-08T22:46:47.935585Z"
    },
    "hidden": true,
    "scrolled": true
   },
   "outputs": [
    {
     "name": "stdout",
     "output_type": "stream",
     "text": [
      "2326.464177777778\n",
      "2635.4101038781164\n"
     ]
    }
   ],
   "source": [
    "print(np.var(orders_no_discount))\n",
    "print(np.var(orders_discount))"
   ]
  },
  {
   "cell_type": "markdown",
   "metadata": {
    "hidden": true
   },
   "source": [
    "Since `df_no_discount` and `df_discount` have different sample sizes, means, and variances, I will use a Welch's t-test to determine whether they are different in terms of `Quantity`.\n",
    "\n",
    "Before proceeding, I should check two things: \n",
    "- that the mean total quantities of items in orders, when sampled many times, form a normal distribution;\n",
    "- that the two sample sizes are big enough to let me observe a difference of a certain size.\n",
    "\n",
    "First up: checking the distribution of sample means:"
   ]
  },
  {
   "cell_type": "code",
   "execution_count": 114,
   "metadata": {
    "ExecuteTime": {
     "end_time": "2019-10-08T22:57:33.213659Z",
     "start_time": "2019-10-08T22:57:33.202889Z"
    },
    "hidden": true
   },
   "outputs": [
    {
     "name": "stdout",
     "output_type": "stream",
     "text": [
      "OrderId\n",
      "10250     60\n",
      "10251     41\n",
      "10252    105\n",
      "10254     57\n",
      "10258    121\n",
      "10260    102\n",
      "10262     29\n",
      "10263    184\n",
      "10264     60\n",
      "10266     12\n",
      "Name: Quantity, dtype: int64\n",
      "830\n"
     ]
    }
   ],
   "source": [
    "# Get a list of all orders' total quantities\n",
    "all_orders = pd.concat([orders_discount, orders_no_discount])\n",
    "print(all_orders[:10])\n",
    "print(len(all_orders))"
   ]
  },
  {
   "cell_type": "code",
   "execution_count": 115,
   "metadata": {
    "ExecuteTime": {
     "end_time": "2019-10-08T22:57:55.226948Z",
     "start_time": "2019-10-08T22:57:54.899804Z"
    },
    "hidden": true
   },
   "outputs": [
    {
     "data": {
      "image/png": "[encoded data removed]",
      "text/plain": [
       "<Figure size 720x432 with 1 Axes>"
      ]
     },
     "metadata": {
      "needs_background": "light"
     },
     "output_type": "display_data"
    }
   ],
   "source": [
    "# Plot the means of 1000 samples of size 1000\n",
    "sample_means = []\n",
    "for n in range(1000):\n",
    "    sample = np.random.choice(all_orders, 1000)\n",
    "    mean = np.mean(sample)\n",
    "    sample_means.append(mean)\n",
    "\n",
    "plt.figure(figsize=(10,6))\n",
    "sns.distplot(sample_means)\n",
    "plt.xlabel('Sample means')\n",
    "plt.ylabel('Probability density')\n",
    "plt.title('Distribution of sample means\\n1000 samples of n=1000')\n",
    "plt.show();"
   ]
  },
  {
   "cell_type": "markdown",
   "metadata": {
    "hidden": true
   },
   "source": [
    "That looks pretty normal. I will assume that the data is independent and reasonably random as well.\n",
    "\n",
    "And now to see what effect sizes I can expect given the sample sizes I have. Given the smaller numbers of observations now that the data is grouped into orders, I will have to settle for a larger effect size of at least 11, keeping alpha at 0.05 and power at 0.8."
   ]
  },
  {
   "cell_type": "code",
   "execution_count": 110,
   "metadata": {
    "ExecuteTime": {
     "end_time": "2019-10-08T22:50:07.526907Z",
     "start_time": "2019-10-08T22:50:07.516694Z"
    },
    "hidden": true
   },
   "outputs": [
    {
     "name": "stdout",
     "output_type": "stream",
     "text": [
      "Cohen's d: 0.20702881324258446\n"
     ]
    }
   ],
   "source": [
    "# Calculate Cohen's d\n",
    "effect_size = 10.5\n",
    "pop_std = np.std(df.groupby('OrderId')['Quantity'].sum())\n",
    "\n",
    "d = effect_size / pop_std\n",
    "print('Cohen\\'s d:', d)"
   ]
  },
  {
   "cell_type": "code",
   "execution_count": 111,
   "metadata": {
    "ExecuteTime": {
     "end_time": "2019-10-08T22:50:08.173471Z",
     "start_time": "2019-10-08T22:50:08.155431Z"
    },
    "hidden": true
   },
   "outputs": [
    {
     "data": {
      "text/plain": [
       "367.2106371060832"
      ]
     },
     "execution_count": 111,
     "metadata": {},
     "output_type": "execute_result"
    }
   ],
   "source": [
    "# Use power analysis to find sample size needed\n",
    "power_analysis = TTestIndPower()\n",
    "power_analysis.solve_power(effect_size=d, alpha=alpha, power=power)"
   ]
  },
  {
   "cell_type": "markdown",
   "metadata": {
    "hidden": true
   },
   "source": [
    "I should be able to observe an effect size of at least 10.5 (more items added to a customer's order) with the sample sizes I have (380 and 450, calculated above). Time to move on to a Welch's t-test."
   ]
  },
  {
   "cell_type": "markdown",
   "metadata": {},
   "source": [
    "### Perform Welch's t-test"
   ]
  },
  {
   "cell_type": "markdown",
   "metadata": {
    "hidden": true
   },
   "source": [
    "Now I can run a Welch's t-test to compare the total quantities of items in orders with and without discounts to see if they are significantly different."
   ]
  },
  {
   "cell_type": "code",
   "execution_count": 116,
   "metadata": {
    "ExecuteTime": {
     "end_time": "2019-10-08T23:00:12.464876Z",
     "start_time": "2019-10-08T23:00:12.458386Z"
    }
   },
   "outputs": [
    {
     "name": "stdout",
     "output_type": "stream",
     "text": [
      "Null hypothesis rejected (p_value = 2.9253389710603983e-09)\n"
     ]
    }
   ],
   "source": [
    "# Perform Welch's t-test\n",
    "run_welch(orders_no_discount, orders_discount)"
   ]
  },
  {
   "cell_type": "markdown",
   "metadata": {
    "hidden": true
   },
   "source": [
    "In rejecting the null hypothesis, we are finding that when a discount is applied to any item in an order, customers tend to buy more items overall. This is what we hoped to find, and it confirms that discounting is an effective strategy for increasing the quantities of products sold. \n",
    "\n",
    "Let's see how big the effect is:"
   ]
  },
  {
   "cell_type": "code",
   "execution_count": 117,
   "metadata": {
    "ExecuteTime": {
     "end_time": "2019-10-08T23:02:58.161866Z",
     "start_time": "2019-10-08T23:02:58.152710Z"
    },
    "hidden": true
   },
   "outputs": [
    {
     "data": {
      "text/plain": [
       "20.50473684210526"
      ]
     },
     "execution_count": 117,
     "metadata": {},
     "output_type": "execute_result"
    }
   ],
   "source": [
    "# Calculate effect size\n",
    "np.mean(orders_discount) - np.mean(orders_no_discount)"
   ]
  },
  {
   "cell_type": "markdown",
   "metadata": {
    "hidden": true
   },
   "source": [
    "That's 20.5 more items per order on average when any item in an order has been discounted. Note that this is a bigger effect than the one we saw earlier. Customers buy only about 5 to 6 more of a particular item when it is discounted, but they buy about 20 more items on average&mdash;both discounted and non-discounted ones&mdash;when at least one item in their cart comes with a discount.\n",
    "\n",
    "The plot below summarizes this finding. Based on this hypothesis test, I would recommend determining the most popular items and consistently offering discounts on those, since the presence of any discounted item in an order corresponds to more items ordered overall."
   ]
  },
  {
   "cell_type": "code",
   "execution_count": 121,
   "metadata": {
    "ExecuteTime": {
     "end_time": "2019-10-08T23:08:13.580120Z",
     "start_time": "2019-10-08T23:08:13.370954Z"
    },
    "hidden": true
   },
   "outputs": [
    {
     "data": {
      "image/png": "[encoded data removed]",
      "text/plain": [
       "<Figure size 864x576 with 1 Axes>"
      ]
     },
     "metadata": {
      "needs_background": "light"
     },
     "output_type": "display_data"
    }
   ],
   "source": [
    "# Plot mean item counts for orders with and without discounts\n",
    "y_values = [np.mean(orders_discount), np.mean(orders_no_discount)]\n",
    "x_values = ['Discount(s)', 'No discount(s)']\n",
    "\n",
    "plt.figure(figsize=(12,8))\n",
    "plt.bar(x_values, y_values, color='green')\n",
    "plt.bar(x_values[0], y_values[0], color='lightgreen')\n",
    "plt.text(x=-0.20, y=60, s='20.5 more items\\non average', fontsize=16)\n",
    "plt.ylabel('Items per order')\n",
    "plt.title('Average number of items per order')\n",
    "plt.show();"
   ]
  },
  {
   "cell_type": "markdown",
   "metadata": {},
   "source": [
    "## Hypothesis test 3\n",
    "\n",
    "Put the motivating question here."
   ]
  },
  {
   "cell_type": "markdown",
   "metadata": {},
   "source": [
    "Hypotheses"
   ]
  },
  {
   "cell_type": "markdown",
   "metadata": {},
   "source": [
    "### Prepare the data"
   ]
  },
  {
   "cell_type": "code",
   "execution_count": null,
   "metadata": {},
   "outputs": [],
   "source": [
    "#"
   ]
  },
  {
   "cell_type": "markdown",
   "metadata": {},
   "source": [
    "### Inspect the distributions"
   ]
  },
  {
   "cell_type": "markdown",
   "metadata": {},
   "source": [
    "### Perform Welch's t-test"
   ]
  },
  {
   "cell_type": "code",
   "execution_count": null,
   "metadata": {
    "ExecuteTime": {
     "end_time": "2019-10-08T23:00:12.464876Z",
     "start_time": "2019-10-08T23:00:12.458386Z"
    }
   },
   "outputs": [],
   "source": [
    "#"
   ]
  },
  {
   "cell_type": "markdown",
   "metadata": {},
   "source": [
    "## Hypothesis test 4\n",
    "\n",
    "Put the motivating question here."
   ]
  },
  {
   "cell_type": "markdown",
   "metadata": {},
   "source": [
    "Hypotheses"
   ]
  },
  {
   "cell_type": "markdown",
   "metadata": {},
   "source": [
    "### Prepare the data"
   ]
  },
  {
   "cell_type": "code",
   "execution_count": null,
   "metadata": {},
   "outputs": [],
   "source": [
    "#"
   ]
  },
  {
   "cell_type": "markdown",
   "metadata": {},
   "source": [
    "### Inspect the distributions"
   ]
  },
  {
   "cell_type": "markdown",
   "metadata": {},
   "source": [
    "### Perform Welch's t-test"
   ]
  },
  {
   "cell_type": "code",
   "execution_count": null,
   "metadata": {
    "ExecuteTime": {
     "end_time": "2019-10-08T23:00:12.464876Z",
     "start_time": "2019-10-08T23:00:12.458386Z"
    }
   },
   "outputs": [],
   "source": [
    "#"
   ]
  },
  {
   "cell_type": "markdown",
   "metadata": {},
   "source": [
    "# Interpretation and recommendations"
   ]
  },
  {
   "cell_type": "markdown",
   "metadata": {},
   "source": [
    "Given the outcome of Hypothesis Test 1, I would recommend eliminating 10% discounts from the discounting strategy. Since 5% and 15% discounts correspond to a similar effect (about 6 more products purchased when compared to non-discounted products), changing any 10% discounts to 5% should result in more products purchased and a bigger profit margin.\n",
    "\n",
    "Based on Hypothesis Test 2, I would recommend determining the most popular items and consistently offering discounts on those, since the presence of any discounted item in an order corresponds to more items ordered overall."
   ]
  }
 ],
 "metadata": {
  "kernelspec": {
   "display_name": "learn-env",
   "language": "python",
   "name": "learn-env"
  },
  "language_info": {
   "codemirror_mode": {
    "name": "ipython",
    "version": 3
   },
   "file_extension": ".py",
   "mimetype": "text/x-python",
   "name": "python",
   "nbconvert_exporter": "python",
   "pygments_lexer": "ipython3",
   "version": "3.6.6"
  },
  "toc": {
   "base_numbering": 1,
   "nav_menu": {},
   "number_sections": true,
   "sideBar": true,
   "skip_h1_title": false,
   "title_cell": "Table of Contents",
   "title_sidebar": "Contents",
   "toc_cell": false,
   "toc_position": {},
   "toc_section_display": true,
   "toc_window_display": false
  }
 },
 "nbformat": 4,
 "nbformat_minor": 2
}
