{
 "cells": [
  {
   "cell_type": "markdown",
   "metadata": {},
   "source": [
    "Project 1 Submission\n",
    "\n",
    "* Student name: Jenny Kreiger\n",
    "* Student pace: full time\n",
    "* Scheduled project review date/time: Tuesday, 10/15/19, 08:30 PDT\n",
    "* Instructor name: Victor Geislinger\n",
    "* Blog post URL: "
   ]
  },
  {
   "cell_type": "markdown",
   "metadata": {
    "heading_collapsed": true
   },
   "source": [
    "# Introduction"
   ]
  },
  {
   "cell_type": "markdown",
   "metadata": {
    "hidden": true
   },
   "source": [
    "This project uses data from the Northwind database to answer questions about the (fictional) Northwind company's discounting strategy. [Microsoft created the Northwind database](https://docs.microsoft.com/en-us/dotnet/framework/data/adonet/sql/linq/downloading-sample-databases) to use as a sample in its Access and SQL Server applications; the database represents internal records for a specialty food import/export business. The database contains tables for customer orders, details on the products themselves, and information about employees and customers, among other things. This project focuses on the data about orders and products.\n",
    "\n",
    "For this project, I am examining the Northwind company's discounting strategy using hypothesis testing. In particular, I want to determine what effect (if any) discounts have on the quantities and total dollar values of products that Northwind customers order. I am also interested in whether any one discount level (5%, 10%, etc.) is more or less effective at raising order quantities or values than the others, or whether there is a category of products (Beverages, Condiments, etc.) where discounting is more or less effective compared to the other categories.\n",
    "\n",
    "My findings are summarized in the **Interpretations and recommendations** section below."
   ]
  },
  {
   "cell_type": "markdown",
   "metadata": {},
   "source": [
    "# Extract the data"
   ]
  },
  {
   "cell_type": "markdown",
   "metadata": {},
   "source": [
    "To start off, I will import the packages I need. Note that I am importing some custom functions for conducting Welch's t-test (`welch_functions`); these were created as part of my bootcamp curriculum at Flatiron School."
   ]
  },
  {
   "cell_type": "code",
   "execution_count": 1,
   "metadata": {
    "ExecuteTime": {
     "end_time": "2019-10-09T20:08:23.604086Z",
     "start_time": "2019-10-09T20:08:20.005451Z"
    }
   },
   "outputs": [],
   "source": [
    "# Import needed packages\n",
    "import pandas as pd\n",
    "import numpy as np\n",
    "import matplotlib.pyplot as plt\n",
    "%matplotlib inline\n",
    "\n",
    "import seaborn as sns\n",
    "sns.set_context('talk')\n",
    "\n",
    "import scipy.stats as stats\n",
    "import sqlite3\n",
    "\n",
    "from welch_functions import *\n",
    "\n",
    "import scipy.stats as stats\n",
    "import pingouin as pg\n",
    "\n",
    "import statsmodels.api as sm\n",
    "from statsmodels.stats.power import TTestIndPower, TTestPower\n",
    "from statsmodels.formula.api import ols\n",
    "from statsmodels.stats.multicomp import pairwise_tukeyhsd, MultiComparison\n",
    "\n",
    "from itertools import combinations\n",
    "\n",
    "import warnings\n",
    "warnings.simplefilter(\"ignore\")"
   ]
  },
  {
   "cell_type": "markdown",
   "metadata": {},
   "source": [
    "The data is stored in a database in the same repository as this notebook. Here I connect to the database:"
   ]
  },
  {
   "cell_type": "code",
   "execution_count": 2,
   "metadata": {
    "ExecuteTime": {
     "end_time": "2019-10-09T20:08:27.129918Z",
     "start_time": "2019-10-09T20:08:27.124978Z"
    }
   },
   "outputs": [],
   "source": [
    "# Set up connection to the database\n",
    "conn = sqlite3.connect('Northwind_small.sqlite')\n",
    "cur = conn.cursor()"
   ]
  },
  {
   "cell_type": "markdown",
   "metadata": {},
   "source": [
    "Having looked at the database schema (you can view a diagram in the repo), I know that I want to pull data from a couple of tables at once. The query below takes most of the data from the `OrderDetail` table and joins on some fields about product names and categories from the `Product` and `Category` tables."
   ]
  },
  {
   "cell_type": "code",
   "execution_count": 3,
   "metadata": {
    "ExecuteTime": {
     "end_time": "2019-10-09T20:08:28.076550Z",
     "start_time": "2019-10-09T20:08:28.021753Z"
    },
    "scrolled": false
   },
   "outputs": [
    {
     "data": {
      "text/html": [
       "<div>\n",
       "<style scoped>\n",
       "    .dataframe tbody tr th:only-of-type {\n",
       "        vertical-align: middle;\n",
       "    }\n",
       "\n",
       "    .dataframe tbody tr th {\n",
       "        vertical-align: top;\n",
       "    }\n",
       "\n",
       "    .dataframe thead th {\n",
       "        text-align: right;\n",
       "    }\n",
       "</style>\n",
       "<table border=\"1\" class=\"dataframe\">\n",
       "  <thead>\n",
       "    <tr style=\"text-align: right;\">\n",
       "      <th></th>\n",
       "      <th>OrderId</th>\n",
       "      <th>ProductId</th>\n",
       "      <th>UnitPrice</th>\n",
       "      <th>Quantity</th>\n",
       "      <th>Discount</th>\n",
       "      <th>ProductName</th>\n",
       "      <th>CategoryID</th>\n",
       "      <th>CategoryName</th>\n",
       "    </tr>\n",
       "  </thead>\n",
       "  <tbody>\n",
       "    <tr>\n",
       "      <td>0</td>\n",
       "      <td>10248</td>\n",
       "      <td>11</td>\n",
       "      <td>14.0</td>\n",
       "      <td>12</td>\n",
       "      <td>0.0</td>\n",
       "      <td>Queso Cabrales</td>\n",
       "      <td>4</td>\n",
       "      <td>Dairy Products</td>\n",
       "    </tr>\n",
       "    <tr>\n",
       "      <td>1</td>\n",
       "      <td>10248</td>\n",
       "      <td>42</td>\n",
       "      <td>9.8</td>\n",
       "      <td>10</td>\n",
       "      <td>0.0</td>\n",
       "      <td>Singaporean Hokkien Fried Mee</td>\n",
       "      <td>5</td>\n",
       "      <td>Grains/Cereals</td>\n",
       "    </tr>\n",
       "    <tr>\n",
       "      <td>2</td>\n",
       "      <td>10248</td>\n",
       "      <td>72</td>\n",
       "      <td>34.8</td>\n",
       "      <td>5</td>\n",
       "      <td>0.0</td>\n",
       "      <td>Mozzarella di Giovanni</td>\n",
       "      <td>4</td>\n",
       "      <td>Dairy Products</td>\n",
       "    </tr>\n",
       "    <tr>\n",
       "      <td>3</td>\n",
       "      <td>10249</td>\n",
       "      <td>14</td>\n",
       "      <td>18.6</td>\n",
       "      <td>9</td>\n",
       "      <td>0.0</td>\n",
       "      <td>Tofu</td>\n",
       "      <td>7</td>\n",
       "      <td>Produce</td>\n",
       "    </tr>\n",
       "    <tr>\n",
       "      <td>4</td>\n",
       "      <td>10249</td>\n",
       "      <td>51</td>\n",
       "      <td>42.4</td>\n",
       "      <td>40</td>\n",
       "      <td>0.0</td>\n",
       "      <td>Manjimup Dried Apples</td>\n",
       "      <td>7</td>\n",
       "      <td>Produce</td>\n",
       "    </tr>\n",
       "  </tbody>\n",
       "</table>\n",
       "</div>"
      ],
      "text/plain": [
       "   OrderId  ProductId  UnitPrice  Quantity  Discount  \\\n",
       "0    10248         11       14.0        12       0.0   \n",
       "1    10248         42        9.8        10       0.0   \n",
       "2    10248         72       34.8         5       0.0   \n",
       "3    10249         14       18.6         9       0.0   \n",
       "4    10249         51       42.4        40       0.0   \n",
       "\n",
       "                     ProductName  CategoryID    CategoryName  \n",
       "0                 Queso Cabrales           4  Dairy Products  \n",
       "1  Singaporean Hokkien Fried Mee           5  Grains/Cereals  \n",
       "2         Mozzarella di Giovanni           4  Dairy Products  \n",
       "3                           Tofu           7         Produce  \n",
       "4          Manjimup Dried Apples           7         Produce  "
      ]
     },
     "execution_count": 3,
     "metadata": {},
     "output_type": "execute_result"
    }
   ],
   "source": [
    "# Query the database and load the data\n",
    "cur.execute(\"\"\"\n",
    "    SELECT o.OrderID, o.ProductID, o.UnitPrice, o.Quantity, o.Discount,\n",
    "        p.ProductName, c.ID AS CategoryID, c.CategoryName\n",
    "    FROM OrderDetail o\n",
    "        JOIN Product p\n",
    "            ON o.ProductID = p.ID\n",
    "        JOIN Category c\n",
    "            ON p.CategoryID = c.ID\n",
    "            ;\"\"\")\n",
    "df = pd.DataFrame(cur.fetchall())\n",
    "df.columns = [x[0] for x in cur.description]\n",
    "df.head()"
   ]
  },
  {
   "cell_type": "markdown",
   "metadata": {},
   "source": [
    "A quick look at the DataFrame above reveals that each row represents an instance of a product in an order. Each `OrderId` can appear more than once (one time for each distinct product in that order). Each `ProductId` can also appear multiple times in the dataset, but a given ID will probably not appear more than once per order (unless, for some reason, a product was purchased at two different prices in the same order, which seems unlikely). \n",
    "\n",
    "A product may be assigned more than one unique `UnitPrice` across different orders. The `UnitPrice` field is independent of the `Discount` field&mdash;that is, `UnitPrice` represents the unit price of an item _before_ any discounts are applied.\n",
    "\n",
    "Before moving on, I want to take a quick look at some summary statistics and value counts."
   ]
  },
  {
   "cell_type": "code",
   "execution_count": 4,
   "metadata": {
    "ExecuteTime": {
     "end_time": "2019-10-09T20:08:28.973676Z",
     "start_time": "2019-10-09T20:08:28.901882Z"
    },
    "scrolled": false
   },
   "outputs": [
    {
     "data": {
      "text/html": [
       "<div>\n",
       "<style scoped>\n",
       "    .dataframe tbody tr th:only-of-type {\n",
       "        vertical-align: middle;\n",
       "    }\n",
       "\n",
       "    .dataframe tbody tr th {\n",
       "        vertical-align: top;\n",
       "    }\n",
       "\n",
       "    .dataframe thead th {\n",
       "        text-align: right;\n",
       "    }\n",
       "</style>\n",
       "<table border=\"1\" class=\"dataframe\">\n",
       "  <thead>\n",
       "    <tr style=\"text-align: right;\">\n",
       "      <th></th>\n",
       "      <th>OrderId</th>\n",
       "      <th>ProductId</th>\n",
       "      <th>UnitPrice</th>\n",
       "      <th>Quantity</th>\n",
       "      <th>Discount</th>\n",
       "      <th>CategoryID</th>\n",
       "    </tr>\n",
       "  </thead>\n",
       "  <tbody>\n",
       "    <tr>\n",
       "      <td>count</td>\n",
       "      <td>2155.000000</td>\n",
       "      <td>2155.000000</td>\n",
       "      <td>2155.000000</td>\n",
       "      <td>2155.000000</td>\n",
       "      <td>2155.000000</td>\n",
       "      <td>2155.000000</td>\n",
       "    </tr>\n",
       "    <tr>\n",
       "      <td>mean</td>\n",
       "      <td>10659.375870</td>\n",
       "      <td>40.793039</td>\n",
       "      <td>26.218520</td>\n",
       "      <td>23.812993</td>\n",
       "      <td>0.056167</td>\n",
       "      <td>4.135499</td>\n",
       "    </tr>\n",
       "    <tr>\n",
       "      <td>std</td>\n",
       "      <td>241.378032</td>\n",
       "      <td>22.159019</td>\n",
       "      <td>29.827418</td>\n",
       "      <td>19.022047</td>\n",
       "      <td>0.083450</td>\n",
       "      <td>2.378567</td>\n",
       "    </tr>\n",
       "    <tr>\n",
       "      <td>min</td>\n",
       "      <td>10248.000000</td>\n",
       "      <td>1.000000</td>\n",
       "      <td>2.000000</td>\n",
       "      <td>1.000000</td>\n",
       "      <td>0.000000</td>\n",
       "      <td>1.000000</td>\n",
       "    </tr>\n",
       "    <tr>\n",
       "      <td>25%</td>\n",
       "      <td>10451.000000</td>\n",
       "      <td>22.000000</td>\n",
       "      <td>12.000000</td>\n",
       "      <td>10.000000</td>\n",
       "      <td>0.000000</td>\n",
       "      <td>2.000000</td>\n",
       "    </tr>\n",
       "    <tr>\n",
       "      <td>50%</td>\n",
       "      <td>10657.000000</td>\n",
       "      <td>41.000000</td>\n",
       "      <td>18.400000</td>\n",
       "      <td>20.000000</td>\n",
       "      <td>0.000000</td>\n",
       "      <td>4.000000</td>\n",
       "    </tr>\n",
       "    <tr>\n",
       "      <td>75%</td>\n",
       "      <td>10862.500000</td>\n",
       "      <td>60.000000</td>\n",
       "      <td>32.000000</td>\n",
       "      <td>30.000000</td>\n",
       "      <td>0.100000</td>\n",
       "      <td>6.000000</td>\n",
       "    </tr>\n",
       "    <tr>\n",
       "      <td>max</td>\n",
       "      <td>11077.000000</td>\n",
       "      <td>77.000000</td>\n",
       "      <td>263.500000</td>\n",
       "      <td>130.000000</td>\n",
       "      <td>0.250000</td>\n",
       "      <td>8.000000</td>\n",
       "    </tr>\n",
       "  </tbody>\n",
       "</table>\n",
       "</div>"
      ],
      "text/plain": [
       "            OrderId    ProductId    UnitPrice     Quantity     Discount  \\\n",
       "count   2155.000000  2155.000000  2155.000000  2155.000000  2155.000000   \n",
       "mean   10659.375870    40.793039    26.218520    23.812993     0.056167   \n",
       "std      241.378032    22.159019    29.827418    19.022047     0.083450   \n",
       "min    10248.000000     1.000000     2.000000     1.000000     0.000000   \n",
       "25%    10451.000000    22.000000    12.000000    10.000000     0.000000   \n",
       "50%    10657.000000    41.000000    18.400000    20.000000     0.000000   \n",
       "75%    10862.500000    60.000000    32.000000    30.000000     0.100000   \n",
       "max    11077.000000    77.000000   263.500000   130.000000     0.250000   \n",
       "\n",
       "        CategoryID  \n",
       "count  2155.000000  \n",
       "mean      4.135499  \n",
       "std       2.378567  \n",
       "min       1.000000  \n",
       "25%       2.000000  \n",
       "50%       4.000000  \n",
       "75%       6.000000  \n",
       "max       8.000000  "
      ]
     },
     "execution_count": 4,
     "metadata": {},
     "output_type": "execute_result"
    }
   ],
   "source": [
    "# View summary statistics\n",
    "df.describe()"
   ]
  },
  {
   "cell_type": "markdown",
   "metadata": {
    "heading_collapsed": true
   },
   "source": [
    "# Explore and transform the data"
   ]
  },
  {
   "cell_type": "markdown",
   "metadata": {
    "hidden": true
   },
   "source": [
    "There are a couple of transformations I want to apply to the data before moving any further. \n",
    "\n",
    "Knowing that I want to subset the data by whether discounts were applied or not, I will add a boolean column to indicate whether the value in the `Discount` column is 0 or not.\n",
    "\n",
    "Then I will add a column that calculates the total dollar price of a product in an order by multiplying its `UnitPrice` by its `Quantity` by `Discount`, if any. This will let me examine whether discounts increase the total dollar amount customer spend on products or in orders."
   ]
  },
  {
   "cell_type": "code",
   "execution_count": 5,
   "metadata": {
    "ExecuteTime": {
     "end_time": "2019-10-09T20:08:30.264071Z",
     "start_time": "2019-10-09T20:08:30.192518Z"
    },
    "hidden": true
   },
   "outputs": [],
   "source": [
    "# Add a boolean column to help filter discounted from non-discounted items\n",
    "df['Discount_bool'] = df.apply(lambda row: 1 if row.Discount > 0 else 0, axis=1)"
   ]
  },
  {
   "cell_type": "markdown",
   "metadata": {
    "hidden": true
   },
   "source": [
    "Now I can use the boolean column to calculate the total price in dollars of a product, accounting for a discount if there is one:"
   ]
  },
  {
   "cell_type": "code",
   "execution_count": 6,
   "metadata": {
    "ExecuteTime": {
     "end_time": "2019-10-09T20:08:31.760182Z",
     "start_time": "2019-10-09T20:08:31.015936Z"
    },
    "hidden": true,
    "scrolled": true
   },
   "outputs": [],
   "source": [
    "# Add a column to calculate the price of a product in an order\n",
    "# (unit price * quantity)\n",
    "df['ProductTotal'] = df.UnitPrice * df.Quantity\n",
    "for index in df.index:\n",
    "    if df.loc[index, 'Discount_bool'] != 0:\n",
    "        df['ProductTotal'] = df.UnitPrice * df.Quantity * (1-df.Discount)"
   ]
  },
  {
   "cell_type": "markdown",
   "metadata": {
    "hidden": true
   },
   "source": [
    "That should do it. Let's take a look:"
   ]
  },
  {
   "cell_type": "code",
   "execution_count": 7,
   "metadata": {
    "ExecuteTime": {
     "end_time": "2019-10-09T20:08:32.186065Z",
     "start_time": "2019-10-09T20:08:32.155960Z"
    },
    "hidden": true,
    "scrolled": true
   },
   "outputs": [
    {
     "data": {
      "text/html": [
       "<div>\n",
       "<style scoped>\n",
       "    .dataframe tbody tr th:only-of-type {\n",
       "        vertical-align: middle;\n",
       "    }\n",
       "\n",
       "    .dataframe tbody tr th {\n",
       "        vertical-align: top;\n",
       "    }\n",
       "\n",
       "    .dataframe thead th {\n",
       "        text-align: right;\n",
       "    }\n",
       "</style>\n",
       "<table border=\"1\" class=\"dataframe\">\n",
       "  <thead>\n",
       "    <tr style=\"text-align: right;\">\n",
       "      <th></th>\n",
       "      <th>OrderId</th>\n",
       "      <th>ProductId</th>\n",
       "      <th>UnitPrice</th>\n",
       "      <th>Quantity</th>\n",
       "      <th>Discount</th>\n",
       "      <th>ProductName</th>\n",
       "      <th>CategoryID</th>\n",
       "      <th>CategoryName</th>\n",
       "      <th>Discount_bool</th>\n",
       "      <th>ProductTotal</th>\n",
       "    </tr>\n",
       "  </thead>\n",
       "  <tbody>\n",
       "    <tr>\n",
       "      <td>0</td>\n",
       "      <td>10248</td>\n",
       "      <td>11</td>\n",
       "      <td>14.0</td>\n",
       "      <td>12</td>\n",
       "      <td>0.00</td>\n",
       "      <td>Queso Cabrales</td>\n",
       "      <td>4</td>\n",
       "      <td>Dairy Products</td>\n",
       "      <td>0</td>\n",
       "      <td>168.00</td>\n",
       "    </tr>\n",
       "    <tr>\n",
       "      <td>1</td>\n",
       "      <td>10248</td>\n",
       "      <td>42</td>\n",
       "      <td>9.8</td>\n",
       "      <td>10</td>\n",
       "      <td>0.00</td>\n",
       "      <td>Singaporean Hokkien Fried Mee</td>\n",
       "      <td>5</td>\n",
       "      <td>Grains/Cereals</td>\n",
       "      <td>0</td>\n",
       "      <td>98.00</td>\n",
       "    </tr>\n",
       "    <tr>\n",
       "      <td>2</td>\n",
       "      <td>10248</td>\n",
       "      <td>72</td>\n",
       "      <td>34.8</td>\n",
       "      <td>5</td>\n",
       "      <td>0.00</td>\n",
       "      <td>Mozzarella di Giovanni</td>\n",
       "      <td>4</td>\n",
       "      <td>Dairy Products</td>\n",
       "      <td>0</td>\n",
       "      <td>174.00</td>\n",
       "    </tr>\n",
       "    <tr>\n",
       "      <td>3</td>\n",
       "      <td>10249</td>\n",
       "      <td>14</td>\n",
       "      <td>18.6</td>\n",
       "      <td>9</td>\n",
       "      <td>0.00</td>\n",
       "      <td>Tofu</td>\n",
       "      <td>7</td>\n",
       "      <td>Produce</td>\n",
       "      <td>0</td>\n",
       "      <td>167.40</td>\n",
       "    </tr>\n",
       "    <tr>\n",
       "      <td>4</td>\n",
       "      <td>10249</td>\n",
       "      <td>51</td>\n",
       "      <td>42.4</td>\n",
       "      <td>40</td>\n",
       "      <td>0.00</td>\n",
       "      <td>Manjimup Dried Apples</td>\n",
       "      <td>7</td>\n",
       "      <td>Produce</td>\n",
       "      <td>0</td>\n",
       "      <td>1696.00</td>\n",
       "    </tr>\n",
       "    <tr>\n",
       "      <td>5</td>\n",
       "      <td>10250</td>\n",
       "      <td>41</td>\n",
       "      <td>7.7</td>\n",
       "      <td>10</td>\n",
       "      <td>0.00</td>\n",
       "      <td>Jack's New England Clam Chowder</td>\n",
       "      <td>8</td>\n",
       "      <td>Seafood</td>\n",
       "      <td>0</td>\n",
       "      <td>77.00</td>\n",
       "    </tr>\n",
       "    <tr>\n",
       "      <td>6</td>\n",
       "      <td>10250</td>\n",
       "      <td>51</td>\n",
       "      <td>42.4</td>\n",
       "      <td>35</td>\n",
       "      <td>0.15</td>\n",
       "      <td>Manjimup Dried Apples</td>\n",
       "      <td>7</td>\n",
       "      <td>Produce</td>\n",
       "      <td>1</td>\n",
       "      <td>1261.40</td>\n",
       "    </tr>\n",
       "    <tr>\n",
       "      <td>7</td>\n",
       "      <td>10250</td>\n",
       "      <td>65</td>\n",
       "      <td>16.8</td>\n",
       "      <td>15</td>\n",
       "      <td>0.15</td>\n",
       "      <td>Louisiana Fiery Hot Pepper Sauce</td>\n",
       "      <td>2</td>\n",
       "      <td>Condiments</td>\n",
       "      <td>1</td>\n",
       "      <td>214.20</td>\n",
       "    </tr>\n",
       "    <tr>\n",
       "      <td>8</td>\n",
       "      <td>10251</td>\n",
       "      <td>22</td>\n",
       "      <td>16.8</td>\n",
       "      <td>6</td>\n",
       "      <td>0.05</td>\n",
       "      <td>Gustaf's Knäckebröd</td>\n",
       "      <td>5</td>\n",
       "      <td>Grains/Cereals</td>\n",
       "      <td>1</td>\n",
       "      <td>95.76</td>\n",
       "    </tr>\n",
       "    <tr>\n",
       "      <td>9</td>\n",
       "      <td>10251</td>\n",
       "      <td>57</td>\n",
       "      <td>15.6</td>\n",
       "      <td>15</td>\n",
       "      <td>0.05</td>\n",
       "      <td>Ravioli Angelo</td>\n",
       "      <td>5</td>\n",
       "      <td>Grains/Cereals</td>\n",
       "      <td>1</td>\n",
       "      <td>222.30</td>\n",
       "    </tr>\n",
       "  </tbody>\n",
       "</table>\n",
       "</div>"
      ],
      "text/plain": [
       "   OrderId  ProductId  UnitPrice  Quantity  Discount  \\\n",
       "0    10248         11       14.0        12      0.00   \n",
       "1    10248         42        9.8        10      0.00   \n",
       "2    10248         72       34.8         5      0.00   \n",
       "3    10249         14       18.6         9      0.00   \n",
       "4    10249         51       42.4        40      0.00   \n",
       "5    10250         41        7.7        10      0.00   \n",
       "6    10250         51       42.4        35      0.15   \n",
       "7    10250         65       16.8        15      0.15   \n",
       "8    10251         22       16.8         6      0.05   \n",
       "9    10251         57       15.6        15      0.05   \n",
       "\n",
       "                        ProductName  CategoryID    CategoryName  \\\n",
       "0                    Queso Cabrales           4  Dairy Products   \n",
       "1     Singaporean Hokkien Fried Mee           5  Grains/Cereals   \n",
       "2            Mozzarella di Giovanni           4  Dairy Products   \n",
       "3                              Tofu           7         Produce   \n",
       "4             Manjimup Dried Apples           7         Produce   \n",
       "5   Jack's New England Clam Chowder           8         Seafood   \n",
       "6             Manjimup Dried Apples           7         Produce   \n",
       "7  Louisiana Fiery Hot Pepper Sauce           2      Condiments   \n",
       "8               Gustaf's Knäckebröd           5  Grains/Cereals   \n",
       "9                    Ravioli Angelo           5  Grains/Cereals   \n",
       "\n",
       "   Discount_bool  ProductTotal  \n",
       "0              0        168.00  \n",
       "1              0         98.00  \n",
       "2              0        174.00  \n",
       "3              0        167.40  \n",
       "4              0       1696.00  \n",
       "5              0         77.00  \n",
       "6              1       1261.40  \n",
       "7              1        214.20  \n",
       "8              1         95.76  \n",
       "9              1        222.30  "
      ]
     },
     "execution_count": 7,
     "metadata": {},
     "output_type": "execute_result"
    }
   ],
   "source": [
    "# View the data\n",
    "df.head(10)"
   ]
  },
  {
   "cell_type": "markdown",
   "metadata": {
    "hidden": true
   },
   "source": [
    "To check whether discounts were handled correctly, look at rows 5 and 6, for instance. The `ProductTotal` for row 5 is 77.00 (= 7.7 * 10), and the total for row 6 is 1261.40 (= 42.4 * 35 * (1-0.15)). \n",
    "\n",
    "Let's take one last look at summary statistics before moving on:"
   ]
  },
  {
   "cell_type": "code",
   "execution_count": 8,
   "metadata": {
    "ExecuteTime": {
     "end_time": "2019-10-09T20:08:33.134442Z",
     "start_time": "2019-10-09T20:08:33.081010Z"
    },
    "hidden": true,
    "scrolled": true
   },
   "outputs": [
    {
     "data": {
      "text/html": [
       "<div>\n",
       "<style scoped>\n",
       "    .dataframe tbody tr th:only-of-type {\n",
       "        vertical-align: middle;\n",
       "    }\n",
       "\n",
       "    .dataframe tbody tr th {\n",
       "        vertical-align: top;\n",
       "    }\n",
       "\n",
       "    .dataframe thead th {\n",
       "        text-align: right;\n",
       "    }\n",
       "</style>\n",
       "<table border=\"1\" class=\"dataframe\">\n",
       "  <thead>\n",
       "    <tr style=\"text-align: right;\">\n",
       "      <th></th>\n",
       "      <th>OrderId</th>\n",
       "      <th>ProductId</th>\n",
       "      <th>UnitPrice</th>\n",
       "      <th>Quantity</th>\n",
       "      <th>Discount</th>\n",
       "      <th>CategoryID</th>\n",
       "      <th>Discount_bool</th>\n",
       "      <th>ProductTotal</th>\n",
       "    </tr>\n",
       "  </thead>\n",
       "  <tbody>\n",
       "    <tr>\n",
       "      <td>count</td>\n",
       "      <td>2155.000000</td>\n",
       "      <td>2155.000000</td>\n",
       "      <td>2155.000000</td>\n",
       "      <td>2155.000000</td>\n",
       "      <td>2155.000000</td>\n",
       "      <td>2155.000000</td>\n",
       "      <td>2155.000000</td>\n",
       "      <td>2155.000000</td>\n",
       "    </tr>\n",
       "    <tr>\n",
       "      <td>mean</td>\n",
       "      <td>10659.375870</td>\n",
       "      <td>40.793039</td>\n",
       "      <td>26.218520</td>\n",
       "      <td>23.812993</td>\n",
       "      <td>0.056167</td>\n",
       "      <td>4.135499</td>\n",
       "      <td>0.388863</td>\n",
       "      <td>587.374960</td>\n",
       "    </tr>\n",
       "    <tr>\n",
       "      <td>std</td>\n",
       "      <td>241.378032</td>\n",
       "      <td>22.159019</td>\n",
       "      <td>29.827418</td>\n",
       "      <td>19.022047</td>\n",
       "      <td>0.083450</td>\n",
       "      <td>2.378567</td>\n",
       "      <td>0.487605</td>\n",
       "      <td>969.224235</td>\n",
       "    </tr>\n",
       "    <tr>\n",
       "      <td>min</td>\n",
       "      <td>10248.000000</td>\n",
       "      <td>1.000000</td>\n",
       "      <td>2.000000</td>\n",
       "      <td>1.000000</td>\n",
       "      <td>0.000000</td>\n",
       "      <td>1.000000</td>\n",
       "      <td>0.000000</td>\n",
       "      <td>4.800000</td>\n",
       "    </tr>\n",
       "    <tr>\n",
       "      <td>25%</td>\n",
       "      <td>10451.000000</td>\n",
       "      <td>22.000000</td>\n",
       "      <td>12.000000</td>\n",
       "      <td>10.000000</td>\n",
       "      <td>0.000000</td>\n",
       "      <td>2.000000</td>\n",
       "      <td>0.000000</td>\n",
       "      <td>147.000000</td>\n",
       "    </tr>\n",
       "    <tr>\n",
       "      <td>50%</td>\n",
       "      <td>10657.000000</td>\n",
       "      <td>41.000000</td>\n",
       "      <td>18.400000</td>\n",
       "      <td>20.000000</td>\n",
       "      <td>0.000000</td>\n",
       "      <td>4.000000</td>\n",
       "      <td>0.000000</td>\n",
       "      <td>337.750000</td>\n",
       "    </tr>\n",
       "    <tr>\n",
       "      <td>75%</td>\n",
       "      <td>10862.500000</td>\n",
       "      <td>60.000000</td>\n",
       "      <td>32.000000</td>\n",
       "      <td>30.000000</td>\n",
       "      <td>0.100000</td>\n",
       "      <td>6.000000</td>\n",
       "      <td>1.000000</td>\n",
       "      <td>656.000000</td>\n",
       "    </tr>\n",
       "    <tr>\n",
       "      <td>max</td>\n",
       "      <td>11077.000000</td>\n",
       "      <td>77.000000</td>\n",
       "      <td>263.500000</td>\n",
       "      <td>130.000000</td>\n",
       "      <td>0.250000</td>\n",
       "      <td>8.000000</td>\n",
       "      <td>1.000000</td>\n",
       "      <td>15810.000000</td>\n",
       "    </tr>\n",
       "  </tbody>\n",
       "</table>\n",
       "</div>"
      ],
      "text/plain": [
       "            OrderId    ProductId    UnitPrice     Quantity     Discount  \\\n",
       "count   2155.000000  2155.000000  2155.000000  2155.000000  2155.000000   \n",
       "mean   10659.375870    40.793039    26.218520    23.812993     0.056167   \n",
       "std      241.378032    22.159019    29.827418    19.022047     0.083450   \n",
       "min    10248.000000     1.000000     2.000000     1.000000     0.000000   \n",
       "25%    10451.000000    22.000000    12.000000    10.000000     0.000000   \n",
       "50%    10657.000000    41.000000    18.400000    20.000000     0.000000   \n",
       "75%    10862.500000    60.000000    32.000000    30.000000     0.100000   \n",
       "max    11077.000000    77.000000   263.500000   130.000000     0.250000   \n",
       "\n",
       "        CategoryID  Discount_bool  ProductTotal  \n",
       "count  2155.000000    2155.000000   2155.000000  \n",
       "mean      4.135499       0.388863    587.374960  \n",
       "std       2.378567       0.487605    969.224235  \n",
       "min       1.000000       0.000000      4.800000  \n",
       "25%       2.000000       0.000000    147.000000  \n",
       "50%       4.000000       0.000000    337.750000  \n",
       "75%       6.000000       1.000000    656.000000  \n",
       "max       8.000000       1.000000  15810.000000  "
      ]
     },
     "execution_count": 8,
     "metadata": {},
     "output_type": "execute_result"
    }
   ],
   "source": [
    "# Check summary statistics\n",
    "df.describe()"
   ]
  },
  {
   "cell_type": "markdown",
   "metadata": {
    "hidden": true
   },
   "source": [
    "Since most of my questions have to do with `Quantity`, I should confirm that it will meet our assumption for normality&mdash;not that the values of `Quantity` themselves are normally distributed, but that the means of many samples drawn from those values would have a normal distribution converging around the \"true\" mean.\n",
    "\n",
    "I can test this easily by drawing a number of random samples from the `Quantity` values and then plotting a histogram to confirm that they are normally distributed."
   ]
  },
  {
   "cell_type": "code",
   "execution_count": 9,
   "metadata": {
    "ExecuteTime": {
     "end_time": "2019-10-09T20:08:33.876895Z",
     "start_time": "2019-10-09T20:08:33.872029Z"
    },
    "hidden": true
   },
   "outputs": [],
   "source": [
    "# Get just the `Quantity` values\n",
    "quantities = df.Quantity"
   ]
  },
  {
   "cell_type": "code",
   "execution_count": 10,
   "metadata": {
    "ExecuteTime": {
     "end_time": "2019-10-09T20:08:34.668830Z",
     "start_time": "2019-10-09T20:08:34.287099Z"
    },
    "hidden": true
   },
   "outputs": [
    {
     "data": {
      "image/png": "[encoded data removed]",
      "text/plain": [
       "<Figure size 720x432 with 1 Axes>"
      ]
     },
     "metadata": {
      "needs_background": "light"
     },
     "output_type": "display_data"
    }
   ],
   "source": [
    "# Plot the means of 1000 samples of size 30\n",
    "sample_means = []\n",
    "for n in range(1000):\n",
    "    sample = np.random.choice(quantities, 30)\n",
    "    mean = np.mean(sample)\n",
    "    sample_means.append(mean)\n",
    "\n",
    "plt.figure(figsize=(10,6))\n",
    "sns.distplot(sample_means)\n",
    "plt.xlabel('Sample means')\n",
    "plt.ylabel('Probability density')\n",
    "plt.title('Distribution of sample means\\n1000 samples of n=30')\n",
    "plt.show();"
   ]
  },
  {
   "cell_type": "markdown",
   "metadata": {
    "hidden": true
   },
   "source": [
    "Even with the relatively small and arbitrary sample size of 30, that looks normal enough to me. I also think it is reasonable to assume that the observations in the dataset are independent. I don't know whether products were randomly selected for the application of discounts (there was probably some strategy involved), but I will assume that the data passes the assumption of randomness as well.\n",
    "\n",
    "I will re-check for these assumptions as I manipulate the data for subsequent hypothesis tests."
   ]
  },
  {
   "cell_type": "markdown",
   "metadata": {
    "heading_collapsed": true
   },
   "source": [
    "# Create needed functions"
   ]
  },
  {
   "cell_type": "markdown",
   "metadata": {
    "hidden": true
   },
   "source": [
    "Describe custom function needs."
   ]
  },
  {
   "cell_type": "code",
   "execution_count": 11,
   "metadata": {
    "ExecuteTime": {
     "end_time": "2019-10-09T20:08:36.912089Z",
     "start_time": "2019-10-09T20:08:36.906180Z"
    },
    "hidden": true
   },
   "outputs": [],
   "source": [
    "# Define a function to run Welch's t-test, evaluate and print results\n",
    "def run_welch(a, b, two_sided=False, alpha=0.05):\n",
    "    \"\"\"Perform Welch's t-test and compare p-value to given alpha.\n",
    "       a: first sample (one-dimensional array)\n",
    "       b: second sample (one-dimensional array)\n",
    "       two-sided: whether the t-test should be two-sided or not (boolean)\n",
    "       alpha: alpha value for comparison with calculated p-value\n",
    "       \n",
    "       Dependencies: welch_functions.py\"\"\"\n",
    "    \n",
    "    # Calculate p-value\n",
    "    p_value = p_value_welch_ttest(a, b, two_sided=False)\n",
    "    \n",
    "    # Evaluate and print results\n",
    "    if p_value < alpha:\n",
    "        print('Null hypothesis rejected (p_value = {})'.format(p_value))\n",
    "    else:\n",
    "        print('Fail to reject null hypothesis (p_value = {})'.format(p_value))\n",
    "    "
   ]
  },
  {
   "cell_type": "code",
   "execution_count": 102,
   "metadata": {
    "ExecuteTime": {
     "end_time": "2019-10-09T22:31:38.467427Z",
     "start_time": "2019-10-09T22:31:38.462842Z"
    },
    "hidden": true
   },
   "outputs": [],
   "source": [
    "\n",
    "def Cohen_d(group1, group2):\n",
    "\n",
    "    diff = group1.mean() - group2.mean()\n",
    "\n",
    "    n1, n2 = len(group1), len(group2)\n",
    "    var1 = group1.var()\n",
    "    var2 = group2.var()\n",
    "\n",
    "    pooled_var = (n1 * var1 + n2 * var2) / (n1 + n2)\n",
    "    \n",
    "    d = diff / np.sqrt(pooled_var)\n",
    "    \n",
    "    return d"
   ]
  },
  {
   "cell_type": "code",
   "execution_count": 12,
   "metadata": {
    "ExecuteTime": {
     "end_time": "2019-10-09T20:08:37.817238Z",
     "start_time": "2019-10-09T20:08:37.810380Z"
    },
    "hidden": true
   },
   "outputs": [],
   "source": [
    "# Define a function to plot KDEs comparing discounted items to \n",
    "# non-discounted items\n",
    "# IS THERE A WAY to generalize this to other comparisons (not just ones\n",
    "# that involve a % level)?\n",
    "def compare_quantity_kdes(non_discounted, discounted, percent):\n",
    "    \"\"\"Plots KDEs for quantities of non-discounted items and discounted \n",
    "       items at a specified discount level.\n",
    "       non_discounted: 1-D array\n",
    "       discounted: 1-D array\n",
    "       percent: the value of the discount (for labeling purposes)\n",
    "       Dependencies: matplotlib, seaborn\"\"\"\n",
    "    \n",
    "    plt.figure(figsize=(8,6))\n",
    "    sns.distplot(non_discounted, label='No discount')\n",
    "    sns.distplot(discounted, label='{}}% discount'.format(percent))\n",
    "    plt.axvline(x=np.mean(non_discounted), linestyle='--', \n",
    "                label='Mean, no discount')\n",
    "    plt.axvline(x=np.mean(discounted), linestyle='--', color='orange', \n",
    "                label='Mean, {}% discount'.format(percent))\n",
    "    plt.legend()\n",
    "    plt.title('Comparing discounted v. non-discounted products')\n",
    "    plt.ylabel('Probability density')\n",
    "    plt.show();\n",
    "\n"
   ]
  },
  {
   "cell_type": "markdown",
   "metadata": {},
   "source": [
    "# Hypothesis tests"
   ]
  },
  {
   "cell_type": "markdown",
   "metadata": {
    "heading_collapsed": true
   },
   "source": [
    "## Hyp 1 with outliers removed\n",
    "\n",
    "Does discount amount have a statistically significant effect on the quantity of a product in an order? If so, at what level(s) of discount?"
   ]
  },
  {
   "cell_type": "markdown",
   "metadata": {
    "hidden": true
   },
   "source": [
    "This test uses the following hypotheses to begin with:\n",
    "\n",
    "H<sub>0</sub>: mean quantity ordered without discount == mean quantity ordered with discount\n",
    "\n",
    "H<sub>a</sub>: mean quantity ordered without discount < mean quantity ordered with discount\n",
    "\n",
    "If discounts are determined to have a significant effect on quantity, then I will re-phrase my hypotheses for subsequent tests to determine which specific discount amounts have significant effects on quantity.\n",
    "\n",
    "This initial test will be a one-way ANOVA using the following parameters:"
   ]
  },
  {
   "cell_type": "code",
   "execution_count": 66,
   "metadata": {
    "ExecuteTime": {
     "end_time": "2019-10-09T21:26:16.432730Z",
     "start_time": "2019-10-09T21:26:16.428941Z"
    },
    "hidden": true
   },
   "outputs": [],
   "source": [
    "# Set alpha and power\n",
    "alpha = 0.05\n",
    "power = 0.8"
   ]
  },
  {
   "cell_type": "markdown",
   "metadata": {
    "hidden": true
   },
   "source": [
    "First I want to check the distribution of quantity values to see if they are normally distributed or if there are outliers that could have a big impact on variance."
   ]
  },
  {
   "cell_type": "code",
   "execution_count": 65,
   "metadata": {
    "ExecuteTime": {
     "end_time": "2019-10-09T21:25:09.190250Z",
     "start_time": "2019-10-09T21:25:08.715304Z"
    },
    "hidden": true,
    "scrolled": true
   },
   "outputs": [
    {
     "data": {
      "image/png": "[encoded data removed]",
      "text/plain": [
       "<Figure size 1008x432 with 2 Axes>"
      ]
     },
     "metadata": {
      "needs_background": "light"
     },
     "output_type": "display_data"
    }
   ],
   "source": [
    "# Create boxplot and distplot for df.Quantity\n",
    "fig, axes = plt.subplots(1, 2, figsize=(14, 6))\n",
    "ax1 = sns.boxplot(df.Quantity, ax=axes[0])\n",
    "ax2 = sns.distplot(df.Quantity, ax=axes[1])\n",
    "plt.suptitle('Distribution of `Quantity` Values', fontsize=18);"
   ]
  },
  {
   "cell_type": "markdown",
   "metadata": {
    "hidden": true
   },
   "source": [
    "The boxplot shows that there are some values lying outside of the whiskers, which represent 1.5 times the interquartile range for this data. The distplot gives another perspective on this positive skew. \n",
    "\n",
    "To ensure that outliers are not affecting the results of my analysis, I will drop any observations with `Quantity` values over 60 (see how I calculated this value below)."
   ]
  },
  {
   "cell_type": "code",
   "execution_count": 69,
   "metadata": {
    "ExecuteTime": {
     "end_time": "2019-10-09T21:32:47.424265Z",
     "start_time": "2019-10-09T21:32:47.412276Z"
    },
    "hidden": true
   },
   "outputs": [
    {
     "data": {
      "text/plain": [
       "60.0"
      ]
     },
     "execution_count": 69,
     "metadata": {},
     "output_type": "execute_result"
    }
   ],
   "source": [
    "# Calculate the cutoff point (1.5*IQR + 75th percentile)\n",
    "iqr = stats.iqr(df.Quantity)\n",
    "upper_quartile = 30\n",
    "cutoff = 1.5 * iqr + upper_quartile\n",
    "cutoff"
   ]
  },
  {
   "cell_type": "code",
   "execution_count": 39,
   "metadata": {
    "ExecuteTime": {
     "end_time": "2019-10-09T20:27:52.451602Z",
     "start_time": "2019-10-09T20:27:52.396618Z"
    },
    "hidden": true
   },
   "outputs": [
    {
     "data": {
      "text/html": [
       "<div>\n",
       "<style scoped>\n",
       "    .dataframe tbody tr th:only-of-type {\n",
       "        vertical-align: middle;\n",
       "    }\n",
       "\n",
       "    .dataframe tbody tr th {\n",
       "        vertical-align: top;\n",
       "    }\n",
       "\n",
       "    .dataframe thead th {\n",
       "        text-align: right;\n",
       "    }\n",
       "</style>\n",
       "<table border=\"1\" class=\"dataframe\">\n",
       "  <thead>\n",
       "    <tr style=\"text-align: right;\">\n",
       "      <th></th>\n",
       "      <th>OrderId</th>\n",
       "      <th>ProductId</th>\n",
       "      <th>UnitPrice</th>\n",
       "      <th>Quantity</th>\n",
       "      <th>Discount</th>\n",
       "      <th>CategoryID</th>\n",
       "      <th>Discount_bool</th>\n",
       "      <th>ProductTotal</th>\n",
       "    </tr>\n",
       "  </thead>\n",
       "  <tbody>\n",
       "    <tr>\n",
       "      <td>count</td>\n",
       "      <td>2068.000000</td>\n",
       "      <td>2068.000000</td>\n",
       "      <td>2068.000000</td>\n",
       "      <td>2068.000000</td>\n",
       "      <td>2068.000000</td>\n",
       "      <td>2068.000000</td>\n",
       "      <td>2068.000000</td>\n",
       "      <td>2068.000000</td>\n",
       "    </tr>\n",
       "    <tr>\n",
       "      <td>mean</td>\n",
       "      <td>10659.126209</td>\n",
       "      <td>40.845745</td>\n",
       "      <td>26.295909</td>\n",
       "      <td>21.290135</td>\n",
       "      <td>0.055073</td>\n",
       "      <td>4.132495</td>\n",
       "      <td>0.379594</td>\n",
       "      <td>532.440782</td>\n",
       "    </tr>\n",
       "    <tr>\n",
       "      <td>std</td>\n",
       "      <td>241.028049</td>\n",
       "      <td>22.184800</td>\n",
       "      <td>30.250406</td>\n",
       "      <td>14.329793</td>\n",
       "      <td>0.083188</td>\n",
       "      <td>2.378310</td>\n",
       "      <td>0.485403</td>\n",
       "      <td>900.509713</td>\n",
       "    </tr>\n",
       "    <tr>\n",
       "      <td>min</td>\n",
       "      <td>10248.000000</td>\n",
       "      <td>1.000000</td>\n",
       "      <td>2.000000</td>\n",
       "      <td>1.000000</td>\n",
       "      <td>0.000000</td>\n",
       "      <td>1.000000</td>\n",
       "      <td>0.000000</td>\n",
       "      <td>4.800000</td>\n",
       "    </tr>\n",
       "    <tr>\n",
       "      <td>25%</td>\n",
       "      <td>10451.750000</td>\n",
       "      <td>22.000000</td>\n",
       "      <td>12.000000</td>\n",
       "      <td>10.000000</td>\n",
       "      <td>0.000000</td>\n",
       "      <td>2.000000</td>\n",
       "      <td>0.000000</td>\n",
       "      <td>142.500000</td>\n",
       "    </tr>\n",
       "    <tr>\n",
       "      <td>50%</td>\n",
       "      <td>10657.000000</td>\n",
       "      <td>41.000000</td>\n",
       "      <td>18.400000</td>\n",
       "      <td>20.000000</td>\n",
       "      <td>0.000000</td>\n",
       "      <td>4.000000</td>\n",
       "      <td>0.000000</td>\n",
       "      <td>315.000000</td>\n",
       "    </tr>\n",
       "    <tr>\n",
       "      <td>75%</td>\n",
       "      <td>10861.000000</td>\n",
       "      <td>60.000000</td>\n",
       "      <td>32.000000</td>\n",
       "      <td>30.000000</td>\n",
       "      <td>0.100000</td>\n",
       "      <td>6.000000</td>\n",
       "      <td>1.000000</td>\n",
       "      <td>608.000000</td>\n",
       "    </tr>\n",
       "    <tr>\n",
       "      <td>max</td>\n",
       "      <td>11077.000000</td>\n",
       "      <td>77.000000</td>\n",
       "      <td>263.500000</td>\n",
       "      <td>60.000000</td>\n",
       "      <td>0.250000</td>\n",
       "      <td>8.000000</td>\n",
       "      <td>1.000000</td>\n",
       "      <td>15810.000000</td>\n",
       "    </tr>\n",
       "  </tbody>\n",
       "</table>\n",
       "</div>"
      ],
      "text/plain": [
       "            OrderId    ProductId    UnitPrice     Quantity     Discount  \\\n",
       "count   2068.000000  2068.000000  2068.000000  2068.000000  2068.000000   \n",
       "mean   10659.126209    40.845745    26.295909    21.290135     0.055073   \n",
       "std      241.028049    22.184800    30.250406    14.329793     0.083188   \n",
       "min    10248.000000     1.000000     2.000000     1.000000     0.000000   \n",
       "25%    10451.750000    22.000000    12.000000    10.000000     0.000000   \n",
       "50%    10657.000000    41.000000    18.400000    20.000000     0.000000   \n",
       "75%    10861.000000    60.000000    32.000000    30.000000     0.100000   \n",
       "max    11077.000000    77.000000   263.500000    60.000000     0.250000   \n",
       "\n",
       "        CategoryID  Discount_bool  ProductTotal  \n",
       "count  2068.000000    2068.000000   2068.000000  \n",
       "mean      4.132495       0.379594    532.440782  \n",
       "std       2.378310       0.485403    900.509713  \n",
       "min       1.000000       0.000000      4.800000  \n",
       "25%       2.000000       0.000000    142.500000  \n",
       "50%       4.000000       0.000000    315.000000  \n",
       "75%       6.000000       1.000000    608.000000  \n",
       "max       8.000000       1.000000  15810.000000  "
      ]
     },
     "execution_count": 39,
     "metadata": {},
     "output_type": "execute_result"
    }
   ],
   "source": [
    "# Remove outliers\n",
    "df_trimmed = df[df.Quantity <= cutoff]\n",
    "df_trimmed.describe()"
   ]
  },
  {
   "cell_type": "markdown",
   "metadata": {
    "hidden": true
   },
   "source": [
    "I now believe that I have data is that (roughly) normally distributed, independent, and random. It's time for the ANOVA test on the `Discount_bool` column to see if having a discount of any value has a significant effect on quantity."
   ]
  },
  {
   "cell_type": "code",
   "execution_count": 70,
   "metadata": {
    "ExecuteTime": {
     "end_time": "2019-10-09T21:35:29.798306Z",
     "start_time": "2019-10-09T21:35:29.744464Z"
    },
    "hidden": true,
    "scrolled": true
   },
   "outputs": [
    {
     "data": {
      "text/html": [
       "<div>\n",
       "<style scoped>\n",
       "    .dataframe tbody tr th:only-of-type {\n",
       "        vertical-align: middle;\n",
       "    }\n",
       "\n",
       "    .dataframe tbody tr th {\n",
       "        vertical-align: top;\n",
       "    }\n",
       "\n",
       "    .dataframe thead th {\n",
       "        text-align: right;\n",
       "    }\n",
       "</style>\n",
       "<table border=\"1\" class=\"dataframe\">\n",
       "  <thead>\n",
       "    <tr style=\"text-align: right;\">\n",
       "      <th></th>\n",
       "      <th>sum_sq</th>\n",
       "      <th>df</th>\n",
       "      <th>F</th>\n",
       "      <th>PR(&gt;F)</th>\n",
       "    </tr>\n",
       "  </thead>\n",
       "  <tbody>\n",
       "    <tr>\n",
       "      <td>C(Discount_bool)</td>\n",
       "      <td>5470.464835</td>\n",
       "      <td>1.0</td>\n",
       "      <td>26.975409</td>\n",
       "      <td>2.262989e-07</td>\n",
       "    </tr>\n",
       "    <tr>\n",
       "      <td>Residual</td>\n",
       "      <td>418973.453927</td>\n",
       "      <td>2066.0</td>\n",
       "      <td>NaN</td>\n",
       "      <td>NaN</td>\n",
       "    </tr>\n",
       "  </tbody>\n",
       "</table>\n",
       "</div>"
      ],
      "text/plain": [
       "                         sum_sq      df          F        PR(>F)\n",
       "C(Discount_bool)    5470.464835     1.0  26.975409  2.262989e-07\n",
       "Residual          418973.453927  2066.0        NaN           NaN"
      ]
     },
     "execution_count": 70,
     "metadata": {},
     "output_type": "execute_result"
    }
   ],
   "source": [
    "# Run ANOVA \n",
    "formula = 'Quantity ~ C(Discount_bool)'\n",
    "\n",
    "import statsmodels.api as sm\n",
    "from statsmodels.formula.api import ols\n",
    "\n",
    "lm = ols(formula, df_trimmed).fit()\n",
    "table = sm.stats.anova_lm(lm, typ=2)\n",
    "table"
   ]
  },
  {
   "cell_type": "markdown",
   "metadata": {
    "hidden": true
   },
   "source": [
    "The very low p-value tells me that I can reject the null hypothesis; discounted products are purchased in greater quantities than non-discounted products."
   ]
  },
  {
   "cell_type": "code",
   "execution_count": 72,
   "metadata": {
    "ExecuteTime": {
     "end_time": "2019-10-09T21:42:44.116974Z",
     "start_time": "2019-10-09T21:42:44.108519Z"
    },
    "hidden": true
   },
   "outputs": [],
   "source": [
    "# Subset the data based on `Discount`\n",
    "df_no_discount = df_trimmed[df_trimmed.Discount == 0]\n",
    "df_discount = df_trimmed[df_trimmed.Discount != 0]"
   ]
  },
  {
   "cell_type": "code",
   "execution_count": 81,
   "metadata": {
    "ExecuteTime": {
     "end_time": "2019-10-09T21:59:37.808045Z",
     "start_time": "2019-10-09T21:59:37.369912Z"
    },
    "hidden": true
   },
   "outputs": [
    {
     "data": {
      "image/png": "[encoded data removed]",
      "text/plain": [
       "<Figure size 720x432 with 1 Axes>"
      ]
     },
     "metadata": {
      "needs_background": "light"
     },
     "output_type": "display_data"
    }
   ],
   "source": [
    "plt.figure(figsize=(10,6))\n",
    "sns.distplot(df_no_discount.Quantity, label='No Discount')\n",
    "sns.distplot(df_discount.Quantity, label='Discount')\n",
    "plt.axvline(x=np.mean(df_no_discount.Quantity), linestyle='--', \n",
    "            label='Mean, no discount')\n",
    "plt.axvline(x=np.mean(df_discount.Quantity), linestyle='--', color='orange',\n",
    "            label='Mean, discount')\n",
    "plt.legend()\n",
    "plt.title('Distributions of discounted v. non-discounted products')\n",
    "plt.show();"
   ]
  },
  {
   "cell_type": "code",
   "execution_count": 74,
   "metadata": {
    "ExecuteTime": {
     "end_time": "2019-10-09T21:44:53.503504Z",
     "start_time": "2019-10-09T21:44:53.495138Z"
    },
    "hidden": true,
    "scrolled": true
   },
   "outputs": [
    {
     "data": {
      "text/plain": [
       "LeveneResult(statistic=2.6481610511325036, pvalue=0.10382224766808272)"
      ]
     },
     "execution_count": 74,
     "metadata": {},
     "output_type": "execute_result"
    }
   ],
   "source": [
    "stats.levene(df_no_discount.Quantity, df_discount.Quantity)"
   ]
  },
  {
   "cell_type": "markdown",
   "metadata": {
    "hidden": true
   },
   "source": [
    "Because the Levene test shows that the two samples have equivalent variance, I can use Cohen's _d_ to calculate the effect size, which in turn will let me calculate the statistical power my test will have given my current alpha, sample sizes, and effect size."
   ]
  },
  {
   "cell_type": "code",
   "execution_count": 84,
   "metadata": {
    "ExecuteTime": {
     "end_time": "2019-10-09T22:02:36.654428Z",
     "start_time": "2019-10-09T22:02:36.648060Z"
    },
    "hidden": true
   },
   "outputs": [
    {
     "name": "stdout",
     "output_type": "stream",
     "text": [
      "Raw effect size: 3.3515000173756775\n",
      "Cohen's d: 0.2339399191060167\n"
     ]
    }
   ],
   "source": [
    "pop_std = np.std(df_trimmed.Quantity)\n",
    "no_disc_mean = np.mean(df_no_discount.Quantity)\n",
    "disc_mean = np.mean(df_discount.Quantity)\n",
    "print('Raw effect size:', disc_mean - no_disc_mean)\n",
    "\n",
    "d = (disc_mean - no_disc_mean) / pop_std\n",
    "print('Cohen\\'s d:', d)"
   ]
  },
  {
   "cell_type": "code",
   "execution_count": 83,
   "metadata": {
    "ExecuteTime": {
     "end_time": "2019-10-09T22:01:05.412976Z",
     "start_time": "2019-10-09T22:01:05.405546Z"
    },
    "hidden": true
   },
   "outputs": [
    {
     "data": {
      "text/plain": [
       "0.9962290896776146"
      ]
     },
     "execution_count": 83,
     "metadata": {},
     "output_type": "execute_result"
    }
   ],
   "source": [
    "power_analysis = TTestIndPower()\n",
    "power_analysis.solve_power(nobs1=len(df_discount), alpha=alpha, effect_size=d)"
   ]
  },
  {
   "cell_type": "markdown",
   "metadata": {
    "hidden": true
   },
   "source": [
    "Customers ordered 3.35 more of discounted items than non-discounted items, and our statistical test had a power of 0.996, which is well above the minimum of 0.8 that I established earlier. With the very low p-value from the ANOVA test and the high power, we should feel pretty confident that we have avoided both Type I and Type II errors."
   ]
  },
  {
   "cell_type": "markdown",
   "metadata": {
    "hidden": true
   },
   "source": [
    "### Follow-up: at which discount levels do customers buy more of a product?"
   ]
  },
  {
   "cell_type": "markdown",
   "metadata": {
    "hidden": true
   },
   "source": [
    "If we are going to apply discounts to products, at what discount levels can we expect customers to buy more of a product? To answer this question, I am going to use ANOVA only on the discounted products and use the resulting p-values to determine which discounts have a significant impact on quantity ordered."
   ]
  },
  {
   "cell_type": "markdown",
   "metadata": {
    "heading_collapsed": true,
    "hidden": true
   },
   "source": [
    "#### Preparing the data"
   ]
  },
  {
   "cell_type": "markdown",
   "metadata": {
    "hidden": true
   },
   "source": [
    "First I will need to create dummy variables for the discount levels I want to evaluate. What are the existing discount levels?"
   ]
  },
  {
   "cell_type": "code",
   "execution_count": 85,
   "metadata": {
    "ExecuteTime": {
     "end_time": "2019-10-09T22:10:44.356675Z",
     "start_time": "2019-10-09T22:10:44.347352Z"
    },
    "hidden": true
   },
   "outputs": [
    {
     "data": {
      "text/plain": [
       "0.05    170\n",
       "0.10    164\n",
       "0.20    154\n",
       "0.25    146\n",
       "0.15    143\n",
       "0.03      3\n",
       "0.02      2\n",
       "0.04      1\n",
       "0.06      1\n",
       "0.01      1\n",
       "Name: Discount, dtype: int64"
      ]
     },
     "execution_count": 85,
     "metadata": {},
     "output_type": "execute_result"
    }
   ],
   "source": [
    "df_discount.Discount.value_counts()"
   ]
  },
  {
   "cell_type": "markdown",
   "metadata": {
    "hidden": true
   },
   "source": [
    "A few of these discounts look like they rarely get used (1-4%, 6%), so I am going to omit them from my analysis."
   ]
  },
  {
   "cell_type": "code",
   "execution_count": 87,
   "metadata": {
    "ExecuteTime": {
     "end_time": "2019-10-09T22:12:52.062888Z",
     "start_time": "2019-10-09T22:12:52.050154Z"
    },
    "hidden": true
   },
   "outputs": [
    {
     "data": {
      "text/plain": [
       "0.05    170\n",
       "0.10    164\n",
       "0.20    154\n",
       "0.25    146\n",
       "0.15    143\n",
       "Name: Discount, dtype: int64"
      ]
     },
     "execution_count": 87,
     "metadata": {},
     "output_type": "execute_result"
    }
   ],
   "source": [
    "df_disc_trimmed = df_discount[(df_discount.Discount == 0.05) | (df_discount.Discount >=0.1)]\n",
    "df_disc_trimmed.Discount.value_counts()"
   ]
  },
  {
   "cell_type": "markdown",
   "metadata": {
    "hidden": true
   },
   "source": [
    "That's better. Now I will create dummy variables for the remaining discounts and attach them to the discounted dataset."
   ]
  },
  {
   "cell_type": "code",
   "execution_count": 88,
   "metadata": {
    "ExecuteTime": {
     "end_time": "2019-10-09T22:13:57.167240Z",
     "start_time": "2019-10-09T22:13:57.153264Z"
    },
    "hidden": true
   },
   "outputs": [
    {
     "data": {
      "text/html": [
       "<div>\n",
       "<style scoped>\n",
       "    .dataframe tbody tr th:only-of-type {\n",
       "        vertical-align: middle;\n",
       "    }\n",
       "\n",
       "    .dataframe tbody tr th {\n",
       "        vertical-align: top;\n",
       "    }\n",
       "\n",
       "    .dataframe thead th {\n",
       "        text-align: right;\n",
       "    }\n",
       "</style>\n",
       "<table border=\"1\" class=\"dataframe\">\n",
       "  <thead>\n",
       "    <tr style=\"text-align: right;\">\n",
       "      <th></th>\n",
       "      <th>Discount_0.05</th>\n",
       "      <th>Discount_0.1</th>\n",
       "      <th>Discount_0.15</th>\n",
       "      <th>Discount_0.2</th>\n",
       "      <th>Discount_0.25</th>\n",
       "    </tr>\n",
       "  </thead>\n",
       "  <tbody>\n",
       "    <tr>\n",
       "      <td>6</td>\n",
       "      <td>0</td>\n",
       "      <td>0</td>\n",
       "      <td>1</td>\n",
       "      <td>0</td>\n",
       "      <td>0</td>\n",
       "    </tr>\n",
       "    <tr>\n",
       "      <td>7</td>\n",
       "      <td>0</td>\n",
       "      <td>0</td>\n",
       "      <td>1</td>\n",
       "      <td>0</td>\n",
       "      <td>0</td>\n",
       "    </tr>\n",
       "    <tr>\n",
       "      <td>8</td>\n",
       "      <td>1</td>\n",
       "      <td>0</td>\n",
       "      <td>0</td>\n",
       "      <td>0</td>\n",
       "      <td>0</td>\n",
       "    </tr>\n",
       "    <tr>\n",
       "      <td>9</td>\n",
       "      <td>1</td>\n",
       "      <td>0</td>\n",
       "      <td>0</td>\n",
       "      <td>0</td>\n",
       "      <td>0</td>\n",
       "    </tr>\n",
       "    <tr>\n",
       "      <td>11</td>\n",
       "      <td>1</td>\n",
       "      <td>0</td>\n",
       "      <td>0</td>\n",
       "      <td>0</td>\n",
       "      <td>0</td>\n",
       "    </tr>\n",
       "  </tbody>\n",
       "</table>\n",
       "</div>"
      ],
      "text/plain": [
       "    Discount_0.05  Discount_0.1  Discount_0.15  Discount_0.2  Discount_0.25\n",
       "6               0             0              1             0              0\n",
       "7               0             0              1             0              0\n",
       "8               1             0              0             0              0\n",
       "9               1             0              0             0              0\n",
       "11              1             0              0             0              0"
      ]
     },
     "execution_count": 88,
     "metadata": {},
     "output_type": "execute_result"
    }
   ],
   "source": [
    "dummies = pd.get_dummies(df_disc_trimmed.Discount, prefix='Discount')\n",
    "dummies.head()"
   ]
  },
  {
   "cell_type": "code",
   "execution_count": 90,
   "metadata": {
    "ExecuteTime": {
     "end_time": "2019-10-09T22:14:24.726425Z",
     "start_time": "2019-10-09T22:14:24.714400Z"
    },
    "hidden": true
   },
   "outputs": [
    {
     "data": {
      "text/html": [
       "<div>\n",
       "<style scoped>\n",
       "    .dataframe tbody tr th:only-of-type {\n",
       "        vertical-align: middle;\n",
       "    }\n",
       "\n",
       "    .dataframe tbody tr th {\n",
       "        vertical-align: top;\n",
       "    }\n",
       "\n",
       "    .dataframe thead th {\n",
       "        text-align: right;\n",
       "    }\n",
       "</style>\n",
       "<table border=\"1\" class=\"dataframe\">\n",
       "  <thead>\n",
       "    <tr style=\"text-align: right;\">\n",
       "      <th></th>\n",
       "      <th>Discount5</th>\n",
       "      <th>Discount10</th>\n",
       "      <th>Discount15</th>\n",
       "      <th>Discount20</th>\n",
       "      <th>Discount25</th>\n",
       "    </tr>\n",
       "  </thead>\n",
       "  <tbody>\n",
       "    <tr>\n",
       "      <td>6</td>\n",
       "      <td>0</td>\n",
       "      <td>0</td>\n",
       "      <td>1</td>\n",
       "      <td>0</td>\n",
       "      <td>0</td>\n",
       "    </tr>\n",
       "    <tr>\n",
       "      <td>7</td>\n",
       "      <td>0</td>\n",
       "      <td>0</td>\n",
       "      <td>1</td>\n",
       "      <td>0</td>\n",
       "      <td>0</td>\n",
       "    </tr>\n",
       "    <tr>\n",
       "      <td>8</td>\n",
       "      <td>1</td>\n",
       "      <td>0</td>\n",
       "      <td>0</td>\n",
       "      <td>0</td>\n",
       "      <td>0</td>\n",
       "    </tr>\n",
       "    <tr>\n",
       "      <td>9</td>\n",
       "      <td>1</td>\n",
       "      <td>0</td>\n",
       "      <td>0</td>\n",
       "      <td>0</td>\n",
       "      <td>0</td>\n",
       "    </tr>\n",
       "    <tr>\n",
       "      <td>11</td>\n",
       "      <td>1</td>\n",
       "      <td>0</td>\n",
       "      <td>0</td>\n",
       "      <td>0</td>\n",
       "      <td>0</td>\n",
       "    </tr>\n",
       "  </tbody>\n",
       "</table>\n",
       "</div>"
      ],
      "text/plain": [
       "    Discount5  Discount10  Discount15  Discount20  Discount25\n",
       "6           0           0           1           0           0\n",
       "7           0           0           1           0           0\n",
       "8           1           0           0           0           0\n",
       "9           1           0           0           0           0\n",
       "11          1           0           0           0           0"
      ]
     },
     "execution_count": 90,
     "metadata": {},
     "output_type": "execute_result"
    }
   ],
   "source": [
    "dummies.columns = ['Discount5', 'Discount10', 'Discount15',\n",
    "                  'Discount20', 'Discount25']\n",
    "dummies.head()"
   ]
  },
  {
   "cell_type": "code",
   "execution_count": 92,
   "metadata": {
    "ExecuteTime": {
     "end_time": "2019-10-09T22:14:57.413341Z",
     "start_time": "2019-10-09T22:14:57.380946Z"
    },
    "hidden": true
   },
   "outputs": [
    {
     "data": {
      "text/html": [
       "<div>\n",
       "<style scoped>\n",
       "    .dataframe tbody tr th:only-of-type {\n",
       "        vertical-align: middle;\n",
       "    }\n",
       "\n",
       "    .dataframe tbody tr th {\n",
       "        vertical-align: top;\n",
       "    }\n",
       "\n",
       "    .dataframe thead th {\n",
       "        text-align: right;\n",
       "    }\n",
       "</style>\n",
       "<table border=\"1\" class=\"dataframe\">\n",
       "  <thead>\n",
       "    <tr style=\"text-align: right;\">\n",
       "      <th></th>\n",
       "      <th>OrderId</th>\n",
       "      <th>ProductId</th>\n",
       "      <th>UnitPrice</th>\n",
       "      <th>Quantity</th>\n",
       "      <th>Discount</th>\n",
       "      <th>ProductName</th>\n",
       "      <th>CategoryID</th>\n",
       "      <th>CategoryName</th>\n",
       "      <th>Discount_bool</th>\n",
       "      <th>ProductTotal</th>\n",
       "      <th>Discount5</th>\n",
       "      <th>Discount10</th>\n",
       "      <th>Discount15</th>\n",
       "      <th>Discount20</th>\n",
       "      <th>Discount25</th>\n",
       "    </tr>\n",
       "  </thead>\n",
       "  <tbody>\n",
       "    <tr>\n",
       "      <td>6</td>\n",
       "      <td>10250</td>\n",
       "      <td>51</td>\n",
       "      <td>42.4</td>\n",
       "      <td>35</td>\n",
       "      <td>0.15</td>\n",
       "      <td>Manjimup Dried Apples</td>\n",
       "      <td>7</td>\n",
       "      <td>Produce</td>\n",
       "      <td>1</td>\n",
       "      <td>1261.40</td>\n",
       "      <td>0</td>\n",
       "      <td>0</td>\n",
       "      <td>1</td>\n",
       "      <td>0</td>\n",
       "      <td>0</td>\n",
       "    </tr>\n",
       "    <tr>\n",
       "      <td>7</td>\n",
       "      <td>10250</td>\n",
       "      <td>65</td>\n",
       "      <td>16.8</td>\n",
       "      <td>15</td>\n",
       "      <td>0.15</td>\n",
       "      <td>Louisiana Fiery Hot Pepper Sauce</td>\n",
       "      <td>2</td>\n",
       "      <td>Condiments</td>\n",
       "      <td>1</td>\n",
       "      <td>214.20</td>\n",
       "      <td>0</td>\n",
       "      <td>0</td>\n",
       "      <td>1</td>\n",
       "      <td>0</td>\n",
       "      <td>0</td>\n",
       "    </tr>\n",
       "    <tr>\n",
       "      <td>8</td>\n",
       "      <td>10251</td>\n",
       "      <td>22</td>\n",
       "      <td>16.8</td>\n",
       "      <td>6</td>\n",
       "      <td>0.05</td>\n",
       "      <td>Gustaf's Knäckebröd</td>\n",
       "      <td>5</td>\n",
       "      <td>Grains/Cereals</td>\n",
       "      <td>1</td>\n",
       "      <td>95.76</td>\n",
       "      <td>1</td>\n",
       "      <td>0</td>\n",
       "      <td>0</td>\n",
       "      <td>0</td>\n",
       "      <td>0</td>\n",
       "    </tr>\n",
       "    <tr>\n",
       "      <td>9</td>\n",
       "      <td>10251</td>\n",
       "      <td>57</td>\n",
       "      <td>15.6</td>\n",
       "      <td>15</td>\n",
       "      <td>0.05</td>\n",
       "      <td>Ravioli Angelo</td>\n",
       "      <td>5</td>\n",
       "      <td>Grains/Cereals</td>\n",
       "      <td>1</td>\n",
       "      <td>222.30</td>\n",
       "      <td>1</td>\n",
       "      <td>0</td>\n",
       "      <td>0</td>\n",
       "      <td>0</td>\n",
       "      <td>0</td>\n",
       "    </tr>\n",
       "    <tr>\n",
       "      <td>11</td>\n",
       "      <td>10252</td>\n",
       "      <td>20</td>\n",
       "      <td>64.8</td>\n",
       "      <td>40</td>\n",
       "      <td>0.05</td>\n",
       "      <td>Sir Rodney's Marmalade</td>\n",
       "      <td>3</td>\n",
       "      <td>Confections</td>\n",
       "      <td>1</td>\n",
       "      <td>2462.40</td>\n",
       "      <td>1</td>\n",
       "      <td>0</td>\n",
       "      <td>0</td>\n",
       "      <td>0</td>\n",
       "      <td>0</td>\n",
       "    </tr>\n",
       "  </tbody>\n",
       "</table>\n",
       "</div>"
      ],
      "text/plain": [
       "    OrderId  ProductId  UnitPrice  Quantity  Discount  \\\n",
       "6     10250         51       42.4        35      0.15   \n",
       "7     10250         65       16.8        15      0.15   \n",
       "8     10251         22       16.8         6      0.05   \n",
       "9     10251         57       15.6        15      0.05   \n",
       "11    10252         20       64.8        40      0.05   \n",
       "\n",
       "                         ProductName  CategoryID    CategoryName  \\\n",
       "6              Manjimup Dried Apples           7         Produce   \n",
       "7   Louisiana Fiery Hot Pepper Sauce           2      Condiments   \n",
       "8                Gustaf's Knäckebröd           5  Grains/Cereals   \n",
       "9                     Ravioli Angelo           5  Grains/Cereals   \n",
       "11            Sir Rodney's Marmalade           3     Confections   \n",
       "\n",
       "    Discount_bool  ProductTotal  Discount5  Discount10  Discount15  \\\n",
       "6               1       1261.40          0           0           1   \n",
       "7               1        214.20          0           0           1   \n",
       "8               1         95.76          1           0           0   \n",
       "9               1        222.30          1           0           0   \n",
       "11              1       2462.40          1           0           0   \n",
       "\n",
       "    Discount20  Discount25  \n",
       "6            0           0  \n",
       "7            0           0  \n",
       "8            0           0  \n",
       "9            0           0  \n",
       "11           0           0  "
      ]
     },
     "execution_count": 92,
     "metadata": {},
     "output_type": "execute_result"
    }
   ],
   "source": [
    "df_discount_dummies = pd.concat([df_disc_trimmed, dummies], axis=1)\n",
    "df_discount_dummies.head()"
   ]
  },
  {
   "cell_type": "markdown",
   "metadata": {
    "hidden": true
   },
   "source": [
    "Now I am ready to run ANOVA to see which discount levels correspond to significantly different quantities ordered."
   ]
  },
  {
   "cell_type": "markdown",
   "metadata": {
    "heading_collapsed": true,
    "hidden": true
   },
   "source": [
    "#### ANOVA"
   ]
  },
  {
   "cell_type": "code",
   "execution_count": 93,
   "metadata": {
    "ExecuteTime": {
     "end_time": "2019-10-09T22:16:03.837787Z",
     "start_time": "2019-10-09T22:16:03.758545Z"
    },
    "hidden": true
   },
   "outputs": [
    {
     "data": {
      "text/html": [
       "<div>\n",
       "<style scoped>\n",
       "    .dataframe tbody tr th:only-of-type {\n",
       "        vertical-align: middle;\n",
       "    }\n",
       "\n",
       "    .dataframe tbody tr th {\n",
       "        vertical-align: top;\n",
       "    }\n",
       "\n",
       "    .dataframe thead th {\n",
       "        text-align: right;\n",
       "    }\n",
       "</style>\n",
       "<table border=\"1\" class=\"dataframe\">\n",
       "  <thead>\n",
       "    <tr style=\"text-align: right;\">\n",
       "      <th></th>\n",
       "      <th>sum_sq</th>\n",
       "      <th>df</th>\n",
       "      <th>F</th>\n",
       "      <th>PR(&gt;F)</th>\n",
       "    </tr>\n",
       "  </thead>\n",
       "  <tbody>\n",
       "    <tr>\n",
       "      <td>C(Discount5)</td>\n",
       "      <td>2593.482796</td>\n",
       "      <td>1.0</td>\n",
       "      <td>12.026394</td>\n",
       "      <td>5.535697e-04</td>\n",
       "    </tr>\n",
       "    <tr>\n",
       "      <td>C(Discount10)</td>\n",
       "      <td>758.599225</td>\n",
       "      <td>1.0</td>\n",
       "      <td>3.517746</td>\n",
       "      <td>6.109217e-02</td>\n",
       "    </tr>\n",
       "    <tr>\n",
       "      <td>C(Discount15)</td>\n",
       "      <td>2611.692448</td>\n",
       "      <td>1.0</td>\n",
       "      <td>12.110835</td>\n",
       "      <td>5.294279e-04</td>\n",
       "    </tr>\n",
       "    <tr>\n",
       "      <td>C(Discount20)</td>\n",
       "      <td>4686.826179</td>\n",
       "      <td>1.0</td>\n",
       "      <td>21.733562</td>\n",
       "      <td>3.690155e-06</td>\n",
       "    </tr>\n",
       "    <tr>\n",
       "      <td>C(Discount25)</td>\n",
       "      <td>5464.977040</td>\n",
       "      <td>1.0</td>\n",
       "      <td>25.341972</td>\n",
       "      <td>5.979606e-07</td>\n",
       "    </tr>\n",
       "    <tr>\n",
       "      <td>Residual</td>\n",
       "      <td>166481.216621</td>\n",
       "      <td>772.0</td>\n",
       "      <td>NaN</td>\n",
       "      <td>NaN</td>\n",
       "    </tr>\n",
       "  </tbody>\n",
       "</table>\n",
       "</div>"
      ],
      "text/plain": [
       "                      sum_sq     df          F        PR(>F)\n",
       "C(Discount5)     2593.482796    1.0  12.026394  5.535697e-04\n",
       "C(Discount10)     758.599225    1.0   3.517746  6.109217e-02\n",
       "C(Discount15)    2611.692448    1.0  12.110835  5.294279e-04\n",
       "C(Discount20)    4686.826179    1.0  21.733562  3.690155e-06\n",
       "C(Discount25)    5464.977040    1.0  25.341972  5.979606e-07\n",
       "Residual       166481.216621  772.0        NaN           NaN"
      ]
     },
     "execution_count": 93,
     "metadata": {},
     "output_type": "execute_result"
    }
   ],
   "source": [
    "# Run ANOVA\n",
    "formula = 'Quantity ~ C(Discount5) + C(Discount10) + C(Discount15) + C(Discount20) + C(Discount25)'\n",
    "\n",
    "lm = ols(formula, df_discount_dummies).fit()\n",
    "table = sm.stats.anova_lm(lm, typ=2)\n",
    "table"
   ]
  },
  {
   "cell_type": "markdown",
   "metadata": {
    "hidden": true
   },
   "source": [
    "The ANOVA table shows that we can reject the null hypothesis for all but one discount level&mdash;10\\%. A 10% discount does not correspond to increased quantities ordered, but all of the other discount levels do.\n",
    "\n",
    "Let's see how big the differences are for the effective discounts:"
   ]
  },
  {
   "cell_type": "code",
   "execution_count": 94,
   "metadata": {
    "ExecuteTime": {
     "end_time": "2019-10-09T22:19:26.560444Z",
     "start_time": "2019-10-09T22:19:26.323794Z"
    },
    "hidden": true
   },
   "outputs": [
    {
     "data": {
      "image/png": "[encoded data removed]",
      "text/plain": [
       "<Figure size 720x432 with 1 Axes>"
      ]
     },
     "metadata": {
      "needs_background": "light"
     },
     "output_type": "display_data"
    }
   ],
   "source": [
    "# Get sample means to use in calculating effect sizes\n",
    "mean_5_discount = np.mean(df_trimmed[df_trimmed.Discount == 0.05]['Quantity'])\n",
    "mean_10_discount = np.mean(df_trimmed[df_trimmed.Discount == 0.1]['Quantity'])\n",
    "mean_15_discount = np.mean(df_trimmed[df_trimmed.Discount == 0.15]['Quantity'])\n",
    "mean_20_discount = np.mean(df_trimmed[df_trimmed.Discount == 0.2]['Quantity'])\n",
    "mean_25_discount = np.mean(df_trimmed[df_trimmed.Discount == 0.25]['Quantity'])\n",
    "mean_no_discount = np.mean(df_trimmed[df_trimmed.Discount == 0.0]['Quantity'])\n",
    "\n",
    "# Organize x-values (discounts) and y-values (effect sizes) for plotting\n",
    "levels = [5, 10, 15, 20, 25]\n",
    "means = [mean_5_discount, mean_10_discount, mean_15_discount, mean_20_discount, mean_25_discount]\n",
    "mean_diffs = [mean - mean_no_discount for mean in means]\n",
    "\n",
    "# Create a bar plot to show significant effect sizes\n",
    "plt.figure(figsize=(10, 6))\n",
    "plt.bar(levels, mean_diffs, color='lightgreen')\n",
    "plt.bar(x=10, height = mean_10_discount-mean_no_discount, color='white')\n",
    "plt.xlabel('Discount (%)')\n",
    "plt.ylabel('Increase in quantity ordered')\n",
    "plt.title('Increases in quantity ordered at various discount levels')\n",
    "plt.text(x=7, y=1, s='10% discounts have\\nno significant effect', fontsize=14)\n",
    "plt.show();"
   ]
  },
  {
   "cell_type": "markdown",
   "metadata": {
    "hidden": true
   },
   "source": [
    "Are these effect sizes big, small, or somewhere in between? And what was the power of the statistical test for each of these? Let's examine each discount in turn."
   ]
  },
  {
   "cell_type": "markdown",
   "metadata": {
    "hidden": true
   },
   "source": [
    "#### Exploring effect sizes and powers"
   ]
  },
  {
   "cell_type": "code",
   "execution_count": 100,
   "metadata": {
    "ExecuteTime": {
     "end_time": "2019-10-09T22:30:16.167984Z",
     "start_time": "2019-10-09T22:30:15.843156Z"
    },
    "hidden": true,
    "scrolled": true
   },
   "outputs": [
    {
     "data": {
      "image/png": "[encoded data removed]",
      "text/plain": [
       "<Figure size 720x432 with 1 Axes>"
      ]
     },
     "metadata": {
      "needs_background": "light"
     },
     "output_type": "display_data"
    }
   ],
   "source": [
    "plt.figure(figsize=(10,6))\n",
    "sns.distplot(df_no_discount.Quantity)\n",
    "sns.distplot(df_discount[df_discount.Discount == 0.05]['Quantity'])\n",
    "\n",
    "plt.axvline(x=mean_5_discount, linestyle='--', \n",
    "            label='Mean, no discount')\n",
    "plt.axvline(x=mean_no_discount, linestyle='--', color='orange',\n",
    "            label='Mean, discount')\n",
    "plt.legend()\n",
    "plt.title('Distributions of undiscounted v. 5% discounted products')\n",
    "plt.show();"
   ]
  },
  {
   "cell_type": "code",
   "execution_count": 101,
   "metadata": {
    "ExecuteTime": {
     "end_time": "2019-10-09T22:30:46.161698Z",
     "start_time": "2019-10-09T22:30:46.151716Z"
    },
    "hidden": true
   },
   "outputs": [
    {
     "data": {
      "text/plain": [
       "LeveneResult(statistic=0.02240733701187282, pvalue=0.8810293663204941)"
      ]
     },
     "execution_count": 101,
     "metadata": {},
     "output_type": "execute_result"
    }
   ],
   "source": [
    "stats.levene(df_discount[df_discount.Discount == 0.05]['Quantity'], df_no_discount.Quantity)"
   ]
  },
  {
   "cell_type": "code",
   "execution_count": 103,
   "metadata": {
    "ExecuteTime": {
     "end_time": "2019-10-09T22:32:34.310666Z",
     "start_time": "2019-10-09T22:32:34.297335Z"
    },
    "hidden": true
   },
   "outputs": [
    {
     "data": {
      "text/plain": [
       "0.5586036059740913"
      ]
     },
     "execution_count": 103,
     "metadata": {},
     "output_type": "execute_result"
    }
   ],
   "source": [
    "effect_5 = mean_5_discount - mean_no_discount\n",
    "\n",
    "d = Cohen_d(df_discount[df_discount.Discount == 0.05]['Quantity'], df_no_discount.Quantity)\n",
    "\n",
    "power_analysis.solve_power(effect_size=d, alpha=alpha,\n",
    "                           nobs1=len(df_discount[df_discount.Discount == 0.05]['Quantity']))"
   ]
  },
  {
   "cell_type": "markdown",
   "metadata": {
    "hidden": true
   },
   "source": [
    "For 5% discounts, the power is 0.56, below my chosen threshold of 0.8. "
   ]
  },
  {
   "cell_type": "code",
   "execution_count": 105,
   "metadata": {
    "ExecuteTime": {
     "end_time": "2019-10-09T22:36:28.372223Z",
     "start_time": "2019-10-09T22:36:28.058877Z"
    },
    "hidden": true
   },
   "outputs": [
    {
     "data": {
      "image/png": "[encoded data removed]",
      "text/plain": [
       "<Figure size 720x432 with 1 Axes>"
      ]
     },
     "metadata": {
      "needs_background": "light"
     },
     "output_type": "display_data"
    },
    {
     "name": "stdout",
     "output_type": "stream",
     "text": [
      "LeveneResult(statistic=0.0693180145704766, pvalue=0.7923704393985946)\n",
      "Raw effect size: 3.4925627762728304\n"
     ]
    },
    {
     "data": {
      "text/plain": [
       "0.5615151971275081"
      ]
     },
     "execution_count": 105,
     "metadata": {},
     "output_type": "execute_result"
    }
   ],
   "source": [
    "# Do the same for 15% discount\n",
    "plt.figure(figsize=(10,6))\n",
    "sns.distplot(df_no_discount.Quantity)\n",
    "sns.distplot(df_discount[df_discount.Discount == 0.15]['Quantity'])\n",
    "\n",
    "plt.axvline(x=mean_15_discount, linestyle='--', \n",
    "            label='Mean, no discount')\n",
    "plt.axvline(x=mean_no_discount, linestyle='--', color='orange',\n",
    "            label='Mean, discount')\n",
    "plt.legend()\n",
    "plt.title('Distributions of undiscounted v. 15% discounted products')\n",
    "plt.show();\n",
    "\n",
    "print(stats.levene(df_discount[df_discount.Discount == 0.15]['Quantity'], df_no_discount.Quantity))\n",
    "\n",
    "effect = mean_15_discount - mean_no_discount\n",
    "print('Raw effect size:', effect)\n",
    "\n",
    "d = Cohen_d(df_discount[df_discount.Discount == 0.15]['Quantity'], df_no_discount.Quantity)\n",
    "\n",
    "power_analysis.solve_power(effect_size=d, alpha=alpha,\n",
    "                           nobs1=len(df_discount[df_discount.Discount == 0.15]['Quantity']))"
   ]
  },
  {
   "cell_type": "markdown",
   "metadata": {
    "hidden": true
   },
   "source": [
    "Power here is again lower than we would like. There is a high risk of Type II error with 15% discounts. "
   ]
  },
  {
   "cell_type": "code",
   "execution_count": 107,
   "metadata": {
    "ExecuteTime": {
     "end_time": "2019-10-09T22:37:57.734208Z",
     "start_time": "2019-10-09T22:37:57.397653Z"
    },
    "hidden": true
   },
   "outputs": [
    {
     "data": {
      "image/png": "[encoded data removed]",
      "text/plain": [
       "<Figure size 720x432 with 1 Axes>"
      ]
     },
     "metadata": {
      "needs_background": "light"
     },
     "output_type": "display_data"
    },
    {
     "name": "stdout",
     "output_type": "stream",
     "text": [
      "LeveneResult(statistic=4.9602344315708935, pvalue=0.02609132026132316)\n",
      "Raw effect size: 4.6314239151339684\n"
     ]
    },
    {
     "data": {
      "text/plain": [
       "0.8219594707255559"
      ]
     },
     "execution_count": 107,
     "metadata": {},
     "output_type": "execute_result"
    }
   ],
   "source": [
    "# Do the same for 20% discount\n",
    "plt.figure(figsize=(10,6))\n",
    "sns.distplot(df_no_discount.Quantity)\n",
    "sns.distplot(df_discount[df_discount.Discount == 0.2]['Quantity'])\n",
    "\n",
    "plt.axvline(x=mean_15_discount, linestyle='--', \n",
    "            label='Mean, no discount')\n",
    "plt.axvline(x=mean_no_discount, linestyle='--', color='orange',\n",
    "            label='Mean, discount')\n",
    "plt.legend()\n",
    "plt.title('Distributions of undiscounted v. 20% discounted products')\n",
    "plt.show();\n",
    "\n",
    "print(stats.levene(df_discount[df_discount.Discount == 0.2]['Quantity'], df_no_discount.Quantity))\n",
    "\n",
    "effect = mean_20_discount - mean_no_discount\n",
    "print('Raw effect size:', effect)\n",
    "\n",
    "d = Cohen_d(df_discount[df_discount.Discount == 0.2]['Quantity'], df_no_discount.Quantity)\n",
    "\n",
    "power_analysis.solve_power(effect_size=d, alpha=alpha,\n",
    "                           nobs1=len(df_discount[df_discount.Discount == 0.2]['Quantity']))"
   ]
  },
  {
   "cell_type": "markdown",
   "metadata": {
    "hidden": true
   },
   "source": [
    "Here is the power is above our threshold, but note that the p-value for Levene's test is below 0.05, meaning that non-discounted and 20%-discounted products do not have the same variance. It is probably not appropriate to use Cohen's _d_ to calculate effect size for these samples."
   ]
  },
  {
   "cell_type": "code",
   "execution_count": 108,
   "metadata": {
    "ExecuteTime": {
     "end_time": "2019-10-09T22:39:36.133275Z",
     "start_time": "2019-10-09T22:39:35.707901Z"
    },
    "hidden": true
   },
   "outputs": [
    {
     "data": {
      "image/png": "[encoded data removed]",
      "text/plain": [
       "<Figure size 720x432 with 1 Axes>"
      ]
     },
     "metadata": {
      "needs_background": "light"
     },
     "output_type": "display_data"
    },
    {
     "name": "stdout",
     "output_type": "stream",
     "text": [
      "LeveneResult(statistic=2.4127553979598577, pvalue=0.12057210501358487)\n",
      "Raw effect size: 5.146456827427155\n"
     ]
    },
    {
     "data": {
      "text/plain": [
       "0.8785885476165154"
      ]
     },
     "execution_count": 108,
     "metadata": {},
     "output_type": "execute_result"
    }
   ],
   "source": [
    "# Do the same for 25% discount\n",
    "plt.figure(figsize=(10,6))\n",
    "sns.distplot(df_no_discount.Quantity)\n",
    "sns.distplot(df_discount[df_discount.Discount == 0.25]['Quantity'])\n",
    "\n",
    "plt.axvline(x=mean_25_discount, linestyle='--', \n",
    "            label='Mean, no discount')\n",
    "plt.axvline(x=mean_no_discount, linestyle='--', color='orange',\n",
    "            label='Mean, discount')\n",
    "plt.legend()\n",
    "plt.title('Distributions of undiscounted v. 25% discounted products')\n",
    "plt.show();\n",
    "\n",
    "print(stats.levene(df_discount[df_discount.Discount == 0.25]['Quantity'], df_no_discount.Quantity))\n",
    "\n",
    "effect = mean_25_discount - mean_no_discount\n",
    "print('Raw effect size:', effect)\n",
    "\n",
    "d = Cohen_d(df_discount[df_discount.Discount == 0.25]['Quantity'], df_no_discount.Quantity)\n",
    "\n",
    "power_analysis.solve_power(effect_size=d, alpha=alpha,\n",
    "                           nobs1=len(df_discount[df_discount.Discount == 0.25]['Quantity']))"
   ]
  },
  {
   "cell_type": "markdown",
   "metadata": {
    "hidden": true
   },
   "source": [
    "This is best outcome of all: for 25%-discounted products, we see the biggest effect size (5 more items ordered) and a power above our threshold of 0.8. We can feel confident that 25% discounts really do correspond to customers ordering more of a product, 5 more on average.\n",
    "\n",
    "Given these outcomes, I would recommend eliminating 10% discounts altogether (or better yet, investigating why they might not be having the intended effect) and perhaps eliminating some of the smaller discount levels to focus on the more effective 25% discount level. Without knowing the profit margins for each product, I can't determine the cost effectiveness of 25% discounts, but if the goal is to increase quantities ordered, that is the best level to use."
   ]
  },
  {
   "cell_type": "markdown",
   "metadata": {
    "heading_collapsed": true
   },
   "source": [
    "## Hypothesis test 1\n",
    "\n",
    "Does discount amount have a statistically significant effect on the quantity of a product in an order? If so, at what level(s) of discount?"
   ]
  },
  {
   "cell_type": "markdown",
   "metadata": {
    "hidden": true
   },
   "source": [
    "This test uses the following hypotheses to begin with:\n",
    "\n",
    "H<sub>0</sub>: mean quantity ordered without discount == mean quantity ordered with discount\n",
    "\n",
    "H<sub>a</sub>: mean quantity ordered without discount < mean quantity ordered with discount\n",
    "\n",
    "If discounts are determined to have a significant effect on quantity, then I will re-phrase my hypotheses for subsequent tests to determine which specific discount amounts have significant effects on quantity.\n",
    "\n",
    "This initial test will be a one-tailed test using the following parameters:"
   ]
  },
  {
   "cell_type": "code",
   "execution_count": 13,
   "metadata": {
    "ExecuteTime": {
     "end_time": "2019-10-09T20:08:39.332938Z",
     "start_time": "2019-10-09T20:08:39.328486Z"
    },
    "hidden": true
   },
   "outputs": [],
   "source": [
    "# Set alpha and power\n",
    "alpha = 0.05\n",
    "\n",
    "power = 0.8"
   ]
  },
  {
   "cell_type": "markdown",
   "metadata": {
    "hidden": true
   },
   "source": [
    "### Prepare the data"
   ]
  },
  {
   "cell_type": "markdown",
   "metadata": {
    "hidden": true
   },
   "source": [
    "I will want to compare quantities ordered with discounts and without discounts, so the data will need to be split into two subsets based on the value in the `Discount` column (0 versus any other value)."
   ]
  },
  {
   "cell_type": "code",
   "execution_count": 14,
   "metadata": {
    "ExecuteTime": {
     "end_time": "2019-10-09T20:08:40.785891Z",
     "start_time": "2019-10-09T20:08:40.776151Z"
    },
    "hidden": true
   },
   "outputs": [],
   "source": [
    "# Subset the data based on `Discount`\n",
    "df_no_discount = df[df.Discount == 0]\n",
    "df_discount = df[df.Discount != 0]"
   ]
  },
  {
   "cell_type": "markdown",
   "metadata": {
    "hidden": true
   },
   "source": [
    "I will also quickly check the length of each dataset so I will know the sample sizes involved:"
   ]
  },
  {
   "cell_type": "code",
   "execution_count": 15,
   "metadata": {
    "ExecuteTime": {
     "end_time": "2019-10-09T20:08:41.772763Z",
     "start_time": "2019-10-09T20:08:41.767538Z"
    },
    "hidden": true
   },
   "outputs": [
    {
     "name": "stdout",
     "output_type": "stream",
     "text": [
      "Size of no-discount sample: 1317\n",
      "Size of discount sample: 838\n"
     ]
    }
   ],
   "source": [
    "print('Size of no-discount sample:', len(df_no_discount))\n",
    "print('Size of discount sample:', len(df_discount))"
   ]
  },
  {
   "cell_type": "markdown",
   "metadata": {
    "heading_collapsed": true,
    "hidden": true
   },
   "source": [
    "### Inspect the distributions"
   ]
  },
  {
   "cell_type": "markdown",
   "metadata": {
    "hidden": true
   },
   "source": [
    "Next I want to inspect the distributions of products ordered with and without discounts to ensure that they are roughly normal. KDE (kernal density estimation) plots let me see the distributions of values along with probability density curves."
   ]
  },
  {
   "cell_type": "code",
   "execution_count": 16,
   "metadata": {
    "ExecuteTime": {
     "end_time": "2019-10-09T20:08:45.243522Z",
     "start_time": "2019-10-09T20:08:44.785708Z"
    },
    "hidden": true,
    "scrolled": false
   },
   "outputs": [
    {
     "data": {
      "image/png": "[encoded data removed]",
      "text/plain": [
       "<Figure size 576x432 with 1 Axes>"
      ]
     },
     "metadata": {
      "needs_background": "light"
     },
     "output_type": "display_data"
    }
   ],
   "source": [
    "# Create KDE plots of products with and without discounts\n",
    "plt.figure(figsize=(8,6))\n",
    "sns.distplot(df_no_discount.Quantity, label='No discount')\n",
    "sns.distplot(df_discount.Quantity, label='Discount')\n",
    "plt.axvline(x=np.mean(df_no_discount.Quantity), linestyle='--',\n",
    "            label='Mean, no discount')\n",
    "plt.axvline(x=np.mean(df_discount.Quantity), linestyle='--', color='orange',\n",
    "            label='Mean, with discount')\n",
    "plt.legend()\n",
    "plt.title('Total quantities of products in orders')\n",
    "plt.ylabel('Probability density')\n",
    "plt.show();"
   ]
  },
  {
   "cell_type": "markdown",
   "metadata": {
    "hidden": true
   },
   "source": [
    "Both distributions (with and without discounts) appear to be roughly normal, although both are right-skewed. I can also see that the two distributions, while overlapping, do appear to be different (and their means are different). What about their variances?"
   ]
  },
  {
   "cell_type": "code",
   "execution_count": 17,
   "metadata": {
    "ExecuteTime": {
     "end_time": "2019-10-09T20:08:55.880436Z",
     "start_time": "2019-10-09T20:08:55.874137Z"
    },
    "hidden": true,
    "scrolled": true
   },
   "outputs": [
    {
     "name": "stdout",
     "output_type": "stream",
     "text": [
      "306.2795924332757\n",
      "430.93782787748984\n"
     ]
    }
   ],
   "source": [
    "print(np.var(df_no_discount.Quantity))\n",
    "print(np.var(df_discount.Quantity))"
   ]
  },
  {
   "cell_type": "markdown",
   "metadata": {
    "hidden": true
   },
   "source": [
    "I will use Levene's test to see whether the difference in variances is significant. The null hypothesis for this test is that the two variances are equal. I will continue to use an alpha value of 0.05 to evaluate the p-value produced by this test."
   ]
  },
  {
   "cell_type": "code",
   "execution_count": 18,
   "metadata": {
    "ExecuteTime": {
     "end_time": "2019-10-09T20:08:58.834447Z",
     "start_time": "2019-10-09T20:08:58.824226Z"
    },
    "hidden": true
   },
   "outputs": [
    {
     "data": {
      "text/plain": [
       "LeveneResult(statistic=14.832671704073421, pvalue=0.00012091378376079568)"
      ]
     },
     "execution_count": 18,
     "metadata": {},
     "output_type": "execute_result"
    }
   ],
   "source": [
    "stats.levene(df_no_discount.Quantity, df_discount.Quantity)"
   ]
  },
  {
   "cell_type": "markdown",
   "metadata": {
    "hidden": true
   },
   "source": [
    "With its very low p-value, Levene's test indicates that the variances of `df_no_discount` and `df_discount` are not equal.\n",
    "\n",
    "Since `df_no_discount` and `df_discount` have different sample sizes, means, and variances, I will use a Welch's t-test to determine whether they are different in terms of `Quantity`.\n",
    "\n",
    "Before proceeding, I should determine how big of an effect I should be able to observe with samples of the sizes I happen to have. If the calculated effect size is too small to be of interest to my stakeholders, then I should abandon this experiment or get more data."
   ]
  },
  {
   "cell_type": "code",
   "execution_count": 19,
   "metadata": {
    "ExecuteTime": {
     "end_time": "2019-10-09T20:09:01.639282Z",
     "start_time": "2019-10-09T20:09:01.634142Z"
    },
    "hidden": true
   },
   "outputs": [],
   "source": [
    "# Set parameters for use in power analysis\n",
    "no_disc_std = np.std(df_no_discount.Quantity)\n",
    "n_no_disc = len(df_no_discount)\n",
    "disc_std = np.std(df_discount.Quantity)\n",
    "n_disc = len(df_discount)"
   ]
  },
  {
   "cell_type": "code",
   "execution_count": 21,
   "metadata": {
    "ExecuteTime": {
     "end_time": "2019-10-09T20:09:42.994580Z",
     "start_time": "2019-10-09T20:09:42.974309Z"
    },
    "hidden": true
   },
   "outputs": [
    {
     "name": "stdout",
     "output_type": "stream",
     "text": [
      "2.842811676794297\n"
     ]
    }
   ],
   "source": [
    "# Do power analysis to find minimum effect size for `df_discount`\n",
    "power_analysis = TTestIndPower()\n",
    "d_disc = power_analysis.solve_power(nobs1=n_disc, alpha=alpha, power=power)\n",
    "effect_size_disc = d_disc * disc_std\n",
    "print(effect_size_disc)"
   ]
  },
  {
   "cell_type": "markdown",
   "metadata": {
    "hidden": true
   },
   "source": [
    "The power analysis tells me that, given alpha = 0.05, power = 0.8, and the number of discounted observations I have, I would be able to detect a difference of 2.8 in the mean quantities of discounted and non-discounted items.\n",
    "\n",
    "If 3 were the minimum difference that would be of interest to my stakeholders, how much power would my statistical test have?"
   ]
  },
  {
   "cell_type": "code",
   "execution_count": 22,
   "metadata": {
    "ExecuteTime": {
     "end_time": "2019-10-09T20:09:45.734118Z",
     "start_time": "2019-10-09T20:09:45.723205Z"
    },
    "hidden": true
   },
   "outputs": [
    {
     "data": {
      "text/plain": [
       "0.8404952770629007"
      ]
     },
     "execution_count": 22,
     "metadata": {},
     "output_type": "execute_result"
    }
   ],
   "source": [
    "power_analysis.solve_power(nobs1=n_disc, alpha=alpha, effect_size=3/disc_std)"
   ]
  },
  {
   "cell_type": "markdown",
   "metadata": {
    "hidden": true
   },
   "source": [
    "My test should be able to detect an effect size of 3 with a power of 0.84&mdash;better than the 0.8 I require. Now I can move on to the Welch's t-test."
   ]
  },
  {
   "cell_type": "markdown",
   "metadata": {
    "hidden": true
   },
   "source": [
    "### Perform Welch's t-test"
   ]
  },
  {
   "cell_type": "markdown",
   "metadata": {
    "hidden": true
   },
   "source": [
    "Above I defined a function `run_welch()` to run a Welch's t-test, compare the calculated p-value to my chosen alpha (0.05), and print the result."
   ]
  },
  {
   "cell_type": "code",
   "execution_count": 109,
   "metadata": {
    "ExecuteTime": {
     "end_time": "2019-10-09T22:44:25.995284Z",
     "start_time": "2019-10-09T22:44:25.989649Z"
    },
    "hidden": true
   },
   "outputs": [
    {
     "name": "stdout",
     "output_type": "stream",
     "text": [
      "Null hypothesis rejected (p_value = 1.7461160561893507e-07)\n"
     ]
    }
   ],
   "source": [
    "# Perform Welch's t-test and print result\n",
    "run_welch(df_no_discount.Quantity, df_discount.Quantity)"
   ]
  },
  {
   "cell_type": "markdown",
   "metadata": {
    "hidden": true
   },
   "source": [
    "The result of the Welch's t-test is that we can reject the null hypothesis; discounts do indeed have a significant effect on the quantity of a product that a customer orders.\n",
    "\n",
    "This is good to know, but it raises another question: at what level of discount are customers motivated to add more of a product to their carts? And how many more of a given product are they likely to order?"
   ]
  },
  {
   "cell_type": "markdown",
   "metadata": {
    "hidden": true
   },
   "source": [
    "### Try it with ANOVA instead"
   ]
  },
  {
   "cell_type": "code",
   "execution_count": 24,
   "metadata": {
    "ExecuteTime": {
     "end_time": "2019-10-09T20:09:52.951400Z",
     "start_time": "2019-10-09T20:09:52.898164Z"
    },
    "hidden": true
   },
   "outputs": [],
   "source": [
    "# Check ANOVA for products with discounts\n",
    "formula = 'Quantity ~ C(Discount)'\n",
    "\n",
    "import statsmodels.api as sm\n",
    "from statsmodels.formula.api import ols\n",
    "\n",
    "lm = ols(formula, df).fit()\n",
    "table = sm.stats.anova_lm(lm, typ=2)"
   ]
  },
  {
   "cell_type": "code",
   "execution_count": 25,
   "metadata": {
    "ExecuteTime": {
     "end_time": "2019-10-09T20:09:53.346063Z",
     "start_time": "2019-10-09T20:09:53.333009Z"
    },
    "hidden": true
   },
   "outputs": [
    {
     "data": {
      "text/html": [
       "<div>\n",
       "<style scoped>\n",
       "    .dataframe tbody tr th:only-of-type {\n",
       "        vertical-align: middle;\n",
       "    }\n",
       "\n",
       "    .dataframe tbody tr th {\n",
       "        vertical-align: top;\n",
       "    }\n",
       "\n",
       "    .dataframe thead th {\n",
       "        text-align: right;\n",
       "    }\n",
       "</style>\n",
       "<table border=\"1\" class=\"dataframe\">\n",
       "  <thead>\n",
       "    <tr style=\"text-align: right;\">\n",
       "      <th></th>\n",
       "      <th>sum_sq</th>\n",
       "      <th>df</th>\n",
       "      <th>F</th>\n",
       "      <th>PR(&gt;F)</th>\n",
       "    </tr>\n",
       "  </thead>\n",
       "  <tbody>\n",
       "    <tr>\n",
       "      <td>C(Discount)</td>\n",
       "      <td>21258.403604</td>\n",
       "      <td>10.0</td>\n",
       "      <td>6.011811</td>\n",
       "      <td>4.704231e-09</td>\n",
       "    </tr>\n",
       "    <tr>\n",
       "      <td>Residual</td>\n",
       "      <td>758141.232591</td>\n",
       "      <td>2144.0</td>\n",
       "      <td>NaN</td>\n",
       "      <td>NaN</td>\n",
       "    </tr>\n",
       "  </tbody>\n",
       "</table>\n",
       "</div>"
      ],
      "text/plain": [
       "                    sum_sq      df         F        PR(>F)\n",
       "C(Discount)   21258.403604    10.0  6.011811  4.704231e-09\n",
       "Residual     758141.232591  2144.0       NaN           NaN"
      ]
     },
     "execution_count": 25,
     "metadata": {},
     "output_type": "execute_result"
    }
   ],
   "source": [
    "table"
   ]
  },
  {
   "cell_type": "markdown",
   "metadata": {
    "hidden": true
   },
   "source": [
    "### Follow-up: which discount levels motivate customers to buy more of a product?"
   ]
  },
  {
   "cell_type": "markdown",
   "metadata": {
    "hidden": true
   },
   "source": [
    "To answer this question, I want to split the data up by value of `Discount`, run t-tests comparing each discount to the non-discounted products to see if `Quantity` is significantly different, and then report on the effect sizes of any significant differences. For each of these more focused one-tailed t-tests:\n",
    "\n",
    "H<sub>0</sub>: mean quantity ordered without discount == mean quantity ordered with discount\n",
    "\n",
    "H<sub>a</sub>: mean quantity ordered without discount < mean quantity ordered with discount\n",
    "\n",
    "The problem with this approach is that I will be doing multiple comparisons against the same control group (non-discounted products), which increases the likelihood that I'll find a statistically significant difference just by random chance. To avoid this issue, I will use a tool for multiple comparisons called Tukey's HSD (Honestly Significant Difference) test from `statsmodels`. This test will compare all possible combinations of discounts and account for the effects of multiple comparisons so that I can use the same alpha value as before.\n",
    "\n",
    "First, I should inspect the value counts in the `Discount` column and eliminate any that don't interest me."
   ]
  },
  {
   "cell_type": "code",
   "execution_count": 26,
   "metadata": {
    "ExecuteTime": {
     "end_time": "2019-10-09T20:09:57.285203Z",
     "start_time": "2019-10-09T20:09:57.274268Z"
    },
    "hidden": true,
    "scrolled": false
   },
   "outputs": [
    {
     "data": {
      "text/plain": [
       "0.00    1317\n",
       "0.05     185\n",
       "0.10     173\n",
       "0.20     161\n",
       "0.15     157\n",
       "0.25     154\n",
       "0.03       3\n",
       "0.02       2\n",
       "0.01       1\n",
       "0.04       1\n",
       "0.06       1\n",
       "Name: Discount, dtype: int64"
      ]
     },
     "execution_count": 26,
     "metadata": {},
     "output_type": "execute_result"
    }
   ],
   "source": [
    "# View unique values of `Discount`\n",
    "df.Discount.value_counts()"
   ]
  },
  {
   "cell_type": "markdown",
   "metadata": {
    "hidden": true
   },
   "source": [
    "It looks like the values that will be most useful to this analysis are 5%, 10%, 15%, 20%, and 25% (and 0%, of course), since there are many instances of each of those. Because the others occur so infrequently, I don't expect to be able to do any meaningful hypothesis testing on them, so it is probably best to just drop those records at this point."
   ]
  },
  {
   "cell_type": "code",
   "execution_count": 27,
   "metadata": {
    "ExecuteTime": {
     "end_time": "2019-10-09T20:09:58.423618Z",
     "start_time": "2019-10-09T20:09:58.410394Z"
    },
    "hidden": true,
    "scrolled": true
   },
   "outputs": [
    {
     "data": {
      "text/plain": [
       "0.00    1317\n",
       "0.05     185\n",
       "0.10     173\n",
       "0.20     161\n",
       "0.15     157\n",
       "0.25     154\n",
       "Name: Discount, dtype: int64"
      ]
     },
     "execution_count": 27,
     "metadata": {},
     "output_type": "execute_result"
    }
   ],
   "source": [
    "# Drop rows with `Discount` values that occur < 30 times\n",
    "keepers = [0.0, 0.05, 0.1, 0.15, 0.2, 0.25]\n",
    "\n",
    "df_2 = df[df.Discount.isin(keepers)]\n",
    "df_2.Discount.value_counts()"
   ]
  },
  {
   "cell_type": "markdown",
   "metadata": {
    "hidden": true
   },
   "source": [
    "I would like to use Tukey's HSD test for this multiple comparison, but first I need to make sure the test's assumptions are met. The assumptions are:\n",
    "\n",
    "- the observations are independent of one another;\n",
    "- observations for each discount level are normally distributed;\n",
    "- observations for each discount level have equal variance.\n",
    "\n",
    "I assume that the first assumption holds. To test the second, I will inspect histograms of the observations for each discount level. To test the third, I will do pairwise comparisons of the variances of each discount-sample using the Kruskal-Wallis H test."
   ]
  },
  {
   "cell_type": "code",
   "execution_count": 28,
   "metadata": {
    "ExecuteTime": {
     "end_time": "2019-10-09T20:10:00.338744Z",
     "start_time": "2019-10-09T20:10:00.323101Z"
    },
    "hidden": true
   },
   "outputs": [],
   "source": [
    "# Subset the data by discount value\n",
    "discount_0 = df_2[df_2.Discount == 0]['Quantity']\n",
    "discount_5 = df_2[df_2.Discount == 0.05]['Quantity']\n",
    "discount_10 = df_2[df_2.Discount == 0.1]['Quantity']\n",
    "discount_15 = df_2[df_2.Discount == 0.15]['Quantity']\n",
    "discount_20 = df_2[df_2.Discount == 0.2]['Quantity']\n",
    "discount_25 = df_2[df_2.Discount == 0.25]['Quantity']"
   ]
  },
  {
   "cell_type": "code",
   "execution_count": 29,
   "metadata": {
    "ExecuteTime": {
     "end_time": "2019-10-09T20:10:01.706010Z",
     "start_time": "2019-10-09T20:10:01.022207Z"
    },
    "hidden": true
   },
   "outputs": [
    {
     "data": {
      "image/png": "[encoded data removed]",
      "text/plain": [
       "<Figure size 1152x720 with 6 Axes>"
      ]
     },
     "metadata": {
      "needs_background": "light"
     },
     "output_type": "display_data"
    }
   ],
   "source": [
    "# Compare histograms of each distribution to check for normality\n",
    "to_hist = [discount_0, discount_5, discount_10, discount_15, discount_20, discount_25]\n",
    "plt.figure(figsize=(16,10))\n",
    "for index, data in enumerate(to_hist):\n",
    "    ax = plt.subplot(2, 3, index+1)\n",
    "    sns.boxplot(to_hist[index])\n",
    "\n",
    "plt.show();"
   ]
  },
  {
   "cell_type": "code",
   "execution_count": 30,
   "metadata": {
    "ExecuteTime": {
     "end_time": "2019-10-09T20:10:03.963970Z",
     "start_time": "2019-10-09T20:10:02.903005Z"
    },
    "hidden": true
   },
   "outputs": [
    {
     "data": {
      "image/png": "[encoded data removed]",
      "text/plain": [
       "<Figure size 1152x720 with 6 Axes>"
      ]
     },
     "metadata": {
      "needs_background": "light"
     },
     "output_type": "display_data"
    }
   ],
   "source": [
    "# Compare histograms of each distribution to check for normality\n",
    "to_hist = [discount_0, discount_5, discount_10, discount_15, discount_20, discount_25]\n",
    "plt.figure(figsize=(16,10))\n",
    "for index, data in enumerate(to_hist):\n",
    "    ax = plt.subplot(2, 3, index+1)\n",
    "    sns.distplot(to_hist[index])\n",
    "\n",
    "plt.show();"
   ]
  },
  {
   "cell_type": "markdown",
   "metadata": {
    "hidden": true
   },
   "source": [
    "The observations for each discount level are roughly normally distributed, although right-skewed.\n",
    "\n",
    "Now to check whether their variances are equal:"
   ]
  },
  {
   "cell_type": "code",
   "execution_count": 31,
   "metadata": {
    "ExecuteTime": {
     "end_time": "2019-10-09T20:10:18.564512Z",
     "start_time": "2019-10-09T20:10:18.550344Z"
    },
    "hidden": true
   },
   "outputs": [
    {
     "data": {
      "text/plain": [
       "KruskalResult(statistic=51.472274060355986, pvalue=6.921091485409491e-10)"
      ]
     },
     "execution_count": 31,
     "metadata": {},
     "output_type": "execute_result"
    }
   ],
   "source": [
    "stats.kruskal(discount_0, discount_5, discount_10, discount_15, discount_20, discount_25)"
   ]
  },
  {
   "cell_type": "markdown",
   "metadata": {
    "hidden": true
   },
   "source": [
    "The result of the Kruskal-Wallis test, given the very low p-value, is that we must reject the null hypothesis that all these distributions came from the same underlying distribution (i.e., that their variances are equal). Unfortunately, the test doesn't tell me _which_ of the distributions is not like the others. "
   ]
  },
  {
   "cell_type": "code",
   "execution_count": 35,
   "metadata": {
    "ExecuteTime": {
     "end_time": "2019-10-09T20:13:50.000726Z",
     "start_time": "2019-10-09T20:13:49.972396Z"
    },
    "hidden": true
   },
   "outputs": [
    {
     "ename": "ValueError",
     "evalue": "cannot convert float NaN to integer",
     "output_type": "error",
     "traceback": [
      "\u001b[0;31m---------------------------------------------------------------------------\u001b[0m",
      "\u001b[0;31mValueError\u001b[0m                                Traceback (most recent call last)",
      "\u001b[0;32m<ipython-input-35-cc524ba953bd>\u001b[0m in \u001b[0;36m<module>\u001b[0;34m()\u001b[0m\n\u001b[1;32m      1\u001b[0m \u001b[0;31m# Try the Games-Howell Test\u001b[0m\u001b[0;34m\u001b[0m\u001b[0;34m\u001b[0m\u001b[0m\n\u001b[0;32m----> 2\u001b[0;31m \u001b[0mpg\u001b[0m\u001b[0;34m.\u001b[0m\u001b[0mpairwise_gameshowell\u001b[0m\u001b[0;34m(\u001b[0m\u001b[0mdata\u001b[0m\u001b[0;34m=\u001b[0m\u001b[0mdf_discount\u001b[0m\u001b[0;34m,\u001b[0m \u001b[0mdv\u001b[0m\u001b[0;34m=\u001b[0m\u001b[0;34m'Quantity'\u001b[0m\u001b[0;34m,\u001b[0m \u001b[0mbetween\u001b[0m\u001b[0;34m=\u001b[0m\u001b[0;34m'Discount'\u001b[0m\u001b[0;34m)\u001b[0m\u001b[0;34m\u001b[0m\u001b[0m\n\u001b[0m",
      "\u001b[0;32m~/anaconda3/envs/learn-env/lib/python3.6/site-packages/pingouin/pairwise.py\u001b[0m in \u001b[0;36mpairwise_gameshowell\u001b[0;34m(data, dv, between, alpha, tail, effsize)\u001b[0m\n\u001b[1;32m    743\u001b[0m \u001b[0;34m\u001b[0m\u001b[0m\n\u001b[1;32m    744\u001b[0m     \u001b[0;31m# Compute corrected p-values\u001b[0m\u001b[0;34m\u001b[0m\u001b[0;34m\u001b[0m\u001b[0m\n\u001b[0;32m--> 745\u001b[0;31m     \u001b[0mpval\u001b[0m \u001b[0;34m=\u001b[0m \u001b[0mpsturng\u001b[0m\u001b[0;34m(\u001b[0m\u001b[0mnp\u001b[0m\u001b[0;34m.\u001b[0m\u001b[0msqrt\u001b[0m\u001b[0;34m(\u001b[0m\u001b[0;36m2\u001b[0m\u001b[0;34m)\u001b[0m \u001b[0;34m*\u001b[0m \u001b[0mnp\u001b[0m\u001b[0;34m.\u001b[0m\u001b[0mabs\u001b[0m\u001b[0;34m(\u001b[0m\u001b[0mtval\u001b[0m\u001b[0;34m)\u001b[0m\u001b[0;34m,\u001b[0m \u001b[0mng\u001b[0m\u001b[0;34m,\u001b[0m \u001b[0mdf\u001b[0m\u001b[0;34m)\u001b[0m\u001b[0;34m\u001b[0m\u001b[0m\n\u001b[0m\u001b[1;32m    746\u001b[0m     \u001b[0mpval\u001b[0m \u001b[0;34m=\u001b[0m \u001b[0mpval\u001b[0m \u001b[0;34m*\u001b[0m \u001b[0;36m0.5\u001b[0m \u001b[0;32mif\u001b[0m \u001b[0mtail\u001b[0m \u001b[0;34m==\u001b[0m \u001b[0;34m'one-sided'\u001b[0m \u001b[0;32melse\u001b[0m \u001b[0mpval\u001b[0m\u001b[0;34m\u001b[0m\u001b[0m\n\u001b[1;32m    747\u001b[0m \u001b[0;34m\u001b[0m\u001b[0m\n",
      "\u001b[0;32m~/anaconda3/envs/learn-env/lib/python3.6/site-packages/pingouin/external/qsturng.py\u001b[0m in \u001b[0;36mpsturng\u001b[0;34m(q, r, v)\u001b[0m\n\u001b[1;32m    816\u001b[0m     \u001b[0;32mif\u001b[0m \u001b[0mall\u001b[0m\u001b[0;34m(\u001b[0m\u001b[0mmap\u001b[0m\u001b[0;34m(\u001b[0m\u001b[0m_isfloat\u001b[0m\u001b[0;34m,\u001b[0m \u001b[0;34m[\u001b[0m\u001b[0mq\u001b[0m\u001b[0;34m,\u001b[0m \u001b[0mr\u001b[0m\u001b[0;34m,\u001b[0m \u001b[0mv\u001b[0m\u001b[0;34m]\u001b[0m\u001b[0;34m)\u001b[0m\u001b[0;34m)\u001b[0m\u001b[0;34m:\u001b[0m\u001b[0;34m\u001b[0m\u001b[0m\n\u001b[1;32m    817\u001b[0m         \u001b[0;32mreturn\u001b[0m \u001b[0m_psturng\u001b[0m\u001b[0;34m(\u001b[0m\u001b[0mq\u001b[0m\u001b[0;34m,\u001b[0m \u001b[0mr\u001b[0m\u001b[0;34m,\u001b[0m \u001b[0mv\u001b[0m\u001b[0;34m)\u001b[0m\u001b[0;34m\u001b[0m\u001b[0m\n\u001b[0;32m--> 818\u001b[0;31m     \u001b[0;32mreturn\u001b[0m \u001b[0m_vpsturng\u001b[0m\u001b[0;34m(\u001b[0m\u001b[0mq\u001b[0m\u001b[0;34m,\u001b[0m \u001b[0mr\u001b[0m\u001b[0;34m,\u001b[0m \u001b[0mv\u001b[0m\u001b[0;34m)\u001b[0m\u001b[0;34m\u001b[0m\u001b[0m\n\u001b[0m",
      "\u001b[0;32m~/anaconda3/envs/learn-env/lib/python3.6/site-packages/numpy/lib/function_base.py\u001b[0m in \u001b[0;36m__call__\u001b[0;34m(self, *args, **kwargs)\u001b[0m\n\u001b[1;32m   2089\u001b[0m             \u001b[0mvargs\u001b[0m\u001b[0;34m.\u001b[0m\u001b[0mextend\u001b[0m\u001b[0;34m(\u001b[0m\u001b[0;34m[\u001b[0m\u001b[0mkwargs\u001b[0m\u001b[0;34m[\u001b[0m\u001b[0m_n\u001b[0m\u001b[0;34m]\u001b[0m \u001b[0;32mfor\u001b[0m \u001b[0m_n\u001b[0m \u001b[0;32min\u001b[0m \u001b[0mnames\u001b[0m\u001b[0;34m]\u001b[0m\u001b[0;34m)\u001b[0m\u001b[0;34m\u001b[0m\u001b[0m\n\u001b[1;32m   2090\u001b[0m \u001b[0;34m\u001b[0m\u001b[0m\n\u001b[0;32m-> 2091\u001b[0;31m         \u001b[0;32mreturn\u001b[0m \u001b[0mself\u001b[0m\u001b[0;34m.\u001b[0m\u001b[0m_vectorize_call\u001b[0m\u001b[0;34m(\u001b[0m\u001b[0mfunc\u001b[0m\u001b[0;34m=\u001b[0m\u001b[0mfunc\u001b[0m\u001b[0;34m,\u001b[0m \u001b[0margs\u001b[0m\u001b[0;34m=\u001b[0m\u001b[0mvargs\u001b[0m\u001b[0;34m)\u001b[0m\u001b[0;34m\u001b[0m\u001b[0m\n\u001b[0m\u001b[1;32m   2092\u001b[0m \u001b[0;34m\u001b[0m\u001b[0m\n\u001b[1;32m   2093\u001b[0m     \u001b[0;32mdef\u001b[0m \u001b[0m_get_ufunc_and_otypes\u001b[0m\u001b[0;34m(\u001b[0m\u001b[0mself\u001b[0m\u001b[0;34m,\u001b[0m \u001b[0mfunc\u001b[0m\u001b[0;34m,\u001b[0m \u001b[0margs\u001b[0m\u001b[0;34m)\u001b[0m\u001b[0;34m:\u001b[0m\u001b[0;34m\u001b[0m\u001b[0m\n",
      "\u001b[0;32m~/anaconda3/envs/learn-env/lib/python3.6/site-packages/numpy/lib/function_base.py\u001b[0m in \u001b[0;36m_vectorize_call\u001b[0;34m(self, func, args)\u001b[0m\n\u001b[1;32m   2159\u001b[0m             \u001b[0mres\u001b[0m \u001b[0;34m=\u001b[0m \u001b[0mfunc\u001b[0m\u001b[0;34m(\u001b[0m\u001b[0;34m)\u001b[0m\u001b[0;34m\u001b[0m\u001b[0m\n\u001b[1;32m   2160\u001b[0m         \u001b[0;32melse\u001b[0m\u001b[0;34m:\u001b[0m\u001b[0;34m\u001b[0m\u001b[0m\n\u001b[0;32m-> 2161\u001b[0;31m             \u001b[0mufunc\u001b[0m\u001b[0;34m,\u001b[0m \u001b[0motypes\u001b[0m \u001b[0;34m=\u001b[0m \u001b[0mself\u001b[0m\u001b[0;34m.\u001b[0m\u001b[0m_get_ufunc_and_otypes\u001b[0m\u001b[0;34m(\u001b[0m\u001b[0mfunc\u001b[0m\u001b[0;34m=\u001b[0m\u001b[0mfunc\u001b[0m\u001b[0;34m,\u001b[0m \u001b[0margs\u001b[0m\u001b[0;34m=\u001b[0m\u001b[0margs\u001b[0m\u001b[0;34m)\u001b[0m\u001b[0;34m\u001b[0m\u001b[0m\n\u001b[0m\u001b[1;32m   2162\u001b[0m \u001b[0;34m\u001b[0m\u001b[0m\n\u001b[1;32m   2163\u001b[0m             \u001b[0;31m# Convert args to object arrays first\u001b[0m\u001b[0;34m\u001b[0m\u001b[0;34m\u001b[0m\u001b[0m\n",
      "\u001b[0;32m~/anaconda3/envs/learn-env/lib/python3.6/site-packages/numpy/lib/function_base.py\u001b[0m in \u001b[0;36m_get_ufunc_and_otypes\u001b[0;34m(self, func, args)\u001b[0m\n\u001b[1;32m   2119\u001b[0m \u001b[0;34m\u001b[0m\u001b[0m\n\u001b[1;32m   2120\u001b[0m             \u001b[0minputs\u001b[0m \u001b[0;34m=\u001b[0m \u001b[0;34m[\u001b[0m\u001b[0marg\u001b[0m\u001b[0;34m.\u001b[0m\u001b[0mflat\u001b[0m\u001b[0;34m[\u001b[0m\u001b[0;36m0\u001b[0m\u001b[0;34m]\u001b[0m \u001b[0;32mfor\u001b[0m \u001b[0marg\u001b[0m \u001b[0;32min\u001b[0m \u001b[0margs\u001b[0m\u001b[0;34m]\u001b[0m\u001b[0;34m\u001b[0m\u001b[0m\n\u001b[0;32m-> 2121\u001b[0;31m             \u001b[0moutputs\u001b[0m \u001b[0;34m=\u001b[0m \u001b[0mfunc\u001b[0m\u001b[0;34m(\u001b[0m\u001b[0;34m*\u001b[0m\u001b[0minputs\u001b[0m\u001b[0;34m)\u001b[0m\u001b[0;34m\u001b[0m\u001b[0m\n\u001b[0m\u001b[1;32m   2122\u001b[0m \u001b[0;34m\u001b[0m\u001b[0m\n\u001b[1;32m   2123\u001b[0m             \u001b[0;31m# Performance note: profiling indicates that -- for simple\u001b[0m\u001b[0;34m\u001b[0m\u001b[0;34m\u001b[0m\u001b[0m\n",
      "\u001b[0;32m~/anaconda3/envs/learn-env/lib/python3.6/site-packages/pingouin/external/qsturng.py\u001b[0m in \u001b[0;36m_psturng\u001b[0;34m(q, r, v)\u001b[0m\n\u001b[1;32m    776\u001b[0m         \u001b[0;32mreturn\u001b[0m \u001b[0;36m1.\u001b[0m \u001b[0;34m-\u001b[0m \u001b[0mfminbound\u001b[0m\u001b[0;34m(\u001b[0m\u001b[0mopt_func\u001b[0m\u001b[0;34m,\u001b[0m \u001b[0;36m.9\u001b[0m\u001b[0;34m,\u001b[0m \u001b[0;36m.999\u001b[0m\u001b[0;34m,\u001b[0m \u001b[0margs\u001b[0m\u001b[0;34m=\u001b[0m\u001b[0;34m(\u001b[0m\u001b[0mr\u001b[0m\u001b[0;34m,\u001b[0m\u001b[0mv\u001b[0m\u001b[0;34m)\u001b[0m\u001b[0;34m)\u001b[0m\u001b[0;34m\u001b[0m\u001b[0m\n\u001b[1;32m    777\u001b[0m     \u001b[0;32melse\u001b[0m\u001b[0;34m:\u001b[0m\u001b[0;34m\u001b[0m\u001b[0m\n\u001b[0;32m--> 778\u001b[0;31m         \u001b[0;32mif\u001b[0m \u001b[0mq\u001b[0m \u001b[0;34m<\u001b[0m \u001b[0m_qsturng\u001b[0m\u001b[0;34m(\u001b[0m\u001b[0;36m.1\u001b[0m\u001b[0;34m,\u001b[0m \u001b[0mr\u001b[0m\u001b[0;34m,\u001b[0m \u001b[0mv\u001b[0m\u001b[0;34m)\u001b[0m\u001b[0;34m:\u001b[0m\u001b[0;34m\u001b[0m\u001b[0m\n\u001b[0m\u001b[1;32m    779\u001b[0m             \u001b[0;32mreturn\u001b[0m \u001b[0;36m.9\u001b[0m\u001b[0;34m\u001b[0m\u001b[0m\n\u001b[1;32m    780\u001b[0m         \u001b[0;32melif\u001b[0m \u001b[0mq\u001b[0m \u001b[0;34m>\u001b[0m \u001b[0m_qsturng\u001b[0m\u001b[0;34m(\u001b[0m\u001b[0;36m.999\u001b[0m\u001b[0;34m,\u001b[0m \u001b[0mr\u001b[0m\u001b[0;34m,\u001b[0m \u001b[0mv\u001b[0m\u001b[0;34m)\u001b[0m\u001b[0;34m:\u001b[0m\u001b[0;34m\u001b[0m\u001b[0m\n",
      "\u001b[0;32m~/anaconda3/envs/learn-env/lib/python3.6/site-packages/pingouin/external/qsturng.py\u001b[0m in \u001b[0;36m_qsturng\u001b[0;34m(p, r, v)\u001b[0m\n\u001b[1;32m    717\u001b[0m \u001b[0;34m\u001b[0m\u001b[0m\n\u001b[1;32m    718\u001b[0m     \u001b[0;32melif\u001b[0m \u001b[0mv\u001b[0m \u001b[0;32mnot\u001b[0m \u001b[0;32min\u001b[0m \u001b[0mv_keys\u001b[0m\u001b[0;34m+\u001b[0m\u001b[0;34m(\u001b[0m\u001b[0;34m[\u001b[0m\u001b[0;34m]\u001b[0m\u001b[0;34m,\u001b[0m\u001b[0;34m[\u001b[0m\u001b[0;36m1\u001b[0m\u001b[0;34m]\u001b[0m\u001b[0;34m)\u001b[0m\u001b[0;34m[\u001b[0m\u001b[0mp\u001b[0m\u001b[0;34m>=\u001b[0m\u001b[0;36m.90\u001b[0m\u001b[0;34m]\u001b[0m\u001b[0;34m:\u001b[0m\u001b[0;34m\u001b[0m\u001b[0m\n\u001b[0;32m--> 719\u001b[0;31m         \u001b[0my\u001b[0m \u001b[0;34m=\u001b[0m \u001b[0m_interpolate_v\u001b[0m\u001b[0;34m(\u001b[0m\u001b[0mp\u001b[0m\u001b[0;34m,\u001b[0m \u001b[0mr\u001b[0m\u001b[0;34m,\u001b[0m \u001b[0mv\u001b[0m\u001b[0;34m)\u001b[0m\u001b[0;34m\u001b[0m\u001b[0m\n\u001b[0m\u001b[1;32m    720\u001b[0m \u001b[0;34m\u001b[0m\u001b[0m\n\u001b[1;32m    721\u001b[0m     \u001b[0;32melif\u001b[0m \u001b[0mp\u001b[0m \u001b[0;32mnot\u001b[0m \u001b[0;32min\u001b[0m \u001b[0mp_keys\u001b[0m\u001b[0;34m:\u001b[0m\u001b[0;34m\u001b[0m\u001b[0m\n",
      "\u001b[0;32m~/anaconda3/envs/learn-env/lib/python3.6/site-packages/pingouin/external/qsturng.py\u001b[0m in \u001b[0;36m_interpolate_v\u001b[0;34m(p, r, v)\u001b[0m\n\u001b[1;32m    636\u001b[0m     \u001b[0;31m# The boolean is used to index the tuple and append 1 when\u001b[0m\u001b[0;34m\u001b[0m\u001b[0;34m\u001b[0m\u001b[0m\n\u001b[1;32m    637\u001b[0m     \u001b[0;31m# p >= .9\u001b[0m\u001b[0;34m\u001b[0m\u001b[0;34m\u001b[0m\u001b[0m\n\u001b[0;32m--> 638\u001b[0;31m     \u001b[0mv0\u001b[0m\u001b[0;34m,\u001b[0m \u001b[0mv1\u001b[0m\u001b[0;34m,\u001b[0m \u001b[0mv2\u001b[0m \u001b[0;34m=\u001b[0m \u001b[0m_select_vs\u001b[0m\u001b[0;34m(\u001b[0m\u001b[0mv\u001b[0m\u001b[0;34m,\u001b[0m \u001b[0mp\u001b[0m\u001b[0;34m)\u001b[0m\u001b[0;34m\u001b[0m\u001b[0m\n\u001b[0m\u001b[1;32m    639\u001b[0m \u001b[0;34m\u001b[0m\u001b[0m\n\u001b[1;32m    640\u001b[0m     \u001b[0;31m# y = f - 1.\u001b[0m\u001b[0;34m\u001b[0m\u001b[0;34m\u001b[0m\u001b[0m\n",
      "\u001b[0;32m~/anaconda3/envs/learn-env/lib/python3.6/site-packages/pingouin/external/qsturng.py\u001b[0m in \u001b[0;36m_select_vs\u001b[0;34m(v, p)\u001b[0m\n\u001b[1;32m    619\u001b[0m             \u001b[0;32mreturn\u001b[0m \u001b[0;36m2\u001b[0m\u001b[0;34m,\u001b[0m \u001b[0;36m3\u001b[0m\u001b[0;34m,\u001b[0m \u001b[0;36m4\u001b[0m\u001b[0;34m\u001b[0m\u001b[0m\n\u001b[1;32m    620\u001b[0m \u001b[0;34m\u001b[0m\u001b[0m\n\u001b[0;32m--> 621\u001b[0;31m     \u001b[0mvi\u001b[0m \u001b[0;34m=\u001b[0m \u001b[0mint\u001b[0m\u001b[0;34m(\u001b[0m\u001b[0mround\u001b[0m\u001b[0;34m(\u001b[0m\u001b[0mv\u001b[0m\u001b[0;34m)\u001b[0m\u001b[0;34m)\u001b[0m\u001b[0;34m\u001b[0m\u001b[0m\n\u001b[0m\u001b[1;32m    622\u001b[0m     \u001b[0;32mreturn\u001b[0m \u001b[0mvi\u001b[0m \u001b[0;34m-\u001b[0m \u001b[0;36m1\u001b[0m\u001b[0;34m,\u001b[0m \u001b[0mvi\u001b[0m\u001b[0;34m,\u001b[0m \u001b[0mvi\u001b[0m \u001b[0;34m+\u001b[0m \u001b[0;36m1\u001b[0m\u001b[0;34m\u001b[0m\u001b[0m\n\u001b[1;32m    623\u001b[0m \u001b[0;34m\u001b[0m\u001b[0m\n",
      "\u001b[0;31mValueError\u001b[0m: cannot convert float NaN to integer"
     ]
    }
   ],
   "source": [
    "# Try the Games-Howell Test\n",
    "pg.pairwise_gameshowell(data=df_discount, dv='Quantity', between='Discount')"
   ]
  },
  {
   "cell_type": "markdown",
   "metadata": {
    "hidden": true
   },
   "source": [
    "Now I can run the multiple comparison using Tukey's HSD test:"
   ]
  },
  {
   "cell_type": "code",
   "execution_count": 23,
   "metadata": {
    "ExecuteTime": {
     "end_time": "2019-10-09T16:43:24.838881Z",
     "start_time": "2019-10-09T16:43:24.807302Z"
    },
    "hidden": true,
    "scrolled": true
   },
   "outputs": [
    {
     "name": "stdout",
     "output_type": "stream",
     "text": [
      "Multiple Comparison of Means - Tukey HSD,FWER=0.05\n",
      "=============================================\n",
      "group1 group2 meandiff  lower   upper  reject\n",
      "---------------------------------------------\n",
      " 0.0    0.05   6.2955   2.0814 10.5097  True \n",
      " 0.0    0.1    3.5217  -0.8187  7.8622 False \n",
      " 0.0    0.15   6.6669   2.1352 11.1986  True \n",
      " 0.0    0.2    5.3096   0.8285  9.7907  True \n",
      " 0.0    0.25   6.525    1.954   11.096  True \n",
      " 0.05   0.1   -2.7738  -8.4504  2.9028 False \n",
      " 0.05   0.15   0.3714  -5.4528  6.1955 False \n",
      " 0.05   0.2    -0.986  -6.7708  4.7989 False \n",
      " 0.05   0.25   0.2294  -5.6253  6.0842 False \n",
      " 0.1    0.15   3.1452   -2.771  9.0613 False \n",
      " 0.1    0.2    1.7879  -4.0896  7.6653 False \n",
      " 0.1    0.25   3.0033   -2.943  8.9496 False \n",
      " 0.15   0.2   -1.3573  -7.3775  4.6628 False \n",
      " 0.15   0.25  -0.1419  -6.2292  5.9454 False \n",
      " 0.2    0.25   1.2154  -4.8343  7.2652 False \n",
      "---------------------------------------------\n"
     ]
    }
   ],
   "source": [
    "# Initialize the MultiComparison object\n",
    "MultiComp = MultiComparison(df_2.Quantity, df_2.Discount)\n",
    "\n",
    "# Print the summary table\n",
    "print(MultiComp.tukeyhsd().summary())"
   ]
  },
  {
   "cell_type": "markdown",
   "metadata": {
    "hidden": true
   },
   "source": [
    "The first five rows of results are the ones of interest here: they show comparisons between our chosen discount levels and the non-discounted products. The differences between discounted and non-discounted products are statistically significant at all discount levels _except for 10%_. \n",
    "\n",
    "Given this outcome, I would recommend eliminating 10% discounts from the discounting strategy. Since 5% and 15% discounts correspond to a similar effect (about 6 more products purchased when compared to non-discounted products), changing any 10% discounts to 5% should result in more products purchased _and_ a bigger profit margin.\n",
    "\n",
    "Below is a visualization to summarize the findings of this hypothesis test."
   ]
  },
  {
   "cell_type": "code",
   "execution_count": 24,
   "metadata": {
    "ExecuteTime": {
     "end_time": "2019-10-09T16:43:25.319773Z",
     "start_time": "2019-10-09T16:43:24.856485Z"
    },
    "hidden": true
   },
   "outputs": [
    {
     "data": {
      "image/png": "[encoded data removed]",
      "text/plain": [
       "<Figure size 720x432 with 1 Axes>"
      ]
     },
     "metadata": {
      "needs_background": "light"
     },
     "output_type": "display_data"
    }
   ],
   "source": [
    "# Get sample means to use in calculating effect sizes\n",
    "mean_5_discount = np.mean(df_2[df_2.Discount == 0.05]['Quantity'])\n",
    "mean_10_discount = np.mean(df_2[df_2.Discount == 0.1]['Quantity'])\n",
    "mean_15_discount = np.mean(df_2[df_2.Discount == 0.15]['Quantity'])\n",
    "mean_20_discount = np.mean(df_2[df_2.Discount == 0.2]['Quantity'])\n",
    "mean_25_discount = np.mean(df_2[df_2.Discount == 0.25]['Quantity'])\n",
    "mean_no_discount = np.mean(df_2[df_2.Discount == 0.0]['Quantity'])\n",
    "\n",
    "# Organize x-values (discounts) and y-values (effect sizes) for plotting\n",
    "levels = [5, 10, 15, 20, 25]\n",
    "means = [mean_5_discount, mean_10_discount, mean_15_discount, mean_20_discount, mean_25_discount]\n",
    "mean_diffs = [mean - mean_no_discount for mean in means]\n",
    "\n",
    "# Create a bar plot to show significant effect sizes\n",
    "plt.figure(figsize=(10, 6))\n",
    "plt.bar(levels, mean_diffs, color='lightgreen')\n",
    "plt.bar(x=10, height = mean_10_discount-mean_no_discount, color='white')\n",
    "plt.xlabel('Discount (%)')\n",
    "plt.ylabel('Increase in quantity ordered')\n",
    "plt.title('Increases in quantity ordered at various discount levels')\n",
    "plt.text(x=7, y=1, s='10% discounts have\\nno significant effect', fontsize=14)\n",
    "plt.show();"
   ]
  },
  {
   "cell_type": "markdown",
   "metadata": {},
   "source": [
    "## Hypothesis test 2\n",
    "\n",
    "When discounts are offered, do customers buy more items overall (not just more of the discounted item)?"
   ]
  },
  {
   "cell_type": "markdown",
   "metadata": {},
   "source": [
    "In the first hypothesis test above, we examined whether discounts were associated with customers buying more of a (discounted) product. But this test didn't account for the total quantity of items in an order. When customers receive a discount on some of their items, do they then purchase more items overall? Or do they buy more of the discounted item and fewer other items to compensate? \n",
    "\n",
    "It makes sense that discounting would correspond to increases in overall order size, but if for some reason it <em>didn't</em>, we would want to know so we could investigate further.\n",
    "\n",
    "For this one-tailed test, the hypotheses will be the following:\n",
    "\n",
    "H<sub>0</sub>: mean total quantity for orders without discounts == mean total quantity for orders with discounts\n",
    "\n",
    "H<sub>a</sub>: mean total quantity for orders without discounts < mean total quantity for orders with discounts\n",
    "\n",
    "Alpha (0.05) and power (0.8) will remain the same."
   ]
  },
  {
   "cell_type": "markdown",
   "metadata": {
    "heading_collapsed": true
   },
   "source": [
    "### Prepare the data"
   ]
  },
  {
   "cell_type": "markdown",
   "metadata": {
    "hidden": true
   },
   "source": [
    "For this test, the data will need to be grouped by order and split into orders where one or more products are discounted and orders where no products are discounted.\n",
    "\n",
    "The `Discount_bool` column created earlier will come in handy for partitioning the dataset."
   ]
  },
  {
   "cell_type": "code",
   "execution_count": 25,
   "metadata": {
    "ExecuteTime": {
     "end_time": "2019-10-09T16:43:25.336738Z",
     "start_time": "2019-10-09T16:43:25.322989Z"
    },
    "hidden": true
   },
   "outputs": [],
   "source": [
    "# Get list of orders where no items are discounted\n",
    "group_by_discount_bool = pd.DataFrame(df.groupby('OrderId')['Discount_bool'].sum())\n",
    "ids_no_disc = group_by_discount_bool[group_by_discount_bool.Discount_bool == 0]\n",
    "ids_no_disc = list(ids_no_disc.index)"
   ]
  },
  {
   "cell_type": "code",
   "execution_count": 26,
   "metadata": {
    "ExecuteTime": {
     "end_time": "2019-10-09T16:43:25.351689Z",
     "start_time": "2019-10-09T16:43:25.339884Z"
    },
    "hidden": true,
    "scrolled": true
   },
   "outputs": [],
   "source": [
    "# Get list of orders with at least one discounted item\n",
    "ids_with_disc = group_by_discount_bool[group_by_discount_bool.Discount_bool > 0]\n",
    "ids_with_disc = list(ids_with_disc.index)"
   ]
  },
  {
   "cell_type": "code",
   "execution_count": 27,
   "metadata": {
    "ExecuteTime": {
     "end_time": "2019-10-09T16:43:25.373468Z",
     "start_time": "2019-10-09T16:43:25.355592Z"
    },
    "hidden": true
   },
   "outputs": [],
   "source": [
    "# Confirm that there is no overlap between the lists of ids\n",
    "# (Nothing should print)\n",
    "for item in ids_no_disc:\n",
    "    if item in ids_with_disc:\n",
    "        print(item)\n",
    "        \n",
    "for item in ids_with_disc:\n",
    "    if item in ids_no_disc:\n",
    "        print(item)"
   ]
  },
  {
   "cell_type": "code",
   "execution_count": 28,
   "metadata": {
    "ExecuteTime": {
     "end_time": "2019-10-09T16:43:25.393787Z",
     "start_time": "2019-10-09T16:43:25.378710Z"
    },
    "hidden": true
   },
   "outputs": [],
   "source": [
    "# Subset products by whether they occur in orders with discounts or not\n",
    "orders_discount = df[df.OrderId.isin(ids_with_disc)]\n",
    "orders_no_discount = df[df.OrderId.isin(ids_no_disc)]"
   ]
  },
  {
   "cell_type": "code",
   "execution_count": 29,
   "metadata": {
    "ExecuteTime": {
     "end_time": "2019-10-09T16:43:25.417627Z",
     "start_time": "2019-10-09T16:43:25.396738Z"
    },
    "hidden": true
   },
   "outputs": [
    {
     "name": "stdout",
     "output_type": "stream",
     "text": [
      "OrderId\n",
      "10250     60\n",
      "10251     41\n",
      "10252    105\n",
      "10254     57\n",
      "10258    121\n",
      "Name: Quantity, dtype: int64\n",
      "Sample size: 380\n"
     ]
    }
   ],
   "source": [
    "# Group by order; these orders contain ONE OR MORE discounted items\n",
    "orders_discount = orders_discount.groupby('OrderId')['Quantity'].sum()\n",
    "print(orders_discount.head())\n",
    "print('Sample size:', len(orders_discount))"
   ]
  },
  {
   "cell_type": "code",
   "execution_count": 30,
   "metadata": {
    "ExecuteTime": {
     "end_time": "2019-10-09T16:43:25.437076Z",
     "start_time": "2019-10-09T16:43:25.424214Z"
    },
    "hidden": true,
    "scrolled": true
   },
   "outputs": [
    {
     "name": "stdout",
     "output_type": "stream",
     "text": [
      "OrderId\n",
      "10248     27\n",
      "10249     49\n",
      "10253    102\n",
      "10255    110\n",
      "10256     27\n",
      "Name: Quantity, dtype: int64\n",
      "Sample size: 450\n"
     ]
    }
   ],
   "source": [
    "# Group by order; these orders contain NO discounted items\n",
    "orders_no_discount = orders_no_discount.groupby('OrderId')['Quantity'].sum()\n",
    "print(orders_no_discount.head())\n",
    "print('Sample size:', len(orders_no_discount))"
   ]
  },
  {
   "cell_type": "markdown",
   "metadata": {},
   "source": [
    "### Inspect the distributions"
   ]
  },
  {
   "cell_type": "markdown",
   "metadata": {},
   "source": [
    "First, let's visually inspect the distributions:"
   ]
  },
  {
   "cell_type": "code",
   "execution_count": 31,
   "metadata": {
    "ExecuteTime": {
     "end_time": "2019-10-09T16:43:26.342666Z",
     "start_time": "2019-10-09T16:43:25.441123Z"
    }
   },
   "outputs": [
    {
     "data": {
      "image/png": "[encoded data removed]",
      "text/plain": [
       "<Figure size 576x432 with 1 Axes>"
      ]
     },
     "metadata": {
      "needs_background": "light"
     },
     "output_type": "display_data"
    }
   ],
   "source": [
    "# Create KDE plots of products with and without discounts\n",
    "plt.figure(figsize=(8,6))\n",
    "sns.distplot(orders_no_discount, label='No discount')\n",
    "sns.distplot(orders_discount, label='Discount')\n",
    "plt.axvline(x=np.mean(orders_no_discount), linestyle='--',\n",
    "            label='Mean, no discount')\n",
    "plt.axvline(x=np.mean(orders_discount), linestyle='--', color='orange',\n",
    "            label='Mean, with discount')\n",
    "plt.legend()\n",
    "plt.title('Total order quantities')\n",
    "plt.ylabel('Probability density')\n",
    "plt.show();"
   ]
  },
  {
   "cell_type": "markdown",
   "metadata": {},
   "source": [
    "Both distributions (with and without discounts) appear to be roughly normal, although both are right-skewed. I can also see that the two distributions, while overlapping, do appear to be different (and their means are different). What about their variances?"
   ]
  },
  {
   "cell_type": "code",
   "execution_count": 32,
   "metadata": {
    "ExecuteTime": {
     "end_time": "2019-10-09T16:43:26.355717Z",
     "start_time": "2019-10-09T16:43:26.348141Z"
    },
    "scrolled": false
   },
   "outputs": [
    {
     "name": "stdout",
     "output_type": "stream",
     "text": [
      "2326.464177777778\n",
      "2635.4101038781164\n"
     ]
    }
   ],
   "source": [
    "print(np.var(orders_no_discount))\n",
    "print(np.var(orders_discount))"
   ]
  },
  {
   "cell_type": "code",
   "execution_count": 33,
   "metadata": {
    "ExecuteTime": {
     "end_time": "2019-10-09T16:43:26.373711Z",
     "start_time": "2019-10-09T16:43:26.364348Z"
    }
   },
   "outputs": [
    {
     "data": {
      "text/plain": [
       "LeveneResult(statistic=1.9179524407508215, pvalue=0.16645558467542218)"
      ]
     },
     "execution_count": 33,
     "metadata": {},
     "output_type": "execute_result"
    }
   ],
   "source": [
    "stats.levene(orders_no_discount, orders_discount)"
   ]
  },
  {
   "cell_type": "markdown",
   "metadata": {},
   "source": [
    "Since `orders_no_discount` and `orders_discount` have different sample sizes, means, and variances, I will use a Welch's t-test to determine whether they are different in terms of `Quantity`.\n",
    "\n",
    "Before proceeding, I should check two things: \n",
    "- that the mean total quantities of items in orders, when sampled many times, form a normal distribution;\n",
    "- that the two sample sizes are big enough to let me observe a difference of a certain size.\n",
    "\n",
    "First up: checking the distribution of sample means:"
   ]
  },
  {
   "cell_type": "code",
   "execution_count": 34,
   "metadata": {
    "ExecuteTime": {
     "end_time": "2019-10-09T16:43:26.390783Z",
     "start_time": "2019-10-09T16:43:26.377785Z"
    }
   },
   "outputs": [
    {
     "name": "stdout",
     "output_type": "stream",
     "text": [
      "OrderId\n",
      "10250     60\n",
      "10251     41\n",
      "10252    105\n",
      "10254     57\n",
      "10258    121\n",
      "10260    102\n",
      "10262     29\n",
      "10263    184\n",
      "10264     60\n",
      "10266     12\n",
      "Name: Quantity, dtype: int64\n",
      "830\n"
     ]
    }
   ],
   "source": [
    "# Get a list of all orders' total quantities\n",
    "all_orders = pd.concat([orders_discount, orders_no_discount])\n",
    "print(all_orders[:10])\n",
    "print(len(all_orders))"
   ]
  },
  {
   "cell_type": "code",
   "execution_count": 35,
   "metadata": {
    "ExecuteTime": {
     "end_time": "2019-10-09T16:43:27.226409Z",
     "start_time": "2019-10-09T16:43:26.394201Z"
    },
    "scrolled": true
   },
   "outputs": [
    {
     "data": {
      "image/png": "[encoded data removed]",
      "text/plain": [
       "<Figure size 720x432 with 1 Axes>"
      ]
     },
     "metadata": {
      "needs_background": "light"
     },
     "output_type": "display_data"
    }
   ],
   "source": [
    "# Plot the means of 1000 samples of size 30\n",
    "sample_means = []\n",
    "for n in range(1000):\n",
    "    sample = np.random.choice(all_orders, 30)\n",
    "    mean = np.mean(sample)\n",
    "    sample_means.append(mean)\n",
    "\n",
    "plt.figure(figsize=(10,6))\n",
    "sns.distplot(sample_means)\n",
    "plt.xlabel('Sample means')\n",
    "plt.ylabel('Probability density')\n",
    "plt.title('Distribution of sample means\\n1000 samples of n=30')\n",
    "plt.show();"
   ]
  },
  {
   "cell_type": "markdown",
   "metadata": {},
   "source": [
    "That looks pretty normal. I will assume that the data is independent and reasonably random as well.\n",
    "\n",
    "And now to see what effect sizes I can expect given the sample sizes I have. Given the smaller numbers of observations now that the data is grouped into orders, I will have to settle for a larger effect size of at least 11, keeping alpha at 0.05 and power at 0.8."
   ]
  },
  {
   "cell_type": "code",
   "execution_count": 36,
   "metadata": {
    "ExecuteTime": {
     "end_time": "2019-10-09T16:43:27.250743Z",
     "start_time": "2019-10-09T16:43:27.230804Z"
    }
   },
   "outputs": [
    {
     "name": "stdout",
     "output_type": "stream",
     "text": [
      "Cohen's d: 0.20702881324258446\n"
     ]
    }
   ],
   "source": [
    "# Calculate Cohen's d\n",
    "effect_size = 10.5\n",
    "pop_std = np.std(df.groupby('OrderId')['Quantity'].sum())\n",
    "\n",
    "d = effect_size / pop_std\n",
    "print('Cohen\\'s d:', d)"
   ]
  },
  {
   "cell_type": "code",
   "execution_count": 37,
   "metadata": {
    "ExecuteTime": {
     "end_time": "2019-10-09T16:43:27.309036Z",
     "start_time": "2019-10-09T16:43:27.255182Z"
    }
   },
   "outputs": [
    {
     "data": {
      "text/plain": [
       "367.2106371060832"
      ]
     },
     "execution_count": 37,
     "metadata": {},
     "output_type": "execute_result"
    }
   ],
   "source": [
    "# Use power analysis to find sample size needed\n",
    "power_analysis = TTestIndPower()\n",
    "power_analysis.solve_power(effect_size=d, alpha=alpha, power=power)"
   ]
  },
  {
   "cell_type": "markdown",
   "metadata": {},
   "source": [
    "I should be able to observe an effect size of at least 10.5 (more items added to a customer's order) with the sample sizes I have (380 and 450, calculated above). Time to move on to a Welch's t-test."
   ]
  },
  {
   "cell_type": "markdown",
   "metadata": {
    "heading_collapsed": true
   },
   "source": [
    "### Perform Welch's t-test"
   ]
  },
  {
   "cell_type": "markdown",
   "metadata": {
    "hidden": true
   },
   "source": [
    "Now I can run a Welch's t-test to compare the total quantities of items in orders with and without discounts to see if they are significantly different."
   ]
  },
  {
   "cell_type": "code",
   "execution_count": 38,
   "metadata": {
    "ExecuteTime": {
     "end_time": "2019-10-09T16:43:27.337381Z",
     "start_time": "2019-10-09T16:43:27.316510Z"
    },
    "hidden": true
   },
   "outputs": [
    {
     "name": "stdout",
     "output_type": "stream",
     "text": [
      "Null hypothesis rejected (p_value = 2.9253389710603983e-09)\n"
     ]
    }
   ],
   "source": [
    "# Perform Welch's t-test\n",
    "run_welch(orders_no_discount, orders_discount)"
   ]
  },
  {
   "cell_type": "markdown",
   "metadata": {
    "hidden": true
   },
   "source": [
    "In rejecting the null hypothesis, we are finding that when a discount is applied to any item in an order, customers tend to buy more items overall. This is what we hoped to find, and it confirms that discounting is an effective strategy for increasing the quantities of products sold. \n",
    "\n",
    "Let's see how big the effect is:"
   ]
  },
  {
   "cell_type": "code",
   "execution_count": 39,
   "metadata": {
    "ExecuteTime": {
     "end_time": "2019-10-09T16:43:27.360144Z",
     "start_time": "2019-10-09T16:43:27.341477Z"
    },
    "hidden": true
   },
   "outputs": [
    {
     "data": {
      "text/plain": [
       "20.50473684210526"
      ]
     },
     "execution_count": 39,
     "metadata": {},
     "output_type": "execute_result"
    }
   ],
   "source": [
    "# Calculate effect size\n",
    "np.mean(orders_discount) - np.mean(orders_no_discount)"
   ]
  },
  {
   "cell_type": "markdown",
   "metadata": {
    "hidden": true
   },
   "source": [
    "That's 20.5 more items per order on average when any item in an order has been discounted. Note that this is a bigger effect than the one we saw earlier. Customers buy only about 5 to 6 more of a particular item when it is discounted, but they buy about 20 more items on average&mdash;both discounted and non-discounted ones&mdash;when at least one item in their cart comes with a discount.\n",
    "\n",
    "The plot below summarizes this finding. Based on this hypothesis test, I would recommend determining the most popular items and consistently offering discounts on those, since the presence of any discounted item in an order corresponds to more items ordered overall."
   ]
  },
  {
   "cell_type": "code",
   "execution_count": 40,
   "metadata": {
    "ExecuteTime": {
     "end_time": "2019-10-09T16:43:27.929905Z",
     "start_time": "2019-10-09T16:43:27.372606Z"
    },
    "hidden": true
   },
   "outputs": [
    {
     "data": {
      "image/png": "[encoded data removed]",
      "text/plain": [
       "<Figure size 864x576 with 1 Axes>"
      ]
     },
     "metadata": {
      "needs_background": "light"
     },
     "output_type": "display_data"
    }
   ],
   "source": [
    "# Plot mean item counts for orders with and without discounts\n",
    "y_values = [np.mean(orders_discount), np.mean(orders_no_discount)]\n",
    "x_values = ['Discount(s)', 'No discount(s)']\n",
    "\n",
    "plt.figure(figsize=(12,8))\n",
    "plt.bar(x_values, y_values, color='green')\n",
    "plt.bar(x_values[0], y_values[0], color='lightgreen')\n",
    "plt.text(x=-0.20, y=60, s='20.5 more items\\non average', fontsize=16)\n",
    "plt.ylabel('Items per order')\n",
    "plt.title('Average number of items per order')\n",
    "plt.show();"
   ]
  },
  {
   "cell_type": "markdown",
   "metadata": {},
   "source": [
    "## Hypothesis test 3\n",
    "\n",
    "When discounts are offered, do customers actually spend more per order?"
   ]
  },
  {
   "cell_type": "markdown",
   "metadata": {},
   "source": [
    "The previous test showed that customers tend to buy more items when discounts are offered, but are they actually spending more? Although that seems likely, it would be worthwhile to know for certain whether the total dollar amounts of orders with discounts are higher than those without discounts, and by how much.\n",
    "\n",
    "For this one-tailed test, the hypotheses will be the following:\n",
    "\n",
    "H<sub>0</sub>: mean total dollar amount of orders without discounts == mean total dollar amount of orders with discounts\n",
    "\n",
    "H<sub>a</sub>: mean total dollar amount of orders without discounts < mean total dollar amount of orders with discounts\n",
    "\n",
    "Alpha (0.05) and power (0.8) will remain the same."
   ]
  },
  {
   "cell_type": "markdown",
   "metadata": {
    "heading_collapsed": true
   },
   "source": [
    "### Prepare the data"
   ]
  },
  {
   "cell_type": "markdown",
   "metadata": {
    "hidden": true
   },
   "source": [
    "To prepare the data for analysis, I first need to repeat some steps from the last test to split the data into orders that contain no discounted items and orders that contain one or more discounted items."
   ]
  },
  {
   "cell_type": "code",
   "execution_count": 41,
   "metadata": {
    "ExecuteTime": {
     "end_time": "2019-10-09T16:43:27.953034Z",
     "start_time": "2019-10-09T16:43:27.932760Z"
    },
    "hidden": true
   },
   "outputs": [],
   "source": [
    "# Subset products by whether they occur in orders with discounts or not\n",
    "orders_discount = df[df.OrderId.isin(ids_with_disc)]\n",
    "orders_no_discount = df[df.OrderId.isin(ids_no_disc)]"
   ]
  },
  {
   "cell_type": "code",
   "execution_count": 42,
   "metadata": {
    "ExecuteTime": {
     "end_time": "2019-10-09T16:43:27.973717Z",
     "start_time": "2019-10-09T16:43:27.959919Z"
    },
    "hidden": true
   },
   "outputs": [
    {
     "name": "stdout",
     "output_type": "stream",
     "text": [
      "OrderId\n",
      "10250    1552.60\n",
      "10251     654.06\n",
      "10252    3597.90\n",
      "10254     556.62\n",
      "10258    1614.88\n",
      "Name: ProductTotal, dtype: float64\n",
      "Sample size: 380\n"
     ]
    }
   ],
   "source": [
    "# Group by order; these orders contain ONE OR MORE discounted items\n",
    "orders_discount = orders_discount.groupby('OrderId')['ProductTotal'].sum()\n",
    "print(orders_discount.head())\n",
    "print('Sample size:', len(orders_discount))"
   ]
  },
  {
   "cell_type": "code",
   "execution_count": 43,
   "metadata": {
    "ExecuteTime": {
     "end_time": "2019-10-09T16:43:27.997286Z",
     "start_time": "2019-10-09T16:43:27.982279Z"
    },
    "hidden": true
   },
   "outputs": [
    {
     "name": "stdout",
     "output_type": "stream",
     "text": [
      "OrderId\n",
      "10248     440.0\n",
      "10249    1863.4\n",
      "10253    1444.8\n",
      "10255    2490.5\n",
      "10256     517.8\n",
      "Name: ProductTotal, dtype: float64\n",
      "Sample size: 450\n"
     ]
    }
   ],
   "source": [
    "# Group by order; these orders contain NO discounted items\n",
    "orders_no_discount = orders_no_discount.groupby('OrderId')['ProductTotal'].sum()\n",
    "print(orders_no_discount.head())\n",
    "print('Sample size:', len(orders_no_discount))"
   ]
  },
  {
   "cell_type": "markdown",
   "metadata": {
    "hidden": true
   },
   "source": [
    "This time I have aggregated on the `ProductTotal` column, which contains the unit price times quantity times any discount to equal the price charged for each product in an order. The values in the series `orders_discount` and `orders_no_discount` represent the sums of the costs of all products in each order."
   ]
  },
  {
   "cell_type": "markdown",
   "metadata": {},
   "source": [
    "### Inspect the distributions"
   ]
  },
  {
   "cell_type": "code",
   "execution_count": 44,
   "metadata": {
    "ExecuteTime": {
     "end_time": "2019-10-09T16:43:29.336878Z",
     "start_time": "2019-10-09T16:43:28.020380Z"
    },
    "scrolled": true
   },
   "outputs": [
    {
     "data": {
      "image/png": "[encoded data removed]",
      "text/plain": [
       "<Figure size 576x432 with 1 Axes>"
      ]
     },
     "metadata": {
      "needs_background": "light"
     },
     "output_type": "display_data"
    }
   ],
   "source": [
    "# Create KDE plots of products with and without discounts\n",
    "plt.figure(figsize=(8,6))\n",
    "sns.distplot(orders_no_discount, label='No discount')\n",
    "sns.distplot(orders_discount, label='Discount')\n",
    "plt.axvline(x=np.mean(orders_no_discount), linestyle='--',\n",
    "            label='Mean, no discount')\n",
    "plt.axvline(x=np.mean(orders_discount), linestyle='--', color='orange',\n",
    "            label='Mean, with discount')\n",
    "plt.legend()\n",
    "plt.title('Total order dollar values')\n",
    "plt.ylabel('Probability density')\n",
    "plt.show();"
   ]
  },
  {
   "cell_type": "markdown",
   "metadata": {},
   "source": [
    "Both distributions (with and without discounts) appear to be roughly normal, although both are right-skewed. I can also see that the two distributions, while overlapping, do appear to be different (and their means are different). What about their variances?"
   ]
  },
  {
   "cell_type": "code",
   "execution_count": 45,
   "metadata": {
    "ExecuteTime": {
     "end_time": "2019-10-09T16:43:29.397969Z",
     "start_time": "2019-10-09T16:43:29.368267Z"
    },
    "scrolled": false
   },
   "outputs": [
    {
     "name": "stdout",
     "output_type": "stream",
     "text": [
      "3206922.148851487\n",
      "3571935.418875696\n"
     ]
    }
   ],
   "source": [
    "print(np.var(orders_no_discount))\n",
    "print(np.var(orders_discount))"
   ]
  },
  {
   "cell_type": "code",
   "execution_count": 46,
   "metadata": {
    "ExecuteTime": {
     "end_time": "2019-10-09T16:43:29.443444Z",
     "start_time": "2019-10-09T16:43:29.430318Z"
    }
   },
   "outputs": [
    {
     "data": {
      "text/plain": [
       "LeveneResult(statistic=0.7142671292235668, pvalue=0.3982749993804965)"
      ]
     },
     "execution_count": 46,
     "metadata": {},
     "output_type": "execute_result"
    }
   ],
   "source": [
    "stats.levene(orders_no_discount, orders_discount)"
   ]
  },
  {
   "cell_type": "markdown",
   "metadata": {},
   "source": [
    "Since `orders_no_discount` and `orders_discount` have different sample sizes, means, and variances, I will use a Welch's t-test to determine whether they are different in terms of `ProductTotal`.\n",
    "\n",
    "Before proceeding, I should check two things: \n",
    "- that the mean total dollar values of orders, when sampled many times, form a normal distribution;\n",
    "- that the two sample sizes are big enough to let me observe a difference of a certain size.\n",
    "\n",
    "First up: checking the distribution of sample means:"
   ]
  },
  {
   "cell_type": "code",
   "execution_count": 47,
   "metadata": {
    "ExecuteTime": {
     "end_time": "2019-10-09T16:43:29.496445Z",
     "start_time": "2019-10-09T16:43:29.473116Z"
    }
   },
   "outputs": [
    {
     "name": "stdout",
     "output_type": "stream",
     "text": [
      "OrderId\n",
      "10250    1552.600\n",
      "10251     654.060\n",
      "10252    3597.900\n",
      "10254     556.620\n",
      "10258    1614.880\n",
      "10260    1504.650\n",
      "10262     584.000\n",
      "10263    1873.800\n",
      "10264     695.625\n",
      "10266     346.560\n",
      "Name: ProductTotal, dtype: float64\n",
      "830\n"
     ]
    }
   ],
   "source": [
    "# Get a list of all orders' total quantities\n",
    "all_orders = pd.concat([orders_discount, orders_no_discount])\n",
    "print(all_orders[:10])\n",
    "print(len(all_orders))"
   ]
  },
  {
   "cell_type": "code",
   "execution_count": 48,
   "metadata": {
    "ExecuteTime": {
     "end_time": "2019-10-09T16:43:30.239200Z",
     "start_time": "2019-10-09T16:43:29.510655Z"
    },
    "scrolled": true
   },
   "outputs": [
    {
     "data": {
      "image/png": "[encoded data removed]",
      "text/plain": [
       "<Figure size 720x432 with 1 Axes>"
      ]
     },
     "metadata": {
      "needs_background": "light"
     },
     "output_type": "display_data"
    }
   ],
   "source": [
    "# Plot the means of 1000 samples of size 30\n",
    "sample_means = []\n",
    "for n in range(1000):\n",
    "    sample = np.random.choice(all_orders, 30)\n",
    "    mean = np.mean(sample)\n",
    "    sample_means.append(mean)\n",
    "\n",
    "plt.figure(figsize=(10,6))\n",
    "sns.distplot(sample_means)\n",
    "plt.xlabel('Sample means')\n",
    "plt.ylabel('Probability density')\n",
    "plt.title('Distribution of sample means\\n1000 samples of n=30')\n",
    "plt.show();"
   ]
  },
  {
   "cell_type": "markdown",
   "metadata": {},
   "source": [
    "That looks pretty normal (although a little skewed to the right). I will assume that the data is independent and reasonably random as well.\n",
    "\n",
    "And now to see what effect sizes I can expect given the sample sizes I have. Given the smaller numbers of observations now that the data is grouped into orders, I will have to settle for a larger effect size of at least 376, keeping alpha at 0.05 and power at 0.8."
   ]
  },
  {
   "cell_type": "code",
   "execution_count": 49,
   "metadata": {
    "ExecuteTime": {
     "end_time": "2019-10-09T16:43:30.261476Z",
     "start_time": "2019-10-09T16:43:30.242986Z"
    }
   },
   "outputs": [
    {
     "name": "stdout",
     "output_type": "stream",
     "text": [
      "Cohen's d: 0.20389717936588783\n"
     ]
    }
   ],
   "source": [
    "# Calculate Cohen's d\n",
    "effect_size = 376\n",
    "pop_std = np.std(df.groupby('OrderId')['ProductTotal'].sum())\n",
    "\n",
    "d = effect_size / pop_std\n",
    "print('Cohen\\'s d:', d)"
   ]
  },
  {
   "cell_type": "code",
   "execution_count": 50,
   "metadata": {
    "ExecuteTime": {
     "end_time": "2019-10-09T16:43:30.293213Z",
     "start_time": "2019-10-09T16:43:30.271733Z"
    }
   },
   "outputs": [
    {
     "data": {
      "text/plain": [
       "1844.0667064122472"
      ]
     },
     "execution_count": 50,
     "metadata": {},
     "output_type": "execute_result"
    }
   ],
   "source": [
    "pop_std"
   ]
  },
  {
   "cell_type": "code",
   "execution_count": 51,
   "metadata": {
    "ExecuteTime": {
     "end_time": "2019-10-09T16:43:30.348543Z",
     "start_time": "2019-10-09T16:43:30.307226Z"
    }
   },
   "outputs": [
    {
     "data": {
      "text/plain": [
       "378.547276897468"
      ]
     },
     "execution_count": 51,
     "metadata": {},
     "output_type": "execute_result"
    }
   ],
   "source": [
    "# Use power analysis to find sample size needed\n",
    "power_analysis = TTestIndPower()\n",
    "power_analysis.solve_power(effect_size=d, alpha=alpha, power=power)"
   ]
  },
  {
   "cell_type": "markdown",
   "metadata": {},
   "source": [
    "I should be able to observe an effect size of at least 376 (more dollars spent per order on average) with the sample sizes I have (380 and 450, calculated above). Time to move on to a Welch's t-test."
   ]
  },
  {
   "cell_type": "markdown",
   "metadata": {},
   "source": [
    "### Perform Welch's t-test"
   ]
  },
  {
   "cell_type": "markdown",
   "metadata": {},
   "source": [
    "Now I can run a Welch's t-test to determine whether there is a significant difference between the mean total dollar amounts of orders with and without discounts."
   ]
  },
  {
   "cell_type": "code",
   "execution_count": 52,
   "metadata": {
    "ExecuteTime": {
     "end_time": "2019-10-09T16:43:30.369947Z",
     "start_time": "2019-10-09T16:43:30.357450Z"
    },
    "scrolled": true
   },
   "outputs": [
    {
     "name": "stdout",
     "output_type": "stream",
     "text": [
      "Null hypothesis rejected (p_value = 0.005626924599663519)\n"
     ]
    }
   ],
   "source": [
    "# Perform Welch's t-test and print the results\n",
    "run_welch(orders_no_discount, orders_discount)"
   ]
  },
  {
   "cell_type": "markdown",
   "metadata": {},
   "source": [
    "The results of the t-test indicate that we can reject the null hypothesis; there is indeed a significant difference between the mean total dollar amounts of orders with and without discounts.\n",
    "\n",
    "How big is that difference?"
   ]
  },
  {
   "cell_type": "code",
   "execution_count": 53,
   "metadata": {
    "ExecuteTime": {
     "end_time": "2019-10-09T16:43:30.409479Z",
     "start_time": "2019-10-09T16:43:30.399047Z"
    }
   },
   "outputs": [
    {
     "data": {
      "text/plain": [
       "327.02002266081854"
      ]
     },
     "execution_count": 53,
     "metadata": {},
     "output_type": "execute_result"
    }
   ],
   "source": [
    "# Calculate effect size\n",
    "np.mean(orders_discount) - np.mean(orders_no_discount)"
   ]
  },
  {
   "cell_type": "markdown",
   "metadata": {},
   "source": [
    "Orders with discounts amount to \\\\$327.02 more on average than orders without discounts. This calculation does not account for the value of discounts in an order, just their presence. For instance, some orders may include only items with large discounts, while other orders may have many non-discounted items and only one item discounted at a low value (e.g., 5\\%). This calculation tells us, however, that orders including at least one discounted item can bring in over $300 more in gross revenue on average than orders where no item has been discounted. \n",
    "\n",
    "Having seen these results, I would reiterate my recommendation from the previous test. Getting a discounted item into every shopping cart should be a priority, and the most convenient way to do that may be to offer small discounts year-round on the most popular items."
   ]
  },
  {
   "cell_type": "code",
   "execution_count": 54,
   "metadata": {
    "ExecuteTime": {
     "end_time": "2019-10-09T16:43:31.031123Z",
     "start_time": "2019-10-09T16:43:30.415322Z"
    },
    "scrolled": true
   },
   "outputs": [
    {
     "ename": "NameError",
     "evalue": "name 'popular_indices' is not defined",
     "output_type": "error",
     "traceback": [
      "\u001b[0;31m---------------------------------------------------------------------------\u001b[0m",
      "\u001b[0;31mNameError\u001b[0m                                 Traceback (most recent call last)",
      "\u001b[0;32m<ipython-input-54-e8c0e48e4b0e>\u001b[0m in \u001b[0;36m<module>\u001b[0;34m()\u001b[0m\n\u001b[0;32m----> 1\u001b[0;31m \u001b[0mplt\u001b[0m\u001b[0;34m.\u001b[0m\u001b[0mbar\u001b[0m\u001b[0;34m(\u001b[0m\u001b[0mpopular_indices\u001b[0m\u001b[0;34m,\u001b[0m \u001b[0mdf\u001b[0m\u001b[0;34m.\u001b[0m\u001b[0mProductId\u001b[0m\u001b[0;34m.\u001b[0m\u001b[0mvalue_counts\u001b[0m\u001b[0;34m(\u001b[0m\u001b[0;34m)\u001b[0m\u001b[0;34m[\u001b[0m\u001b[0;34m:\u001b[0m\u001b[0;36m10\u001b[0m\u001b[0;34m]\u001b[0m\u001b[0;34m)\u001b[0m\u001b[0;34m\u001b[0m\u001b[0m\n\u001b[0m",
      "\u001b[0;31mNameError\u001b[0m: name 'popular_indices' is not defined"
     ]
    }
   ],
   "source": [
    "plt.bar(popular_indices, df.ProductId.value_counts()[:10])"
   ]
  },
  {
   "cell_type": "code",
   "execution_count": null,
   "metadata": {
    "ExecuteTime": {
     "end_time": "2019-10-09T16:43:31.034596Z",
     "start_time": "2019-10-09T16:43:19.158Z"
    },
    "scrolled": false
   },
   "outputs": [],
   "source": [
    "popular_indices = ['59', '31', '24', '60', '56', '62', '41', '75', '2', '16']\n",
    "# popular = [df[df.ProductId == index] for index in popular_indices]\n",
    "\n",
    "rows = []\n",
    "for index in popular_indices:\n",
    "    print(df[df.ProductId == index])"
   ]
  },
  {
   "cell_type": "code",
   "execution_count": null,
   "metadata": {},
   "outputs": [],
   "source": []
  },
  {
   "cell_type": "markdown",
   "metadata": {},
   "source": [
    "## Hypothesis test 4\n",
    "\n",
    "Put the motivating question here."
   ]
  },
  {
   "cell_type": "markdown",
   "metadata": {},
   "source": [
    "Hypotheses"
   ]
  },
  {
   "cell_type": "markdown",
   "metadata": {},
   "source": [
    "### Prepare the data"
   ]
  },
  {
   "cell_type": "code",
   "execution_count": null,
   "metadata": {
    "ExecuteTime": {
     "end_time": "2019-10-09T16:43:31.037784Z",
     "start_time": "2019-10-09T16:43:19.171Z"
    }
   },
   "outputs": [],
   "source": [
    "#"
   ]
  },
  {
   "cell_type": "markdown",
   "metadata": {},
   "source": [
    "### Inspect the distributions"
   ]
  },
  {
   "cell_type": "markdown",
   "metadata": {},
   "source": [
    "### Perform Welch's t-test"
   ]
  },
  {
   "cell_type": "code",
   "execution_count": null,
   "metadata": {
    "ExecuteTime": {
     "end_time": "2019-10-09T16:43:31.040527Z",
     "start_time": "2019-10-09T16:43:19.179Z"
    }
   },
   "outputs": [],
   "source": [
    "#"
   ]
  },
  {
   "cell_type": "markdown",
   "metadata": {},
   "source": [
    "# Interpretation and recommendations"
   ]
  },
  {
   "cell_type": "markdown",
   "metadata": {},
   "source": [
    "Given the outcome of Hypothesis Test 1, I would recommend eliminating 10% discounts from the discounting strategy. Since 5% and 15% discounts correspond to a similar effect (about 6 more products purchased when compared to non-discounted products), changing any 10% discounts to 5% should result in more products purchased and a bigger profit margin.\n",
    "\n",
    "Based on Hypothesis Test 2, I would recommend determining the most popular items and consistently offering discounts on those, since the presence of any discounted item in an order corresponds to more items ordered overall.\n",
    "\n",
    "Having seen the results of Test 3, I would reiterate my recommendation from the previous test. Getting a discounted item into every shopping cart should be a priority, and the most convenient way to do that may be to offer small discounts year-round on the most popular items."
   ]
  },
  {
   "cell_type": "code",
   "execution_count": null,
   "metadata": {},
   "outputs": [],
   "source": []
  }
 ],
 "metadata": {
  "kernelspec": {
   "display_name": "learn-env",
   "language": "python",
   "name": "learn-env"
  },
  "language_info": {
   "codemirror_mode": {
    "name": "ipython",
    "version": 3
   },
   "file_extension": ".py",
   "mimetype": "text/x-python",
   "name": "python",
   "nbconvert_exporter": "python",
   "pygments_lexer": "ipython3",
   "version": "3.6.6"
  },
  "toc": {
   "base_numbering": 1,
   "nav_menu": {},
   "number_sections": true,
   "sideBar": true,
   "skip_h1_title": false,
   "title_cell": "Table of Contents",
   "title_sidebar": "Contents",
   "toc_cell": false,
   "toc_position": {},
   "toc_section_display": true,
   "toc_window_display": false
  }
 },
 "nbformat": 4,
 "nbformat_minor": 2
}
